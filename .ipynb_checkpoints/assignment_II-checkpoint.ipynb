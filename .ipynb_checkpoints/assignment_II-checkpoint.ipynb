{
 "cells": [
  {
   "cell_type": "markdown",
   "metadata": {},
   "source": [
    "### Homework 2: Plotting Functions and Sequences\n",
    "\n",
    "**OBJECTIVES**\n",
    "\n",
    "- Use Python to define and plot functions\n",
    "- Differentiate between linear, quadratic, exponential, and trigonometric sequences\n",
    "- Relate functions to data"
   ]
  },
  {
   "cell_type": "markdown",
   "metadata": {},
   "source": [
    "#### Problem 1: Importing Libraries\n",
    "\n",
    "Run the cell below to load in the `numpy` and `matplotlib` libraries."
   ]
  },
  {
   "cell_type": "code",
   "execution_count": null,
   "metadata": {},
   "outputs": [],
   "source": [
    "import numpy as np\n",
    "import matplotlib.pyplot as plt"
   ]
  },
  {
   "cell_type": "markdown",
   "metadata": {},
   "source": [
    "#### Problem 2: Using a function\n",
    "\n",
    "Below, the function $s(x) = x^2$ is defined. Use the function to evaluate $f(100)$."
   ]
  },
  {
   "cell_type": "code",
   "execution_count": null,
   "metadata": {},
   "outputs": [],
   "source": [
    "def s(x):\n",
    "    return x**2"
   ]
  },
  {
   "cell_type": "code",
   "execution_count": null,
   "metadata": {},
   "outputs": [],
   "source": [
    "#your answer here\n"
   ]
  },
  {
   "cell_type": "markdown",
   "metadata": {},
   "source": [
    "#### Problem 3: Using `np.arange`\n",
    "\n",
    "Use the `np.arange` function to create the following sequences below:\n",
    "\n",
    "a. $x1 = [0, 1, 2, 3, ..., 9, 10]$\n",
    "\n",
    "b. $x2 = [10, 10.1, 10.2, ..., 10.9, 11]$\n",
    "\n",
    "c. $x3 = [0, 0.01, 0.02, 0.03, ..., 9.98, 9.99, 10.0]$\n",
    "\n",
    "d. $x4 = [-\\pi, -\\pi/2, 0, \\pi/2, \\pi]$"
   ]
  },
  {
   "cell_type": "code",
   "execution_count": null,
   "metadata": {},
   "outputs": [],
   "source": [
    "# answer for x1\n"
   ]
  },
  {
   "cell_type": "code",
   "execution_count": null,
   "metadata": {},
   "outputs": [],
   "source": [
    "# answer for x2\n"
   ]
  },
  {
   "cell_type": "code",
   "execution_count": null,
   "metadata": {},
   "outputs": [],
   "source": [
    "# answer for x3\n"
   ]
  },
  {
   "cell_type": "code",
   "execution_count": null,
   "metadata": {},
   "outputs": [],
   "source": [
    "# answer for x4\n"
   ]
  },
  {
   "cell_type": "markdown",
   "metadata": {},
   "source": [
    "#### Problem 4: Defining Functions\n",
    "\n",
    "Use code cells to define each of the following functions:\n",
    "\n",
    "1. $f(x) = \\frac{1}{x^2}$\n",
    "2. $g(x) = 3x + 1$\n",
    "3. $h(x) = \\frac{x^2 - 9}{x + 3}$"
   ]
  },
  {
   "cell_type": "code",
   "execution_count": null,
   "metadata": {},
   "outputs": [],
   "source": [
    "#f\n"
   ]
  },
  {
   "cell_type": "code",
   "execution_count": null,
   "metadata": {},
   "outputs": [],
   "source": [
    "#g\n"
   ]
  },
  {
   "cell_type": "code",
   "execution_count": null,
   "metadata": {},
   "outputs": [],
   "source": [
    "#h\n"
   ]
  },
  {
   "cell_type": "markdown",
   "metadata": {},
   "source": [
    "#### Problem 5: Plotting functions\n",
    "\n",
    "Use `x` defined below to create a plot for the functions $f(x), g(x)$, and $h(x)$ from problem 4 below."
   ]
  },
  {
   "cell_type": "code",
   "execution_count": null,
   "metadata": {},
   "outputs": [],
   "source": [
    "x = np.arange(-5, 5, .1)"
   ]
  },
  {
   "cell_type": "code",
   "execution_count": null,
   "metadata": {},
   "outputs": [],
   "source": [
    "#plot f\n"
   ]
  },
  {
   "cell_type": "code",
   "execution_count": null,
   "metadata": {},
   "outputs": [],
   "source": [
    "#plot g\n"
   ]
  },
  {
   "cell_type": "code",
   "execution_count": null,
   "metadata": {},
   "outputs": [],
   "source": [
    "#plot h\n"
   ]
  },
  {
   "cell_type": "markdown",
   "metadata": {},
   "source": [
    "#### Problem 6: From words to graphs\n",
    "\n",
    "For each of the problems below, your goal is to represent the situation as a closed form function.  Plot the function on an appropriate domain."
   ]
  },
  {
   "cell_type": "markdown",
   "metadata": {},
   "source": [
    "1. Steve owns a Tesla car.  When he leaves his house it has a charge of 70 units.  Every mile Steve travels consumes .23 units from the battery.  Let $q(x)$ represent the amount of charge after $x$ miles.\n",
    "\n",
    "2. A student borrows \\\\$10,000 from an online bank with a great social media advertising team.  He has to pay the bank back at simple interest, calculated as .6% per month.  Determine an equation that represents the balance after $n$ months assuming no payments.  Can you incorporate a term to represent a fixed monthly payment in the amount $p$ and see how long it would take to pay off the loan making \\\\$200 monthly payments?"
   ]
  },
  {
   "cell_type": "markdown",
   "metadata": {},
   "source": [
    "3. A company manufactures bags.  The total cost for a single bag to be made with both materials and labor is \\\\$18.  The company also has expenses of \\\\$5,000 per month for rent, insurance, and utilities that are independent of the number of bags made.  Determine a function $b(x)$ that determines the monthly cost of the business when $x$ bags are produced."
   ]
  },
  {
   "cell_type": "code",
   "execution_count": null,
   "metadata": {},
   "outputs": [],
   "source": []
  },
  {
   "cell_type": "code",
   "execution_count": null,
   "metadata": {},
   "outputs": [],
   "source": []
  },
  {
   "cell_type": "code",
   "execution_count": null,
   "metadata": {},
   "outputs": [],
   "source": []
  },
  {
   "cell_type": "code",
   "execution_count": null,
   "metadata": {},
   "outputs": [],
   "source": []
  },
  {
   "cell_type": "markdown",
   "metadata": {},
   "source": [
    "#### Problem 7: Graphs to Symbols\n",
    "\n",
    "Below, a dataset containing basic macroeconomic variables displayed below is loaded and plotted.  Approximate by eye stimate a linear function that models the data?  This should be of the form $f(g) = \\text{unemployment}$ where $g$ is the GNP."
   ]
  },
  {
   "cell_type": "code",
   "execution_count": null,
   "metadata": {},
   "outputs": [],
   "source": [
    "import statsmodels.api as sm"
   ]
  },
  {
   "cell_type": "code",
   "execution_count": null,
   "metadata": {},
   "outputs": [],
   "source": [
    "longley = sm.datasets.longley.data.load_pandas()\n",
    "data = longley.data\n",
    "data.head()"
   ]
  },
  {
   "cell_type": "code",
   "execution_count": null,
   "metadata": {},
   "outputs": [],
   "source": [
    "plt.scatter(data['GNP'], data['UNEMP'])\n",
    "plt.xlabel('GNP')\n",
    "plt.ylabel(\"Unemployment\")\n",
    "plt.title('GNP vs. Unemployment');"
   ]
  },
  {
   "cell_type": "code",
   "execution_count": null,
   "metadata": {},
   "outputs": [],
   "source": []
  },
  {
   "cell_type": "markdown",
   "metadata": {},
   "source": [
    "#### Problem 8: Table to Symbols\n",
    "\n",
    "Below is a table of U.S. automobiles through time.  Your goal is to plot the data and determine a linear function to model the data.  \n",
    "\n",
    "| Year | Automobiles |\n",
    "| ----- | ------- |\n",
    "| 1940  |  27.5  |\n",
    "| 1950. | 40.3. |\n",
    "| 1960  |  61.7  |\n",
    "| 1970  |  89.3. |\n",
    "| 1980  | 121.6. |\n",
    "| 1986. | 135.4 |\n",
    "\n",
    "Use your function to predict how many automobiles there would be in the year 2000."
   ]
  },
  {
   "cell_type": "code",
   "execution_count": null,
   "metadata": {},
   "outputs": [],
   "source": []
  },
  {
   "cell_type": "code",
   "execution_count": null,
   "metadata": {},
   "outputs": [],
   "source": []
  },
  {
   "cell_type": "markdown",
   "metadata": {},
   "source": [
    "#### Problem 9: Supply and Demand\n",
    "\n",
    "Use the table below to answer the following questions.\n",
    "\n",
    "| Price | Demand | Supply |\n",
    "| ----- | ----- | ------- |\n",
    "| 120. | 50 | 36 |\n",
    "| 150 | 40 | 40 |\n",
    "| 180. | 32 | 48 |\n",
    "| 210 | 28 | 56 |\n",
    "| 240 | 24 | 70 |\n",
    "\n",
    "1. Plot price vs. demand.  \n",
    "2. Plot supply vs. demand.\n",
    "3. At what price is the supply equal to 100?  Explain.\n",
    "4. If the price is 130, what would the quantity supplied and demanded be?  Who is in a better position here -- producer or consumer?\n",
    "5. If the price is 200, what would the quantity supplied and demanded be?  Who is in a better position here -- producer or consumer?"
   ]
  },
  {
   "cell_type": "code",
   "execution_count": null,
   "metadata": {},
   "outputs": [],
   "source": []
  },
  {
   "cell_type": "code",
   "execution_count": null,
   "metadata": {},
   "outputs": [],
   "source": []
  },
  {
   "cell_type": "code",
   "execution_count": null,
   "metadata": {},
   "outputs": [],
   "source": []
  },
  {
   "cell_type": "code",
   "execution_count": null,
   "metadata": {},
   "outputs": [],
   "source": []
  },
  {
   "cell_type": "code",
   "execution_count": null,
   "metadata": {},
   "outputs": [],
   "source": []
  },
  {
   "cell_type": "markdown",
   "metadata": {},
   "source": [
    "#### Problem 10: Pascal's Triangle\n",
    "\n",
    "Watch the Numberphile video below on patterns in Pascal's triangle.  Identify one pattern you find interesting and discuss this below.  Create a plot of the pattern (sequence) below."
   ]
  },
  {
   "cell_type": "code",
   "execution_count": null,
   "metadata": {},
   "outputs": [],
   "source": [
    "from IPython.display import YouTubeVideo"
   ]
  },
  {
   "cell_type": "code",
   "execution_count": null,
   "metadata": {},
   "outputs": [],
   "source": [
    "YouTubeVideo(id = '0iMtlus-afo')"
   ]
  },
  {
   "cell_type": "code",
   "execution_count": null,
   "metadata": {},
   "outputs": [],
   "source": []
  },
  {
   "cell_type": "code",
   "execution_count": null,
   "metadata": {},
   "outputs": [],
   "source": []
  },
  {
   "cell_type": "code",
   "execution_count": null,
   "metadata": {},
   "outputs": [],
   "source": []
  },
  {
   "cell_type": "code",
   "execution_count": null,
   "metadata": {},
   "outputs": [],
   "source": []
  }
 ],
 "metadata": {
  "kernelspec": {
   "display_name": "Python 3",
   "language": "python",
   "name": "python3"
  },
  "language_info": {
   "codemirror_mode": {
    "name": "ipython",
    "version": 3
   },
   "file_extension": ".py",
   "mimetype": "text/x-python",
   "name": "python",
   "nbconvert_exporter": "python",
   "pygments_lexer": "ipython3",
   "version": "3.8.3"
  }
 },
 "nbformat": 4,
 "nbformat_minor": 4
}
