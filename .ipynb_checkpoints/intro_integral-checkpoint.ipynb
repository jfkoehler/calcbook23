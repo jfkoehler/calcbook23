{
 "cells": [
  {
   "cell_type": "markdown",
   "id": "dc2301d3-68dd-4687-bb21-1649b3f464e6",
   "metadata": {},
   "source": [
    "### The Problem of Areas\n",
    "\n",
    "\n",
    "![](images/newton_integral.png)\n"
   ]
  },
  {
   "cell_type": "code",
   "execution_count": 1,
   "id": "71dc7421-3cb9-459e-bf16-b1429848328e",
   "metadata": {},
   "outputs": [],
   "source": [
    "import matplotlib.pyplot as plt\n",
    "import numpy as np"
   ]
  },
  {
   "cell_type": "markdown",
   "id": "8721ed11-3243-4af9-97e7-7343906189c9",
   "metadata": {},
   "source": [
    "#### Problem 1: Parabola\n",
    "\n",
    "Consider the area under the curve:\n",
    "\n",
    "$$f(x) = -x^2 + 4$$ from $x = -1$ until $x = 1$"
   ]
  },
  {
   "cell_type": "code",
   "execution_count": 2,
   "id": "04ce1ad3-3557-43d9-a095-c291d45df826",
   "metadata": {},
   "outputs": [],
   "source": [
    "#define the function\n"
   ]
  },
  {
   "cell_type": "code",
   "execution_count": 3,
   "id": "1d8fd840-7929-44fa-a037-d23d7daf57bc",
   "metadata": {},
   "outputs": [],
   "source": [
    "#domain from -2.5 to 2.5 \n"
   ]
  },
  {
   "cell_type": "code",
   "execution_count": 4,
   "id": "37d56779-10d2-4b52-b1f2-fe9d91ac2b4b",
   "metadata": {},
   "outputs": [],
   "source": [
    "#plot the function with grid and color the region\n"
   ]
  },
  {
   "cell_type": "markdown",
   "id": "89842925-7f9f-43e3-ad6c-e6a384d83ebc",
   "metadata": {},
   "source": [
    "##### Using Rectangles\n",
    "\n",
    "The first approach we will use is to build a small number of rectangles to approximate the area.\n",
    "\n",
    "- What are the $x$ coordinates for these rectangles if we use 4 rectangles with equal spacing?\n",
    "- What would the height of the rectangles be and why?\n",
    "- Find the area of each rectangle.\n",
    "- Add these areas together."
   ]
  },
  {
   "cell_type": "code",
   "execution_count": 17,
   "id": "96d34960-7ccb-4791-889e-9d50b77970b3",
   "metadata": {},
   "outputs": [],
   "source": [
    "#x values\n"
   ]
  },
  {
   "cell_type": "code",
   "execution_count": 6,
   "id": "edfa3769-cf15-4bb3-a6c2-8ed06f34e08c",
   "metadata": {},
   "outputs": [],
   "source": [
    "#heights?\n"
   ]
  },
  {
   "cell_type": "code",
   "execution_count": 7,
   "id": "23715dcc-7c7a-44f4-aab7-b2cc9ca7dbb7",
   "metadata": {},
   "outputs": [],
   "source": [
    "#areas \n"
   ]
  },
  {
   "cell_type": "code",
   "execution_count": 9,
   "id": "9c2f881b-33f4-407b-afe0-32f6d94fda6b",
   "metadata": {},
   "outputs": [],
   "source": [
    "#total area approx\n"
   ]
  },
  {
   "cell_type": "markdown",
   "id": "4e142af2-9023-4cb1-9090-880a5c4cbfce",
   "metadata": {},
   "source": [
    "##### Improving the Approximation\n",
    "\n",
    "Use 8 rectangles and repeat the example above.  \n",
    "\n",
    "- What are the $x$-coordinates for each rectangle\n",
    "- What is the height of the rectangle\n",
    "- What is the area of each rectangle\n",
    "- What is the total area of each rectangle. "
   ]
  },
  {
   "cell_type": "code",
   "execution_count": 10,
   "id": "19c51d69-c0dd-4204-b478-45a9eb4e529e",
   "metadata": {},
   "outputs": [],
   "source": [
    "#x-values\n"
   ]
  },
  {
   "cell_type": "code",
   "execution_count": null,
   "id": "2901de08-4644-4c3c-a973-1ea470da221e",
   "metadata": {},
   "outputs": [],
   "source": [
    "#width of each rectangle?\n"
   ]
  },
  {
   "cell_type": "code",
   "execution_count": 11,
   "id": "b23b8563-cc9e-41b6-9f01-27ae63e16d5c",
   "metadata": {},
   "outputs": [],
   "source": [
    "#heights\n"
   ]
  },
  {
   "cell_type": "code",
   "execution_count": 12,
   "id": "28bdad31-2089-49b1-a8fe-72f7c7f90ffd",
   "metadata": {},
   "outputs": [],
   "source": [
    "#areas\n"
   ]
  },
  {
   "cell_type": "code",
   "execution_count": 18,
   "id": "c86e4a06-e66d-41be-8f07-449a7243a467",
   "metadata": {},
   "outputs": [],
   "source": [
    "#total areas\n"
   ]
  },
  {
   "cell_type": "markdown",
   "id": "1b83be88-9245-4aa3-a729-be3bb27c4156",
   "metadata": {},
   "source": [
    "##### Problem \n",
    "\n",
    "Use 16 rectangles and repeat above."
   ]
  },
  {
   "cell_type": "code",
   "execution_count": 46,
   "id": "3c2d97e4-d7a4-4e80-b324-94d3a3855e8a",
   "metadata": {},
   "outputs": [],
   "source": [
    "#x coordinates\n"
   ]
  },
  {
   "cell_type": "code",
   "execution_count": 47,
   "id": "c7adfc57-3055-4117-9419-d00491a02d8e",
   "metadata": {},
   "outputs": [],
   "source": [
    "#heights\n"
   ]
  },
  {
   "cell_type": "code",
   "execution_count": 48,
   "id": "24d42d85-e06f-4d6f-a4e2-07ad4f2a291a",
   "metadata": {},
   "outputs": [],
   "source": [
    "#areas\n"
   ]
  },
  {
   "cell_type": "code",
   "execution_count": 49,
   "id": "0e78f5ce-b1b6-4ad4-a7d6-b2311dd9a83f",
   "metadata": {},
   "outputs": [],
   "source": [
    "#total area\n"
   ]
  },
  {
   "cell_type": "markdown",
   "id": "8da62a7b-7f2a-4e4f-af59-70e04656d2ac",
   "metadata": {},
   "source": [
    "**QUESTIONS**\n",
    "\n",
    "- Which of these was the best approximation and why?\n",
    "- Repeat the above process to estimate the area under the given curves with given boundaries:\n",
    "\n",
    "1. $f(x) = \\sin{x}$ on $[0, 2\\pi]$.  Draw a plot of the region, and start with 4 rectangles to approximate the area under the curve."
   ]
  },
  {
   "cell_type": "code",
   "execution_count": null,
   "id": "5f6d3faa-24dd-460d-854a-bd8d65c363a4",
   "metadata": {},
   "outputs": [],
   "source": []
  },
  {
   "cell_type": "code",
   "execution_count": null,
   "id": "3e281ec2-63b4-4086-84bf-204b30248125",
   "metadata": {},
   "outputs": [],
   "source": []
  },
  {
   "cell_type": "code",
   "execution_count": null,
   "id": "e729d15c-71c2-4197-b8a1-9f88bfc78858",
   "metadata": {},
   "outputs": [],
   "source": []
  },
  {
   "cell_type": "code",
   "execution_count": null,
   "id": "5f8e823d-fe5d-4b4e-a9fe-a993a20b5d83",
   "metadata": {},
   "outputs": [],
   "source": []
  },
  {
   "cell_type": "code",
   "execution_count": null,
   "id": "793413f1-cd62-4f9b-87a1-e513408399a9",
   "metadata": {},
   "outputs": [],
   "source": []
  },
  {
   "cell_type": "markdown",
   "id": "3e1c0d4f-0229-4e03-857e-76b59ca70f94",
   "metadata": {},
   "source": [
    "#### Human Work\n",
    "\n",
    "House-painting is a job that can be done by several people working simultaneously, so we can measure the amount of work done in staff-hours. Consider a house-painting business run by some students. Because of class schedules, different numbers of students will be painting at different times of the day. Let $s(t)$ be the number of staff present at time $t$, measured in hours from 8 am, and suppose that during an 8-hour work day, we have:\n",
    "\n",
    "$$s(t) = \\begin{cases} 3 & 0 \\leq t < 2 \\\\ 2 & 2 \\leq t < 4.5 \\\\ 4 & 4.5 \\leq t \\leq 8 \\end{cases}$$"
   ]
  },
  {
   "cell_type": "code",
   "execution_count": 51,
   "id": "440ade7d-b0c2-4006-8761-ab2f09584d8a",
   "metadata": {},
   "outputs": [],
   "source": [
    "def s(t):\n",
    "    return np.piecewise(t,\n",
    "                 [t < 2, t > 2, t > 4.5], \n",
    "                 [3, 2, 4])"
   ]
  },
  {
   "cell_type": "code",
   "execution_count": 52,
   "id": "710bb599-b5b7-46a9-808e-c18a510be005",
   "metadata": {},
   "outputs": [],
   "source": [
    "t = np.linspace(0, 8, 1000)"
   ]
  },
  {
   "cell_type": "code",
   "execution_count": 53,
   "id": "9e1e889a-7acc-41f3-b2ee-e953d9e91e8c",
   "metadata": {},
   "outputs": [
    {
     "data": {
      "text/plain": [
       "array([3., 3., 3., 2., 2., 2., 4., 4., 4., 4.])"
      ]
     },
     "execution_count": 53,
     "metadata": {},
     "output_type": "execute_result"
    }
   ],
   "source": [
    "s(t)[::100]"
   ]
  },
  {
   "cell_type": "code",
   "execution_count": 54,
   "id": "6142415e-e00d-45ad-b662-a4f1f5a120ab",
   "metadata": {},
   "outputs": [
    {
     "data": {
      "image/png": "[encoded data removed]",
      "text/plain": [
       "<Figure size 640x480 with 1 Axes>"
      ]
     },
     "metadata": {},
     "output_type": "display_data"
    }
   ],
   "source": [
    "plt.plot(t, s(t))\n",
    "plt.grid()\n",
    "plt.title('Work Hours at Time $t$')\n",
    "plt.ylim(0, 5);"
   ]
  },
  {
   "cell_type": "markdown",
   "id": "d91e0597-53e1-4b54-a4e3-5467513f99ab",
   "metadata": {},
   "source": [
    "1. What is the total number of staff hours worked at times $t = 1, 2, 3, 4, 5, 6, 7, 8$?\n"
   ]
  },
  {
   "cell_type": "code",
   "execution_count": null,
   "id": "6acd1c5f-90fc-454d-8034-bc22464e59d2",
   "metadata": {},
   "outputs": [],
   "source": []
  },
  {
   "cell_type": "code",
   "execution_count": null,
   "id": "ef97a0ab-8695-4a52-8c8c-3f1df737653d",
   "metadata": {},
   "outputs": [],
   "source": []
  },
  {
   "cell_type": "markdown",
   "id": "19411897-5e91-4464-9f2a-4e8af8144193",
   "metadata": {},
   "source": [
    "2. Suppose that there is a house-painting job to be done, and by past experience the students know that four of them could finish it in 6 hours. But for the first 3.5 hours, only two students can show up, and after that, five will be available.\n",
    "\n",
    "a. How long will the entire job take?\n",
    "b. Draw a graph of he staffing function for this problem.  Mark on the graph when the job is finished.\n",
    "c. Draw the graph of the accumulated work function."
   ]
  },
  {
   "cell_type": "code",
   "execution_count": null,
   "id": "fbd8fcae-a2d2-4538-a299-0d82e9f98815",
   "metadata": {},
   "outputs": [],
   "source": []
  },
  {
   "cell_type": "code",
   "execution_count": null,
   "id": "c0a98baa-4cfa-4217-b3c1-5dc3bc2799a0",
   "metadata": {},
   "outputs": [],
   "source": []
  },
  {
   "cell_type": "code",
   "execution_count": null,
   "id": "774ae67f-bf2c-446a-a5fd-4b1c481dfe0e",
   "metadata": {},
   "outputs": [],
   "source": []
  },
  {
   "cell_type": "code",
   "execution_count": null,
   "id": "dd6898f4-89ab-4a12-b2f5-10cba5f78e1d",
   "metadata": {},
   "outputs": [],
   "source": []
  },
  {
   "cell_type": "code",
   "execution_count": null,
   "id": "e5905b14-17b1-4dfc-b251-1ecb28b80403",
   "metadata": {},
   "outputs": [],
   "source": []
  },
  {
   "cell_type": "markdown",
   "id": "76c62404-ca20-42dd-91a3-edf39c9808a2",
   "metadata": {},
   "source": [
    "##### Problem: Computing Distance Traveled\n",
    "\n",
    "Suppose you are traveling in a vehicle that moves at the following speed in miles per hour at given time $t$ (in hours):\n",
    "\n",
    "$$v(t) \\begin{cases} 10 & t < 3 \\\\ 2t & 3 \\leq t \\leq 5 \\\\ 20 & t > 5 \\end{cases}$$"
   ]
  },
  {
   "cell_type": "markdown",
   "id": "daa82d42-34a1-4c98-a4e6-d914efab2589",
   "metadata": {},
   "source": [
    "1. How far would you travel in the first hour?\n",
    "2. 2 hours?\n",
    "3. 3 hours?\n",
    "4. 5 hours?\n",
    "5. 10 hours?"
   ]
  },
  {
   "cell_type": "code",
   "execution_count": null,
   "id": "1a2a7a74-2394-4d93-b5e7-3bcc6c584c0c",
   "metadata": {},
   "outputs": [],
   "source": []
  },
  {
   "cell_type": "code",
   "execution_count": null,
   "id": "bb1853e7-0b9d-4bbb-8cd4-6a96e99b6853",
   "metadata": {},
   "outputs": [],
   "source": []
  },
  {
   "cell_type": "code",
   "execution_count": null,
   "id": "d5c60bfe-ce2e-46f2-aa17-8545c2e54730",
   "metadata": {},
   "outputs": [],
   "source": []
  },
  {
   "cell_type": "code",
   "execution_count": null,
   "id": "eda0f1da-cc80-4612-90b3-ec172a035e1a",
   "metadata": {},
   "outputs": [],
   "source": []
  },
  {
   "cell_type": "code",
   "execution_count": null,
   "id": "6b76bc01-ceba-4d4a-9dd7-37e229f378ac",
   "metadata": {},
   "outputs": [],
   "source": []
  },
  {
   "cell_type": "markdown",
   "id": "5496415b-624f-48c9-a5ac-97ed4ef14fab",
   "metadata": {},
   "source": [
    "##### How much energy consumed\n",
    "\n",
    "Use the table below where the power demand for a house is given at time $t$. \n",
    "\n",
    "| $t$ | power |\n",
    "| ----- | ----- |\n",
    "| 1:30 | 275 |\n",
    "| 5:00 | 240 | \n",
    "| 8:00 | 730 |\n",
    "| 9:30 | 300 |\n",
    "| 11:00 | 150 |\n",
    "| 15:00 | 225 |\n",
    "| 18:30 | 1880 |\n",
    "| 20:00 | 950 |\n",
    "| 22:30 | 700 |\n",
    "| 23:00 | 350 |"
   ]
  },
  {
   "cell_type": "code",
   "execution_count": null,
   "id": "7ae6ff82-380c-477c-8cd5-576f6e908c66",
   "metadata": {},
   "outputs": [],
   "source": []
  },
  {
   "cell_type": "code",
   "execution_count": null,
   "id": "dd0a74f6-50c7-4066-8e1d-41389b543480",
   "metadata": {},
   "outputs": [],
   "source": []
  },
  {
   "cell_type": "code",
   "execution_count": null,
   "id": "49ea9844-27c3-4f30-96e5-7f2caf2e20e6",
   "metadata": {},
   "outputs": [],
   "source": []
  },
  {
   "cell_type": "code",
   "execution_count": null,
   "id": "2d04ecd5-8fc6-423b-8742-6b9461efb931",
   "metadata": {},
   "outputs": [],
   "source": []
  },
  {
   "cell_type": "code",
   "execution_count": null,
   "id": "bc39a2c9-3322-4b35-a60d-a2c474eba61a",
   "metadata": {},
   "outputs": [],
   "source": []
  },
  {
   "cell_type": "code",
   "execution_count": null,
   "id": "6c3cf250-d7c8-4983-819c-cf3e526e35fa",
   "metadata": {},
   "outputs": [],
   "source": []
  }
 ],
 "metadata": {
  "kernelspec": {
   "display_name": "Python 3 (ipykernel)",
   "language": "python",
   "name": "python3"
  },
  "language_info": {
   "codemirror_mode": {
    "name": "ipython",
    "version": 3
   },
   "file_extension": ".py",
   "mimetype": "text/x-python",
   "name": "python",
   "nbconvert_exporter": "python",
   "pygments_lexer": "ipython3",
   "version": "3.8.5"
  },
  "widgets": {
   "application/vnd.jupyter.widget-state+json": {
    "state": {},
    "version_major": 2,
    "version_minor": 0
   }
  }
 },
 "nbformat": 4,
 "nbformat_minor": 5
}
