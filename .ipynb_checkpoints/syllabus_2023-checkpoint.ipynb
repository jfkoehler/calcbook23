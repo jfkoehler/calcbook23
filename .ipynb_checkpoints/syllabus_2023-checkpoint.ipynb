{
 "cells": [
  {
   "cell_type": "markdown",
   "metadata": {},
   "source": [
    "**Course Information**\n",
    "\n",
    "- Course Title: Calculus I\n",
    "- Course Number: LMTH 2041\n",
    "- Course CRN: 8536\n",
    "- Instructor Name: Jacob F. Koehler\n",
    "- email: koehlerj@newschool.edu\n",
    "- Monday and Wednesday: 10:00 - 11:40 am Room 411 UC\n",
    "\n"
   ]
  },
  {
   "cell_type": "markdown",
   "metadata": {},
   "source": [
    "## Course Description\n",
    "\n",
    "This course covers the content of a traditional first semester in Calculus with a focus on modeling. Topics include integration and differentiation, the Fundamental Theorem of Calculus, partial derivatives, tangent lines, optimization and basic differential equations. Applications of calculus and differential equations will be drawn from the social and natural sciences. Students will learn how to integrate numerical, geometric and analytic methods to solve problems, as well as to incorporate technology and mathematical software to compute, communicate, and visualize mathematics. This course is offered every spring and fulfills the second mathematics requirement for the Interdisciplinary Science major. It is also an option to fulfill the mathematics requirement for the Economics major."
   ]
  },
  {
   "cell_type": "markdown",
   "metadata": {},
   "source": [
    "### Learning Outcomes\n",
    "\n",
    "- Use functions to model real world data\n",
    "- Approximate definite integrals using summations\n",
    "- Use the definite integral to solve problems around area under a curve and between curves\n",
    "- Use summations and the definite integrals to explore problems from statistics, probability, physics, and economics\n",
    "- Use finite differences to explore rate of change of discrete data\n",
    "- Use derivatives to understand change in continuous data\n",
    "- Use approximate methods to maximize or minimize functions\n",
    "- Represent functions in 3D with plots and contour plots\n",
    "- Use partial derivatives to determine maximum and minimum values in 3D\n",
    "- Solve constrained optimization problems using Lagrangian method\n",
    "- Approximate solutions to differential equations \n",
    "- Solve differential equations using separation of variables\n",
    "- Approximate solutions to differential equations using Euler's method"
   ]
  },
  {
   "cell_type": "markdown",
   "metadata": {},
   "source": [
    "### Schedule\n",
    "\n",
    "\n",
    "| Week | Objectives | Notebooks | Homework | \n",
    "| ----- | ----- | ----- | -------- |\n",
    "| 1: *Introduction to Functions and Representations* | - Use tables, graphs, and words to represent functions</br> - Use Python and Notebooks to create different representations of functions | [0.1]()</br>[0.2]() | [HW 1]() |\n",
    "| 2: *Statistics, probability, and summations* | - Use summation notation to solve a variety of problems</br>- Use mean, variance, and standard deviation to explore data</br>- Use histograms to plot distributions of data</br>- Answer questions about binomial, geometric, and exponential probability distributions | [0.3]()</br>[0.4]() | [HW 2]() |\n",
    "| 3: *The definite integral* | - Use the definition of the definite integral</br>- Use the definite integral to find the Area under a curve</br>-Use the definite integral to find the Area between curves | [1.0]() [1.1]() | [HW 3]() |\n",
    "| 4: *Applications of the definite integral to economics* | - Use the definite integral to understand Consumer Surplus</br>-Use the definite integral to examine equality of distribution with Gini Index | [1.2]()</br>[1.3]() | [HW 4]() |\n",
    "| 5: *Applications of the definite integral to physics* | - Use the definite integral to locate centers of mass</br>- Use the definite integral to determine Work | [1.4]()</br>[1.5]() | [HW 5]() |\n",
    "| 6: *Introduction to the Derivative* | - Use the definition of the derivative to determine slopes of tangent lines</br>- Write and use tangent line equations to approximate function values | [2.1]()</br>[2.2]() | [HW 6]() |\n",
    "| 7: *Derivatives and Extreme Values* | - Use derivatives to find maximum and minimum values of a function</br> - Use tangent lines to find zeros of functions with Newton's Method | [2.3]()</br>[2.4]()| [HW 7]() |\n",
    "| 8: *Applications in Optimization* | - Apply optimization strategies to problems from economics</br> - Use approximation strategies to find minimum values | [2.5]()</br>[2.6]() | [HW 8]() |\n",
    "| 9: *Functions in 3D* | - Plot functions in 3D</br>- Use contour plots to understand 3D functions | [3.1]()</br>[3.2]() | [HW 9]() |\n",
    "| 10: *Optimization in 3D* | - Determine partial derivatives of a function in three dimensions</br>- Use Second derivatives to identify maximum, minimum, and saddle points of functions in 3D | [3.3]()</br>[3.4]() | [HW 10]() |\n",
    "| 11: *Gradients and Constrained Optimization* | - Understand gradient as a vector pointing in direction of steepest ascent</br> - Use Lagrangians to solve optimization problems with constraints | [3.5]()</br>[3.6]()| [HW 11]() |\n",
    "| 12: *Introduction to Differential Equations* | - Identify Differential Equations and their solutions</br> - Use separation of Variables to solve basic Initial Value Problems</br> - Use slope fields to understand nature of solutions to differential equations</br> - Use Euler's method to approximate solutions to differential equations | [ 4.1]()</br>[4.2]() | [HW 12]() |\n",
    "| 13: *Population Models and Differential Equations* | - Model populations with linear, exponential, and logistic differential equation models | [4.3]()</br>[4.4]() | [HW 13]() |\n",
    "\n"
   ]
  },
  {
   "cell_type": "markdown",
   "metadata": {},
   "source": [
    "**Final Grade Calculation**\n",
    "\n",
    "- Weekly Assignments: 50%\n",
    "- Projects: 30%\n",
    "- Attendance and Participation: 20%"
   ]
  },
  {
   "cell_type": "markdown",
   "metadata": {},
   "source": [
    "### Attendance\n",
    "\n",
    "You are expected to attend all sessions and participate actively in the group problem solving activities.  "
   ]
  },
  {
   "cell_type": "markdown",
   "metadata": {},
   "source": [
    "### Course Readings, Materials, and Technology Requirements\n",
    "\n",
    "- *Readings*: We will not use a single text for this class outside of my own notes that follow.  From time to time I may post additional readings in canvas, and suggest additional resources in my notes for each particular section.\n",
    "\n",
    "- *Materials*: Materials will be shared as Jupyter notebooks.  These are freely available to install and use locally through [Anaconda]() and available through your google drive as [Google Colab Notebooks]().  All materials will be made available through both downloadable files in my github repository as well as linked as Google Colab notebooks.\n",
    "\n",
    "- *Technology Requirements*: You need a working computer that has consistent internet access and reasonable memory for using materials locally or through web access.  \n",
    "\n",
    "**Disability Services**\n",
    "\n",
    "- Student Disability Services:  (http://www.newschool.edu/student-disability-services/). \n",
    " \n",
    "> If you are a student with a disability/disabled student, or believe you might have a disability that requires accommodations, please contact the Student Disability Services (SDS) at studentdisability@newschool.edu, or 212-229-5626, to coordinate all reasonable accommodation requests. "
   ]
  },
  {
   "cell_type": "markdown",
   "metadata": {},
   "source": [
    "### University Policies \n",
    " \n",
    "- Academic Integrity Policy found at:  \n",
    "http://www.newschool.edu/policies \n",
    "- The Intellectual Property Rights Policy, found at: http://www.newschool.edu/provost/accreditation-policies/ \n",
    "- For further information on plagiarism, students can be directed to the Learning Center’s website: http://www.newschool.edu/learning-center \n",
    "- Grading policies as found in the academic catalogs or online at https://www.newschool.edu/registrar/grade-policies/ \n",
    "\n",
    "\n",
    "\n"
   ]
  }
 ],
 "metadata": {
  "kernelspec": {
   "display_name": "Python 3 (ipykernel)",
   "language": "python",
   "name": "python3"
  },
  "language_info": {
   "codemirror_mode": {
    "name": "ipython",
    "version": 3
   },
   "file_extension": ".py",
   "mimetype": "text/x-python",
   "name": "python",
   "nbconvert_exporter": "python",
   "pygments_lexer": "ipython3",
   "version": "3.8.5"
  },
  "widgets": {
   "application/vnd.jupyter.widget-state+json": {
    "state": {},
    "version_major": 2,
    "version_minor": 0
   }
  }
 },
 "nbformat": 4,
 "nbformat_minor": 4
}
