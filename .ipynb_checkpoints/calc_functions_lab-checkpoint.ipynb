{
 "cells": [
  {
   "cell_type": "markdown",
   "metadata": {
    "id": "1mm2DFayJz-C"
   },
   "source": [
    "### Working with Functions and Python\n",
    "\n",
    "![](https://upload.wikimedia.org/wikipedia/commons/thumb/d/d5/Unknown_engraver_-_Humani_Victus_Instrumenta_-_Ars_Coquinaria_-_WGA23954.jpg/300px-Unknown_engraver_-_Humani_Victus_Instrumenta_-_Ars_Coquinaria_-_WGA23954.jpg)\n",
    "\n",
    "**OBJECTIVES**\n",
    "\n",
    "- Use text, symbols, graphs, and tables to represent functions\n",
    "- Identify key characteristics of **linear**, **quadratic**, **exponential**, **logarithmic**, and **trigonometric** functions\n",
    "- Explore polar form of functions and their plots"
   ]
  },
  {
   "cell_type": "code",
   "execution_count": null,
   "metadata": {},
   "outputs": [],
   "source": [
    "import numpy as np\n",
    "import matplotlib.pyplot as plt"
   ]
  },
  {
   "cell_type": "markdown",
   "metadata": {
    "id": "WZED5yC7KmQD"
   },
   "source": [
    "### Using text and symbols\n",
    "\n",
    "\n",
    "For the remainder of the class, we will work to present our final work in written form using the computer.  Paper and pencil can be handy for scratching out our ideas and work, but at the end of this we aim to formalize and present our work using the computer. \n",
    "\n",
    "To begin, your aim is to understand how to format text and mathematics like basic functions using `markdown` and `LaTeX`."
   ]
  },
  {
   "cell_type": "markdown",
   "metadata": {
    "id": "VaXSZrsAL78e"
   },
   "source": [
    "**Text Cells**\n",
    "\n",
    "To create a text cell in the notebooks you can hover over cells and use the `+ text` or in the upper left corner of the notebook there is the same button to add a text cell.\n",
    "\n",
    "![](images/textcell.png)"
   ]
  },
  {
   "cell_type": "markdown",
   "metadata": {},
   "source": [
    "These text cells render normal text but also `HTML`, `markdown`, and `LaTeX`.  There are basic formatting tools in the cells in the notebook but you are also able to format text explicitly.  Below, text is shown that will format mathematical functions.  To center the equation on the page we use `$$ equation $$` \n",
    "\n",
    "```\n",
    "$$f(x) = 3x^4 - 2x + 10$$\n",
    "```"
   ]
  },
  {
   "cell_type": "markdown",
   "metadata": {},
   "source": [
    "Create a text cell below and add the text directly -- you should see $f(x) = 3x^4 - 2x + 10$ rendered."
   ]
  },
  {
   "cell_type": "code",
   "execution_count": null,
   "metadata": {},
   "outputs": [],
   "source": []
  },
  {
   "cell_type": "markdown",
   "metadata": {},
   "source": [
    "#### Problems\n",
    "\n",
    "What does the following text produce?  \n",
    "\n",
    "```\n",
    "1. $$f(x) = \\frac{1}{x}$$\n",
    "2. $$g(x) = \\sin(x)$$\n",
    "3. $$a_n = \\frac{n^2}{2}$$\n",
    "```"
   ]
  },
  {
   "cell_type": "markdown",
   "metadata": {},
   "source": [
    "1. $$f(x) = \\frac{1}{x}$$"
   ]
  },
  {
   "cell_type": "markdown",
   "metadata": {},
   "source": [
    "2. $$g(x) = \\sin(x)$$"
   ]
  },
  {
   "cell_type": "markdown",
   "metadata": {},
   "source": [
    "3. $$a_n = \\frac{n^2}{2}$$"
   ]
  },
  {
   "cell_type": "markdown",
   "metadata": {},
   "source": [
    "### Symbols from words\n",
    "\n",
    "1. a retail store owner who wants to sell T-shirts advertising his brand. He recalls that there is a fixed cost and variable cost, although he does not remember the values. He does know that the T-shirt printing company charges \\\\$440 for 20 shirts and \\\\$1000 for 100 shirts.  Find the equation  $c = f(x)$ that describes the total cost as a function of number of shirts and b. determine how many shirts he must sell to break even if he sells the shirts for \\$10 each."
   ]
  },
  {
   "cell_type": "markdown",
   "metadata": {},
   "source": [
    "```{solution}\n",
    "because the price varies by 560 for 80 shirts this equates an increase of 7 for each shirt\n",
    "\n",
    "this also let's us know that 0 shirts would cost 300 -- so our function would be\n",
    "\n",
    "$f(x) = 300 + 7x$\n",
    "```\n",
    "\n"
   ]
  },
  {
   "cell_type": "markdown",
   "metadata": {},
   "source": [
    "2. Starting with 1, add 4 every time.  Represent this as a function $g(n)$ that takes in an index and returns the term of the sequence at that value."
   ]
  },
  {
   "cell_type": "markdown",
   "metadata": {},
   "source": [
    "$$g(n) = 1 + 4n$$"
   ]
  },
  {
   "cell_type": "markdown",
   "metadata": {},
   "source": [
    "### Symbols to computer \n",
    "\n",
    "In Python, we define functions as\n",
    "\n",
    "```python\n",
    "def function_name(input):\n",
    "    return output\n",
    "```\n",
    "\n"
   ]
  },
  {
   "cell_type": "markdown",
   "metadata": {},
   "source": [
    "To evaluate the function at a given value, we call the function as:\n",
    "\n",
    "```python\n",
    "function_name(input_val)\n",
    "```\n",
    "\n",
    "This is demonstrated below."
   ]
  },
  {
   "cell_type": "code",
   "execution_count": null,
   "metadata": {},
   "outputs": [],
   "source": [
    "def f(x):\n",
    "    return x**2"
   ]
  },
  {
   "cell_type": "code",
   "execution_count": null,
   "metadata": {},
   "outputs": [],
   "source": [
    "f(3)"
   ]
  },
  {
   "cell_type": "markdown",
   "metadata": {},
   "source": [
    "Using python and the name conventions below please define the following functions and evaluate them at the suggested points:\n",
    "\n",
    "1. $f(x) = x^3$, at $x = 2$\n",
    "2. $g(x) = 1/x$ at $x = 1/10$\n",
    "3. $h(x) = x^4 - 2x + 1$ at $x = -2.1$"
   ]
  },
  {
   "cell_type": "code",
   "execution_count": null,
   "metadata": {},
   "outputs": [],
   "source": [
    "#define function f\n"
   ]
  },
  {
   "cell_type": "code",
   "execution_count": null,
   "metadata": {},
   "outputs": [],
   "source": [
    "#define function g\n"
   ]
  },
  {
   "cell_type": "code",
   "execution_count": null,
   "metadata": {},
   "outputs": [],
   "source": [
    "#define function h\n"
   ]
  },
  {
   "cell_type": "markdown",
   "metadata": {},
   "source": [
    "### Domain for functions\n",
    "\n",
    "Typically a function will be evaluated at more than one point.  We use the `np.arange` function to define domains of a function.  For example, to evaluate the function $f(x) = x^2$ at $x = [1, 2, 3, 4]$ we need to define the function and a variable to serve as the domain."
   ]
  },
  {
   "cell_type": "code",
   "execution_count": null,
   "metadata": {},
   "outputs": [],
   "source": [
    "def f(x):\n",
    "    return x**2"
   ]
  },
  {
   "cell_type": "code",
   "execution_count": null,
   "metadata": {},
   "outputs": [],
   "source": [
    "x = np.arange(1, 5)\n",
    "x"
   ]
  },
  {
   "cell_type": "code",
   "execution_count": null,
   "metadata": {},
   "outputs": [],
   "source": [
    "f(x)"
   ]
  },
  {
   "cell_type": "markdown",
   "metadata": {},
   "source": [
    "#### Plotting\n",
    "\n",
    "With a function and domain defined, we can use `plt.plot` to generate a plot of a function."
   ]
  },
  {
   "cell_type": "code",
   "execution_count": null,
   "metadata": {},
   "outputs": [],
   "source": [
    "plt.plot(x, f(x))"
   ]
  },
  {
   "cell_type": "markdown",
   "metadata": {},
   "source": [
    "##### Problems\n",
    "\n",
    "For each of the following, functions below, define them and determine the given domain.  Create a plot of the given function.\n",
    "\n",
    "1. $f(x) = x^3$, at $x = [-3, -2, -1, 0, 1, 2, 3]$\n",
    "2. $g(x) = 1/x$ at $x = [1, 2, 3, ..., 10]$\n",
    "3. $h(x) = x^4 - 2x + 1$ at $x = [0, .1, .2, .3, ..., 4.9, 5.0]$\n",
    "\n"
   ]
  },
  {
   "cell_type": "code",
   "execution_count": null,
   "metadata": {},
   "outputs": [],
   "source": []
  },
  {
   "cell_type": "code",
   "execution_count": null,
   "metadata": {},
   "outputs": [],
   "source": []
  },
  {
   "cell_type": "code",
   "execution_count": null,
   "metadata": {},
   "outputs": [],
   "source": []
  },
  {
   "cell_type": "markdown",
   "metadata": {},
   "source": [
    "#### Plotting non-polynomial functions\n",
    "\n",
    "There are common functions that are not as easily constructed.  For example:\n",
    "\n",
    "- $f(x) = \\sin(x)$\n",
    "- $g(x) = e^x$\n",
    "- $h(x) = \\log(x)$\n",
    "- $j(x) = \\sqrt{x}$\n",
    "\n",
    "Here, we can use `numpy` to determine each of these."
   ]
  },
  {
   "cell_type": "markdown",
   "metadata": {},
   "source": [
    "1. $f(x) = \\sin{x}$ on $x \\in [-2\\pi, 2\\pi]$"
   ]
  },
  {
   "cell_type": "code",
   "execution_count": null,
   "metadata": {},
   "outputs": [],
   "source": [
    "#sin function\n"
   ]
  },
  {
   "cell_type": "code",
   "execution_count": null,
   "metadata": {},
   "outputs": [],
   "source": [
    "#domain\n"
   ]
  },
  {
   "cell_type": "code",
   "execution_count": null,
   "metadata": {},
   "outputs": [],
   "source": [
    "#plot\n"
   ]
  },
  {
   "cell_type": "markdown",
   "metadata": {},
   "source": [
    "2. $g(x) = e^x$ on $x \\in [-5, 10]$"
   ]
  },
  {
   "cell_type": "code",
   "execution_count": null,
   "metadata": {},
   "outputs": [],
   "source": [
    "# exponential function\n"
   ]
  },
  {
   "cell_type": "code",
   "execution_count": null,
   "metadata": {},
   "outputs": [],
   "source": [
    "#domain\n"
   ]
  },
  {
   "cell_type": "code",
   "execution_count": null,
   "metadata": {},
   "outputs": [],
   "source": [
    "#plot\n"
   ]
  },
  {
   "cell_type": "markdown",
   "metadata": {},
   "source": [
    "3. $h(x) = \\log{x}$ on $x \\in [0, 10]$ "
   ]
  },
  {
   "cell_type": "code",
   "execution_count": null,
   "metadata": {},
   "outputs": [],
   "source": [
    "# logarithm \n"
   ]
  },
  {
   "cell_type": "code",
   "execution_count": null,
   "metadata": {},
   "outputs": [],
   "source": [
    "# domain\n"
   ]
  },
  {
   "cell_type": "code",
   "execution_count": null,
   "metadata": {},
   "outputs": [],
   "source": [
    "#plot\n"
   ]
  },
  {
   "cell_type": "markdown",
   "metadata": {},
   "source": [
    "#### Partial sums of functions\n",
    "\n",
    "Given the function $f(x) = x^2$ on $x \\in [0, 1, 2, 3, 4]$ draw a plot of the function and determine the partial sum of the terms of $f(x)$ using `np.cumsum`."
   ]
  },
  {
   "cell_type": "code",
   "execution_count": null,
   "metadata": {},
   "outputs": [],
   "source": []
  },
  {
   "cell_type": "code",
   "execution_count": null,
   "metadata": {},
   "outputs": [],
   "source": []
  },
  {
   "cell_type": "code",
   "execution_count": null,
   "metadata": {},
   "outputs": [],
   "source": []
  }
 ],
 "metadata": {
  "colab": {
   "provenance": []
  },
  "kernelspec": {
   "display_name": "Python 3",
   "language": "python",
   "name": "python3"
  },
  "language_info": {
   "codemirror_mode": {
    "name": "ipython",
    "version": 3
   },
   "file_extension": ".py",
   "mimetype": "text/x-python",
   "name": "python",
   "nbconvert_exporter": "python",
   "pygments_lexer": "ipython3",
   "version": "3.8.3"
  }
 },
 "nbformat": 4,
 "nbformat_minor": 4
}
