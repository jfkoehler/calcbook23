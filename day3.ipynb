{
 "cells": [
  {
   "cell_type": "markdown",
   "id": "d2d2559b-8f2d-41d0-abe7-1c3f2b57dd23",
   "metadata": {},
   "source": [
    "### Sequences and Summations\n",
    "\n",
    "**Objectives**\n",
    "\n",
    "- Generate terms of a binomial sequence\n",
    "- Form sequences of partial sums\n",
    "- Look for patterns in partial sums\n",
    "\n"
   ]
  },
  {
   "cell_type": "markdown",
   "id": "31eff217-187d-4492-8c51-d32533dcc604",
   "metadata": {},
   "source": [
    "#### Problem: Sennett\n",
    "\n",
    "An ancient egyptian game of sennet involves dropping two colored sticks and moving based on the resulting stick color combination.  Your goal is to complete the table below, and determine the number of ways for each outcome to occur.\n",
    "\n",
    "| num sticks | 0 red | 1 red | 2 red | 3 red | 4 red | 5 red |\n",
    "| ---------- | ----- | ----- | ----- | ------ | ----- | ------ |\n",
    "| 1 | 1 | 1 | -- | -- | -- | -- |\n",
    "| 2 | 1 | 2 | 1 | -- | -- | -- |\n",
    "| 3 | $~$ | $~$ | $~$ | $~$ | $~$ | $~$ |\n",
    "| 4 | $~$ | $~$ | $~$ | $~$ | $~$ | $~$ |\n",
    "| 5 | $~$ | $~$ | $~$ | $~$ | $~$ | $~$ |"
   ]
  },
  {
   "cell_type": "markdown",
   "id": "1d23366d-ff00-408c-adad-25b75546e4b4",
   "metadata": {},
   "source": [
    "#### Problem: Partial Sums\n",
    "\n",
    "Given the sequence below, we aim to evaluate the sum of a sequence and form a sequence based on these sums.  For example, take the sequence:\n",
    "\n",
    "$$a_n = 1, 1, 1, 1, 1, 1, 1, 1, 1, 1$$\n",
    "\n",
    "the sequence formed by the sum of the first $n$ terms would be:\n",
    "\n",
    "$$s_n = 1, 2, 3, 4, ... $$\n",
    "\n",
    "Your goal for each of the following sequences is to create a sequence of partial sums, and try to generate a recursive and closed form definition of that sequence of sums."
   ]
  },
  {
   "cell_type": "markdown",
   "id": "5e742280-3668-41a3-838d-daaf8c179ecd",
   "metadata": {},
   "source": [
    "1. $a_n = 1, 2, 3, 4, 5, ...$\n",
    "2. $a_n = 1^3, 2^3, 3^3,  4^3$"
   ]
  },
  {
   "cell_type": "markdown",
   "id": "2c83451a-97a8-4d46-87d6-3dc939692629",
   "metadata": {},
   "source": [
    "### The Big Idea and Notation\n",
    "\n",
    "Create a sequence, and create a sequence from sums of the terms of the sequence.  Let's move to a slightly different expression of these ideas where we form sequences based on functions defined in closed form.  For each of the examples below use:\n",
    "\n",
    "$$x = 1, 2, 3, 4, 5, 6, 7, 8, 9, 10$$\n",
    "\n",
    "to evaluate the given function $f$.  Create a spreadsheet and visualize $f(x)$.  Next, create a sequence of partial sums on the same sheet and plot the sequence of partial sums alongside the functions.  \n",
    "\n",
    "1. $f(x) = 1$\n",
    "2. $f(x) = x$\n",
    "3. $f(x) = x^2$\n",
    "4. $f(x) = x^3$\n",
    "5. $f(x) = x^4$"
   ]
  },
  {
   "cell_type": "markdown",
   "id": "45b45558-58f0-4214-891d-7d9106b82235",
   "metadata": {},
   "source": [
    "### Using Python and Notebooks"
   ]
  },
  {
   "cell_type": "markdown",
   "id": "44af2882-d195-4adc-a62e-507030088751",
   "metadata": {},
   "source": [
    "While google sheets are nice, and there are many spaces that you may use a spreadsheet -- we want to move to some more powerful and flexible tools.  To begin, we aim to use Python to perform the operations we have used to this point.  These are:\n",
    "\n",
    "- Define and use functions\n",
    "- Visualize functions\n",
    "- Form sequences of partial sums in Python"
   ]
  },
  {
   "cell_type": "markdown",
   "id": "b9787f50-4606-41dd-a066-016c03aa18a0",
   "metadata": {},
   "source": [
    "#### Some Basics\n",
    "\n",
    "- Addition: `+`\n",
    "- Subtraction: `-`\n",
    "- Multiplication: `*`\n",
    "- Division: `/`\n",
    "- Exponents: `**`"
   ]
  },
  {
   "cell_type": "code",
   "execution_count": 8,
   "id": "ef4bb50e-bd03-4322-b059-64cf4aee79e9",
   "metadata": {},
   "outputs": [
    {
     "data": {
      "text/plain": [
       "7"
      ]
     },
     "execution_count": 8,
     "metadata": {},
     "output_type": "execute_result"
    }
   ],
   "source": [
    "#addition\n",
    "3 + 4"
   ]
  },
  {
   "cell_type": "code",
   "execution_count": 9,
   "id": "fc9d405c-5d52-435b-95d8-ea5b5268f34d",
   "metadata": {},
   "outputs": [
    {
     "data": {
      "text/plain": [
       "-5"
      ]
     },
     "execution_count": 9,
     "metadata": {},
     "output_type": "execute_result"
    }
   ],
   "source": [
    "#subtraction\n",
    "3 - 8"
   ]
  },
  {
   "cell_type": "code",
   "execution_count": 10,
   "id": "6cd280aa-4c80-42f1-8560-1ad8aa6b630c",
   "metadata": {},
   "outputs": [
    {
     "data": {
      "text/plain": [
       "20"
      ]
     },
     "execution_count": 10,
     "metadata": {},
     "output_type": "execute_result"
    }
   ],
   "source": [
    "#multiplication\n",
    "2*10"
   ]
  },
  {
   "cell_type": "code",
   "execution_count": 11,
   "id": "5fd45638-26bf-46a2-9f64-103ef577ab68",
   "metadata": {},
   "outputs": [
    {
     "data": {
      "text/plain": [
       "3.3333333333333335"
      ]
     },
     "execution_count": 11,
     "metadata": {},
     "output_type": "execute_result"
    }
   ],
   "source": [
    "#division\n",
    "10/3"
   ]
  },
  {
   "cell_type": "code",
   "execution_count": 12,
   "id": "77a1b97a-259e-4899-8559-661eaf894dca",
   "metadata": {},
   "outputs": [
    {
     "data": {
      "text/plain": [
       "16"
      ]
     },
     "execution_count": 12,
     "metadata": {},
     "output_type": "execute_result"
    }
   ],
   "source": [
    "#exponents\n",
    "2**4"
   ]
  },
  {
   "cell_type": "markdown",
   "id": "69d28652-a75c-4b6c-a651-392d02b1ae7a",
   "metadata": {},
   "source": [
    "#### Defining functions\n",
    "\n",
    "```python\n",
    "def f(x):\n",
    "    return x**2\n",
    "```\n",
    "\n",
    "The above code defines a function that will take in a number and return its square.  After running a code cell with this definition you can use the function with `f(2)`."
   ]
  },
  {
   "cell_type": "code",
   "execution_count": 6,
   "id": "7867313b-ae35-45ca-a047-95cf45184ebc",
   "metadata": {},
   "outputs": [],
   "source": [
    "#define a function\n",
    "def f(x):\n",
    "    return x**2"
   ]
  },
  {
   "cell_type": "code",
   "execution_count": 7,
   "id": "479dede7-cc17-4747-84ba-0cc098e2efd2",
   "metadata": {},
   "outputs": [
    {
     "data": {
      "text/plain": [
       "4"
      ]
     },
     "execution_count": 7,
     "metadata": {},
     "output_type": "execute_result"
    }
   ],
   "source": [
    "#use the function\n",
    "f(2)"
   ]
  },
  {
   "cell_type": "markdown",
   "id": "0c72a118-2e73-47b2-8551-5df0fe3fd544",
   "metadata": {},
   "source": [
    "Use the functions defined below to evaluate the following:\n",
    "\n",
    "1. $f(0)$\n",
    "2. $g(0)$\n",
    "3. $f(10)$\n",
    "4. $g(.10)$\n",
    "5. $g(0)$"
   ]
  },
  {
   "cell_type": "code",
   "execution_count": 13,
   "id": "08def362-ae9e-434b-b704-a743e02f7873",
   "metadata": {},
   "outputs": [],
   "source": [
    "def f(x):\n",
    "    return x - 4\n",
    "\n",
    "def g(x):\n",
    "    return 1/x"
   ]
  },
  {
   "cell_type": "code",
   "execution_count": 14,
   "id": "36da2e35-b0f1-486b-acda-840bc0561540",
   "metadata": {},
   "outputs": [],
   "source": [
    "#f(0)\n"
   ]
  },
  {
   "cell_type": "code",
   "execution_count": 15,
   "id": "1c49126c-7c13-4c56-95e0-40dcb35c01fd",
   "metadata": {},
   "outputs": [],
   "source": [
    "#g(0)\n"
   ]
  },
  {
   "cell_type": "code",
   "execution_count": 16,
   "id": "e899ced2-4281-45be-8562-988384f3dc05",
   "metadata": {},
   "outputs": [],
   "source": [
    "#f(10)\n"
   ]
  },
  {
   "cell_type": "code",
   "execution_count": 17,
   "id": "d36ac24f-0ff2-4834-8645-795816dc4efd",
   "metadata": {},
   "outputs": [],
   "source": [
    "#g(.1)\n"
   ]
  },
  {
   "cell_type": "code",
   "execution_count": 18,
   "id": "1a00dd7a-e534-4d0e-9135-f15f7c319845",
   "metadata": {},
   "outputs": [],
   "source": [
    "#g(0)\n"
   ]
  },
  {
   "cell_type": "markdown",
   "id": "36fca355-8f67-456a-890d-7fd709d0be33",
   "metadata": {},
   "source": [
    "#### Libraries and Plotting\n",
    "\n",
    "To create domains for our functions, we will use a library called `numpy`.  To visualize the functions, we will use a library called `matplotlib`.  In order to make use of these we first import and alias them below."
   ]
  },
  {
   "cell_type": "code",
   "execution_count": 19,
   "id": "883f844c-8335-4540-aee9-47c401aebe23",
   "metadata": {},
   "outputs": [],
   "source": [
    "import matplotlib.pyplot as plt\n",
    "import numpy as np"
   ]
  },
  {
   "cell_type": "markdown",
   "id": "48d6ecc7-760d-4dbc-b616-32a02b425838",
   "metadata": {},
   "source": [
    "First, we will use numpy to create a domain as we did earlier with\n",
    "\n",
    "```python\n",
    "x = np.arange(1, 11)\n",
    "```"
   ]
  },
  {
   "cell_type": "code",
   "execution_count": 24,
   "id": "2fd53bc4-0766-4c4e-ae9f-d22d18f06a03",
   "metadata": {},
   "outputs": [
    {
     "data": {
      "text/plain": [
       "array([ 1,  2,  3,  4,  5,  6,  7,  8,  9, 10])"
      ]
     },
     "execution_count": 24,
     "metadata": {},
     "output_type": "execute_result"
    }
   ],
   "source": [
    "np.arange(1, 11)"
   ]
  },
  {
   "cell_type": "code",
   "execution_count": 25,
   "id": "a540a72f-35d6-49a4-b0f2-ac74c7e375a6",
   "metadata": {},
   "outputs": [
    {
     "data": {
      "text/plain": [
       "array([ 1. ,  1.5,  2. ,  2.5,  3. ,  3.5,  4. ,  4.5,  5. ,  5.5,  6. ,\n",
       "        6.5,  7. ,  7.5,  8. ,  8.5,  9. ,  9.5, 10. , 10.5])"
      ]
     },
     "execution_count": 25,
     "metadata": {},
     "output_type": "execute_result"
    }
   ],
   "source": [
    "np.arange(1, 11, .5)"
   ]
  },
  {
   "cell_type": "code",
   "execution_count": 26,
   "id": "b183cc6a-4eca-41a7-bfc3-73115eb79322",
   "metadata": {},
   "outputs": [
    {
     "data": {
      "text/plain": [
       "array([0. , 0.1, 0.2, 0.3, 0.4, 0.5, 0.6, 0.7, 0.8, 0.9])"
      ]
     },
     "execution_count": 26,
     "metadata": {},
     "output_type": "execute_result"
    }
   ],
   "source": [
    "np.arange(0, 1, .1)"
   ]
  },
  {
   "cell_type": "code",
   "execution_count": 29,
   "id": "6da9cdcb-35a2-43de-aba6-75e5ad0c64b3",
   "metadata": {},
   "outputs": [
    {
     "data": {
      "text/plain": [
       "array([  1,   4,   9,  16,  25,  36,  49,  64,  81, 100])"
      ]
     },
     "execution_count": 29,
     "metadata": {},
     "output_type": "execute_result"
    }
   ],
   "source": [
    "#define the function\n",
    "def f(x):\n",
    "    return x**2\n",
    "#define the domain\n",
    "x = np.arange(1, 11)\n",
    "#evaluate function on domain\n",
    "f(x)"
   ]
  },
  {
   "cell_type": "markdown",
   "id": "2781aacb-c6a3-4999-a9bc-934815990aae",
   "metadata": {},
   "source": [
    "#### Problems\n",
    "\n",
    "For each of the following, use python and numpy to define and evaluate the functions on the given domain.\n",
    "\n",
    "1. $f(x) = x^2 + 3x + 1$ where $x = [0, 1, 2, 3, 4]$\n",
    "2. $g(x) = 1/x$ where $x = [1, 2, 3, 4, 5, 6, 7, 8]$\n"
   ]
  },
  {
   "cell_type": "code",
   "execution_count": null,
   "id": "42313bfd-68a2-4bd9-b3ff-d1bfa60c1df5",
   "metadata": {},
   "outputs": [],
   "source": []
  }
 ],
 "metadata": {
  "kernelspec": {
   "display_name": "Python 3 (ipykernel)",
   "language": "python",
   "name": "python3"
  },
  "language_info": {
   "codemirror_mode": {
    "name": "ipython",
    "version": 3
   },
   "file_extension": ".py",
   "mimetype": "text/x-python",
   "name": "python",
   "nbconvert_exporter": "python",
   "pygments_lexer": "ipython3",
   "version": "3.8.5"
  },
  "widgets": {
   "application/vnd.jupyter.widget-state+json": {
    "state": {},
    "version_major": 2,
    "version_minor": 0
   }
  }
 },
 "nbformat": 4,
 "nbformat_minor": 5
}
