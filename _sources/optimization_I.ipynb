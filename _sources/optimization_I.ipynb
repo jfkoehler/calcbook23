{
 "cells": [
  {
   "cell_type": "markdown",
   "metadata": {},
   "source": [
    "# Using Derivatives to Find Maximum and Minimum Values\n",
    "\n",
    "**OBJECTIVES**\n",
    "- Use Derivatives to find maximum and minimum values\n",
    "- Understand what a *critical point* is and how to find them.\n",
    "- Use first derivatives to explore behavior near critical points\n",
    "- Use second derivatives to determine nature of critical point"
   ]
  },
  {
   "cell_type": "markdown",
   "metadata": {},
   "source": [
    "## Review: Finding and Interpreting Derivatives\n",
    "\n",
    "The problems below are meant to review our work finding derivatives of functions using rules and symbolic computer systems. In the questions below, your small group can use a table like that from [OpenStax](https://openstax.org/books/calculus-volume-1/pages/b-table-of-derivatives), use [Wolfram Alpha](https://www.wolframalpha.com/), or the `sympy` library in Python to determine your derivatives as necessary.    "
   ]
  },
  {
   "cell_type": "code",
   "execution_count": 2,
   "metadata": {},
   "outputs": [],
   "source": [
    "import matplotlib.pyplot as plt\n",
    "import numpy as np\n",
    "import pandas as pd\n",
    "import sympy as sy\n",
    "from scipy.integrate import quad"
   ]
  },
  {
   "cell_type": "markdown",
   "metadata": {},
   "source": [
    "-----\n",
    "\n",
    "**PROBLEMS**\n",
    "\n",
    "1. Find an equation of the line tangent to the graph of $f(x) = x(1 - 2x)^3$ at the point $(1, -1)$. \n",
    "2. If $f(x) = \\sin(x)$ then $f'(\\frac{\\pi}{3}) = $?\n",
    "3. If $f(x) = \\sqrt{2x}$ then $f'(2)=$?\n",
    "4. A particle moves along the $x$-axis so that at any time $t \\geq 0$ its position is given by $x(t) = t^3 - 3t^2 - 9t + 1$.  For what values of $t$ is the particle at rest?\n",
    "5. The area of the region enclosed by the graphs of $y = x$ and $y = x^2 - 3x + 3$ is?\n",
    "------"
   ]
  },
  {
   "cell_type": "code",
   "execution_count": null,
   "metadata": {},
   "outputs": [],
   "source": []
  },
  {
   "cell_type": "code",
   "execution_count": null,
   "metadata": {},
   "outputs": [],
   "source": []
  },
  {
   "cell_type": "code",
   "execution_count": null,
   "metadata": {},
   "outputs": [],
   "source": []
  },
  {
   "cell_type": "code",
   "execution_count": null,
   "metadata": {},
   "outputs": [],
   "source": []
  },
  {
   "cell_type": "code",
   "execution_count": null,
   "metadata": {},
   "outputs": [],
   "source": []
  },
  {
   "cell_type": "code",
   "execution_count": null,
   "metadata": {},
   "outputs": [],
   "source": []
  },
  {
   "cell_type": "code",
   "execution_count": null,
   "metadata": {},
   "outputs": [],
   "source": []
  },
  {
   "cell_type": "markdown",
   "metadata": {},
   "source": [
    "## Review: Shapes of Graphs and Derivatives\n",
    "\n",
    "![Source: https://opentextbc.ca/calculusv1openstax/chapter/derivatives-and-the-shape-of-a-graph/](https://s3-us-west-2.amazonaws.com/courses-images/wp-content/uploads/sites/2332/2018/01/11210914/CNX_Calc_Figure_04_05_002.jpg)"
   ]
  },
  {
   "cell_type": "markdown",
   "metadata": {},
   "source": [
    "Use what you know about finding derivatives to complete the following sentences:\n",
    "\n",
    "1. If the function $f$ is increasing its derivative $f'$ is ______ ?\n",
    "2. If the function $f$ is decreasing its derivative $f'$ is ______ ?\n",
    "3. If a function $f$ is concave up on some interval, it's derivative $f'$ is _________ ?\n",
    "4. If a function $f$ is concave down on some interval, it's derivative $f'$ is _________ ?"
   ]
  },
  {
   "cell_type": "markdown",
   "metadata": {},
   "source": [
    "**EXAMPLES**\n",
    "\n",
    "1. Use the function $f'(x) = 3x^2 - 6x - 9$ to determine where the function $f$ is increasing, decreasing, concave up, and concave down on the interval $[-4, 7]$. \n",
    "2. For $f(x) = x^3 + \\frac{3}{2}x^2 + 18x$, find all intervals where $f$ is concave up and all intervals where $f$ is concave down. "
   ]
  },
  {
   "cell_type": "code",
   "execution_count": null,
   "metadata": {},
   "outputs": [],
   "source": []
  },
  {
   "cell_type": "code",
   "execution_count": null,
   "metadata": {},
   "outputs": [],
   "source": []
  },
  {
   "cell_type": "code",
   "execution_count": null,
   "metadata": {},
   "outputs": [],
   "source": []
  },
  {
   "cell_type": "code",
   "execution_count": null,
   "metadata": {},
   "outputs": [],
   "source": []
  },
  {
   "cell_type": "code",
   "execution_count": null,
   "metadata": {},
   "outputs": [],
   "source": []
  },
  {
   "cell_type": "markdown",
   "metadata": {},
   "source": [
    "## Optimization and Extremum: Fermat's Theorem\n",
    "\n",
    "![](https://upload.wikimedia.org/wikipedia/commons/f/f3/Pierre_de_Fermat.jpg)\n",
    "\n",
    "One way to state Fermat's theorem is that, if a function has a local extremum at some point and is differentiable there, then the function's derivative at that point must be zero. In precise mathematical language:\n",
    "\n",
    "Let ${\\displaystyle f\\colon (a,b)\\rightarrow \\mathbb {R} }f\\colon (a,b) \\rightarrow \\mathbb{R}$ be a function and suppose that ${\\displaystyle x_{0}\\in (a,b)}{\\displaystyle x_{0}\\in (a,b)}$ is a point where ${\\displaystyle f}$ has a local extremum. If $f$ is differentiable at $\\displaystyle x_{0}$, then $f'(x_{0})=0$."
   ]
  },
  {
   "cell_type": "markdown",
   "metadata": {},
   "source": [
    "### Critical Points\n",
    "\n",
    "<div class = \"alert-info\">\n",
    "    <p style=\"color:white\"><strong>DEFINITION</strong></p>\n",
    "    <p>When dealing with functions of a real variable, a <strong style=\"color:white\">critical point</strong> is a point in the domain of the function where the function is either not differentiable or the derivative is equal to zero.</p>\n",
    "</div>"
   ]
  },
  {
   "cell_type": "markdown",
   "metadata": {},
   "source": [
    "1. Use the function $f'(x) = 3x^2 - 6x - 9$ to determine critical points of $f$. \n",
    "2. For $f(x) = x^3 + \\frac{3}{2}x^2 + 18x$, find all critical points."
   ]
  },
  {
   "cell_type": "code",
   "execution_count": null,
   "metadata": {},
   "outputs": [],
   "source": []
  },
  {
   "cell_type": "code",
   "execution_count": null,
   "metadata": {},
   "outputs": [],
   "source": []
  },
  {
   "cell_type": "markdown",
   "metadata": {},
   "source": [
    "### First Derivative to determine Maximum or Minimum\n",
    "\n",
    "\n",
    "1. Find all critical points of $f$.\n",
    "2. Analyze the sign of $f'$ on intervals determined by the critical points.\n",
    "3. If $f'$ goes from + to -, we have a maximum, from - to + we have a minimum, if the sign does not change we have neither.\n"
   ]
  },
  {
   "cell_type": "markdown",
   "metadata": {},
   "source": [
    "Use our critical points from above to analyze the nature of the critical points."
   ]
  },
  {
   "cell_type": "code",
   "execution_count": 3,
   "metadata": {},
   "outputs": [],
   "source": [
    "from IPython.display import IFrame"
   ]
  },
  {
   "cell_type": "code",
   "execution_count": 4,
   "metadata": {},
   "outputs": [
    {
     "data": {
      "text/html": [
       "\n",
       "        <iframe\n",
       "            width=\"300\"\n",
       "            height=\"400\"\n",
       "            src=\"\"\n",
       "            frameborder=\"0\"\n",
       "            allowfullscreen\n",
       "        ></iframe>\n",
       "        "
      ],
      "text/plain": [
       "<IPython.lib.display.IFrame at 0x7fc6029a1df0>"
      ]
     },
     "execution_count": 4,
     "metadata": {},
     "output_type": "execute_result"
    }
   ],
   "source": [
    "IFrame(src = '', width = 300, height = 400)"
   ]
  },
  {
   "cell_type": "markdown",
   "metadata": {},
   "source": [
    "**PROBLEM**\n",
    "\n",
    "Use the first derivative test to find the location of all local extrema for:\n",
    "\n",
    "- $f(x) = 5x^{1/3} - x^{5/3}$. \n",
    "- $g(x) = \\sqrt[3]{x-1}$"
   ]
  },
  {
   "cell_type": "code",
   "execution_count": 8,
   "metadata": {},
   "outputs": [],
   "source": [
    "from sympy.functions.elementary.miscellaneous import cbrt"
   ]
  },
  {
   "cell_type": "code",
   "execution_count": 9,
   "metadata": {},
   "outputs": [],
   "source": [
    "def f(x): return 5*cbrt(x) - cbrt(x**5)"
   ]
  },
  {
   "cell_type": "code",
   "execution_count": 10,
   "metadata": {},
   "outputs": [],
   "source": [
    "x = sy.Symbol('x')"
   ]
  },
  {
   "cell_type": "code",
   "execution_count": 11,
   "metadata": {},
   "outputs": [
    {
     "data": {
      "text/latex": [
       "$\\displaystyle - \\frac{5 \\sqrt[3]{x^{5}}}{3 x} + \\frac{5}{3 x^{\\frac{2}{3}}}$"
      ],
      "text/plain": [
       "-5*(x**5)**(1/3)/(3*x) + 5/(3*x**(2/3))"
      ]
     },
     "execution_count": 11,
     "metadata": {},
     "output_type": "execute_result"
    }
   ],
   "source": [
    "sy.diff(f(x), x)"
   ]
  },
  {
   "cell_type": "code",
   "execution_count": 12,
   "metadata": {},
   "outputs": [],
   "source": [
    "equation = sy.Eq(sy.diff(f(x), x), 0)"
   ]
  },
  {
   "cell_type": "code",
   "execution_count": 14,
   "metadata": {},
   "outputs": [
    {
     "data": {
      "text/plain": [
       "[-1, 1, -I, I]"
      ]
     },
     "execution_count": 14,
     "metadata": {},
     "output_type": "execute_result"
    }
   ],
   "source": [
    "sy.solve(equation, x)"
   ]
  },
  {
   "cell_type": "code",
   "execution_count": 15,
   "metadata": {},
   "outputs": [],
   "source": [
    "def g(x): return cbrt(x-1)"
   ]
  },
  {
   "cell_type": "code",
   "execution_count": 16,
   "metadata": {},
   "outputs": [
    {
     "data": {
      "text/latex": [
       "$\\displaystyle \\frac{1}{3 \\left(x - 1\\right)^{\\frac{2}{3}}}$"
      ],
      "text/plain": [
       "1/(3*(x - 1)**(2/3))"
      ]
     },
     "execution_count": 16,
     "metadata": {},
     "output_type": "execute_result"
    }
   ],
   "source": [
    "sy.diff(g(x), x)"
   ]
  },
  {
   "cell_type": "code",
   "execution_count": 17,
   "metadata": {},
   "outputs": [],
   "source": [
    "equation = sy.diff(g(x), x)"
   ]
  },
  {
   "cell_type": "code",
   "execution_count": 18,
   "metadata": {},
   "outputs": [
    {
     "data": {
      "text/plain": [
       "[]"
      ]
     },
     "execution_count": 18,
     "metadata": {},
     "output_type": "execute_result"
    }
   ],
   "source": [
    "sy.solve(equation, x)"
   ]
  },
  {
   "cell_type": "markdown",
   "metadata": {},
   "source": [
    "### Second Derivative Test\n",
    "\n",
    "Suppose that we have a critical point $x = c$. If:\n",
    "\n",
    "- $f''(c) > 0$, then $f$ has a local minimum at $c$.\n",
    "- $f''(c) < 0$, then $f$ has a local maximum at $c$.\n",
    "- $f''(c) = 0$, then the test is inconclusive."
   ]
  },
  {
   "cell_type": "markdown",
   "metadata": {},
   "source": [
    "**EXAMPLE**\n",
    "\n",
    "Use the second derivative to find the location of all local extrema for $f(x) = x^5 - 5x^3$."
   ]
  },
  {
   "cell_type": "code",
   "execution_count": null,
   "metadata": {},
   "outputs": [],
   "source": []
  },
  {
   "cell_type": "code",
   "execution_count": null,
   "metadata": {},
   "outputs": [],
   "source": []
  },
  {
   "cell_type": "code",
   "execution_count": null,
   "metadata": {},
   "outputs": [],
   "source": []
  },
  {
   "cell_type": "code",
   "execution_count": null,
   "metadata": {},
   "outputs": [],
   "source": []
  },
  {
   "cell_type": "markdown",
   "metadata": {},
   "source": [
    "**PROBLEM**\n",
    "\n",
    "AP Calculus Free-Response Question 2017 Problem 5."
   ]
  },
  {
   "cell_type": "markdown",
   "metadata": {},
   "source": [
    "![](images/ap_frq_2017_5.png)"
   ]
  },
  {
   "cell_type": "code",
   "execution_count": null,
   "metadata": {},
   "outputs": [],
   "source": []
  },
  {
   "cell_type": "code",
   "execution_count": null,
   "metadata": {},
   "outputs": [],
   "source": []
  },
  {
   "cell_type": "code",
   "execution_count": null,
   "metadata": {},
   "outputs": [],
   "source": []
  },
  {
   "cell_type": "code",
   "execution_count": null,
   "metadata": {},
   "outputs": [],
   "source": []
  },
  {
   "cell_type": "code",
   "execution_count": null,
   "metadata": {},
   "outputs": [],
   "source": []
  }
 ],
 "metadata": {
  "kernelspec": {
   "display_name": "Python 3",
   "language": "python",
   "name": "python3"
  },
  "language_info": {
   "codemirror_mode": {
    "name": "ipython",
    "version": 3
   },
   "file_extension": ".py",
   "mimetype": "text/x-python",
   "name": "python",
   "nbconvert_exporter": "python",
   "pygments_lexer": "ipython3",
   "version": "3.8.3"
  },
  "widgets": {
   "application/vnd.jupyter.widget-state+json": {
    "state": {},
    "version_major": 2,
    "version_minor": 0
   }
  }
 },
 "nbformat": 4,
 "nbformat_minor": 4
}
