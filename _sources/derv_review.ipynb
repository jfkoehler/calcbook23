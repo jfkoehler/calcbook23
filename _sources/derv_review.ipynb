{
 "cells": [
  {
   "cell_type": "markdown",
   "metadata": {
    "slideshow": {
     "slide_type": "slide"
    }
   },
   "source": [
    "# Review\n",
    "\n",
    "Find the derivative of the following functions.\n",
    "\n",
    "1. $f(x) = 3x^3 - \\frac{4}{x^2}$\n",
    "\n",
    "2. $f(x) = (4 - x^2) ^3$\n",
    "\n",
    "3. $f(x) = e^{\\sin x}$\n",
    "\n",
    "4. $f(x) = \\ln(x + 2)$\n",
    "\n",
    "5. $f(x) = x^2 \\cos x + x \\tan x$"
   ]
  },
  {
   "cell_type": "markdown",
   "metadata": {
    "slideshow": {
     "slide_type": "slide"
    }
   },
   "source": [
    "Find the given derivatives.\n",
    "\n",
    "1. First derivative of $y = x \\ln(x) \\cos(x)$\n",
    "\n",
    "2. Third derivative of $y = (3x + 2) ^2$\n",
    "\n",
    "3. Second derivative of $y = 4^x + x^2 \\sin(x)$\n"
   ]
  },
  {
   "cell_type": "markdown",
   "metadata": {},
   "source": [
    "Find the equation of the line at the given point.\n",
    "\n",
    "1. $y = x + e^x - \\frac{1}{x}$ at $x = 0$\n",
    "\n",
    "The water level in Ocean City, New Jersey, in January, which can be approximated\n",
    "by $w(t) = 1.9 + 2.9 \\cos(\\frac{\\pi}{6}t)$, where t is measured in hours after midnight, and the height is measured in feet.  \n",
    "\n",
    "2. Find and graph the derivative. What is the physical\n",
    "meaning?\n",
    "\n",
    "3. Find $w'(3)$.  What is the physical meaning of this value?"
   ]
  },
  {
   "cell_type": "markdown",
   "metadata": {},
   "source": [
    "#### Behavior of $f$ through $f'$\n",
    "\n",
    "Below, plot the given function and compute its derivative.  Use the graph of $f'$ to estimate where $f$ is increasing or decreasing, any extreme values, and where concave up and concanve down."
   ]
  },
  {
   "cell_type": "markdown",
   "metadata": {},
   "source": [
    "1. $f(x) = 4x^4 - 32x^3 + 89x^2 - 95x + 29$\n",
    "2. $f(x) = x^2 - 4x + 7\\cos{x}$ on the interval  $-4 \\leq x \\leq 4$"
   ]
  },
  {
   "cell_type": "code",
   "execution_count": null,
   "metadata": {},
   "outputs": [],
   "source": []
  }
 ],
 "metadata": {
  "kernelspec": {
   "display_name": "Python 3",
   "language": "python",
   "name": "python3"
  },
  "language_info": {
   "codemirror_mode": {
    "name": "ipython",
    "version": 3
   },
   "file_extension": ".py",
   "mimetype": "text/x-python",
   "name": "python",
   "nbconvert_exporter": "python",
   "pygments_lexer": "ipython3",
   "version": "3.8.3"
  }
 },
 "nbformat": 4,
 "nbformat_minor": 4
}
