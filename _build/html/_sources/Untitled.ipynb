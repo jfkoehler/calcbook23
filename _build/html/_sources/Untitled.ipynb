{
 "cells": [
  {
   "cell_type": "markdown",
   "id": "3969c5f8",
   "metadata": {},
   "source": [
    "### Area and Approximation"
   ]
  },
  {
   "cell_type": "markdown",
   "id": "129eba14",
   "metadata": {},
   "source": [
    "![](wiggle.png)"
   ]
  },
  {
   "cell_type": "code",
   "execution_count": 2,
   "id": "a557e737",
   "metadata": {},
   "outputs": [],
   "source": [
    "import numpy as np\n",
    "import matplotlib.pyplot as plt"
   ]
  },
  {
   "cell_type": "code",
   "execution_count": 44,
   "id": "1038b4b4",
   "metadata": {},
   "outputs": [],
   "source": [
    "def f(x): \n",
    "    return -x**2 + 2"
   ]
  },
  {
   "cell_type": "code",
   "execution_count": 45,
   "id": "4795e650",
   "metadata": {},
   "outputs": [],
   "source": [
    "x = np.linspace(-1.5, 1.5, 100)"
   ]
  },
  {
   "cell_type": "code",
   "execution_count": 48,
   "id": "7407ae2f",
   "metadata": {},
   "outputs": [
    {
     "name": "stderr",
     "output_type": "stream",
     "text": [
      "findfont: Font family 'xkcd' not found.\n",
      "findfont: Font family 'xkcd Script' not found.\n",
      "findfont: Font family 'Humor Sans' not found.\n",
      "findfont: Font family 'Comic Neue' not found.\n",
      "findfont: Font family 'xkcd' not found.\n",
      "findfont: Font family 'xkcd Script' not found.\n",
      "findfont: Font family 'Humor Sans' not found.\n",
      "findfont: Font family 'Comic Neue' not found.\n",
      "findfont: Font family 'xkcd' not found.\n",
      "findfont: Font family 'xkcd Script' not found.\n",
      "findfont: Font family 'Humor Sans' not found.\n",
      "findfont: Font family 'Comic Neue' not found.\n",
      "findfont: Font family 'xkcd' not found.\n",
      "findfont: Font family 'xkcd Script' not found.\n",
      "findfont: Font family 'Humor Sans' not found.\n",
      "findfont: Font family 'Comic Neue' not found.\n",
      "findfont: Font family 'xkcd' not found.\n",
      "findfont: Font family 'xkcd Script' not found.\n",
      "findfont: Font family 'Humor Sans' not found.\n",
      "findfont: Font family 'Comic Neue' not found.\n",
      "findfont: Font family 'xkcd' not found.\n",
      "findfont: Font family 'xkcd Script' not found.\n",
      "findfont: Font family 'Humor Sans' not found.\n",
      "findfont: Font family 'Comic Neue' not found.\n",
      "findfont: Font family 'xkcd' not found.\n",
      "findfont: Font family 'xkcd Script' not found.\n",
      "findfont: Font family 'Humor Sans' not found.\n",
      "findfont: Font family 'Comic Neue' not found.\n",
      "findfont: Font family 'xkcd' not found.\n",
      "findfont: Font family 'xkcd Script' not found.\n",
      "findfont: Font family 'Humor Sans' not found.\n",
      "findfont: Font family 'Comic Neue' not found.\n",
      "findfont: Font family 'xkcd' not found.\n",
      "findfont: Font family 'xkcd Script' not found.\n",
      "findfont: Font family 'Humor Sans' not found.\n",
      "findfont: Font family 'Comic Neue' not found.\n",
      "findfont: Font family 'xkcd' not found.\n",
      "findfont: Font family 'xkcd Script' not found.\n",
      "findfont: Font family 'Humor Sans' not found.\n",
      "findfont: Font family 'Comic Neue' not found.\n",
      "findfont: Font family 'xkcd' not found.\n",
      "findfont: Font family 'xkcd Script' not found.\n",
      "findfont: Font family 'Humor Sans' not found.\n",
      "findfont: Font family 'Comic Neue' not found.\n",
      "findfont: Font family 'xkcd' not found.\n",
      "findfont: Font family 'xkcd Script' not found.\n",
      "findfont: Font family 'Humor Sans' not found.\n",
      "findfont: Font family 'Comic Neue' not found.\n",
      "findfont: Font family 'xkcd' not found.\n",
      "findfont: Font family 'xkcd Script' not found.\n",
      "findfont: Font family 'Humor Sans' not found.\n",
      "findfont: Font family 'Comic Neue' not found.\n",
      "findfont: Font family 'xkcd' not found.\n",
      "findfont: Font family 'xkcd Script' not found.\n",
      "findfont: Font family 'Humor Sans' not found.\n",
      "findfont: Font family 'Comic Neue' not found.\n",
      "findfont: Font family 'xkcd' not found.\n",
      "findfont: Font family 'xkcd Script' not found.\n",
      "findfont: Font family 'Humor Sans' not found.\n",
      "findfont: Font family 'Comic Neue' not found.\n",
      "findfont: Font family 'xkcd' not found.\n",
      "findfont: Font family 'xkcd Script' not found.\n",
      "findfont: Font family 'Humor Sans' not found.\n",
      "findfont: Font family 'Comic Neue' not found.\n",
      "findfont: Font family 'xkcd' not found.\n",
      "findfont: Font family 'xkcd Script' not found.\n",
      "findfont: Font family 'Humor Sans' not found.\n",
      "findfont: Font family 'Comic Neue' not found.\n",
      "findfont: Font family 'xkcd' not found.\n",
      "findfont: Font family 'xkcd Script' not found.\n",
      "findfont: Font family 'Humor Sans' not found.\n",
      "findfont: Font family 'Comic Neue' not found.\n",
      "findfont: Font family 'xkcd' not found.\n",
      "findfont: Font family 'xkcd Script' not found.\n",
      "findfont: Font family 'Humor Sans' not found.\n",
      "findfont: Font family 'Comic Neue' not found.\n",
      "findfont: Font family 'xkcd' not found.\n",
      "findfont: Font family 'xkcd Script' not found.\n",
      "findfont: Font family 'Humor Sans' not found.\n",
      "findfont: Font family 'Comic Neue' not found.\n",
      "findfont: Font family 'xkcd' not found.\n",
      "findfont: Font family 'xkcd Script' not found.\n",
      "findfont: Font family 'Humor Sans' not found.\n",
      "findfont: Font family 'Comic Neue' not found.\n",
      "findfont: Font family 'xkcd' not found.\n",
      "findfont: Font family 'xkcd Script' not found.\n",
      "findfont: Font family 'Humor Sans' not found.\n",
      "findfont: Font family 'Comic Neue' not found.\n",
      "findfont: Font family 'xkcd' not found.\n",
      "findfont: Font family 'xkcd Script' not found.\n",
      "findfont: Font family 'Humor Sans' not found.\n",
      "findfont: Font family 'Comic Neue' not found.\n",
      "findfont: Font family 'xkcd' not found.\n",
      "findfont: Font family 'xkcd Script' not found.\n",
      "findfont: Font family 'Humor Sans' not found.\n",
      "findfont: Font family 'Comic Neue' not found.\n",
      "findfont: Font family 'xkcd' not found.\n",
      "findfont: Font family 'xkcd Script' not found.\n",
      "findfont: Font family 'Humor Sans' not found.\n",
      "findfont: Font family 'Comic Neue' not found.\n",
      "findfont: Font family 'xkcd' not found.\n",
      "findfont: Font family 'xkcd Script' not found.\n",
      "findfont: Font family 'Humor Sans' not found.\n",
      "findfont: Font family 'Comic Neue' not found.\n",
      "findfont: Font family 'xkcd' not found.\n",
      "findfont: Font family 'xkcd Script' not found.\n",
      "findfont: Font family 'Humor Sans' not found.\n",
      "findfont: Font family 'Comic Neue' not found.\n",
      "findfont: Font family 'xkcd' not found.\n",
      "findfont: Font family 'xkcd Script' not found.\n",
      "findfont: Font family 'Humor Sans' not found.\n",
      "findfont: Font family 'Comic Neue' not found.\n",
      "findfont: Font family 'xkcd' not found.\n",
      "findfont: Font family 'xkcd Script' not found.\n",
      "findfont: Font family 'Humor Sans' not found.\n",
      "findfont: Font family 'Comic Neue' not found.\n",
      "findfont: Font family 'xkcd' not found.\n",
      "findfont: Font family 'xkcd Script' not found.\n",
      "findfont: Font family 'Humor Sans' not found.\n",
      "findfont: Font family 'Comic Neue' not found.\n",
      "findfont: Font family 'xkcd' not found.\n",
      "findfont: Font family 'xkcd Script' not found.\n",
      "findfont: Font family 'Humor Sans' not found.\n",
      "findfont: Font family 'Comic Neue' not found.\n",
      "findfont: Font family 'xkcd' not found.\n",
      "findfont: Font family 'xkcd Script' not found.\n",
      "findfont: Font family 'Humor Sans' not found.\n",
      "findfont: Font family 'Comic Neue' not found.\n",
      "findfont: Font family 'xkcd' not found.\n",
      "findfont: Font family 'xkcd Script' not found.\n",
      "findfont: Font family 'Humor Sans' not found.\n",
      "findfont: Font family 'Comic Neue' not found.\n",
      "findfont: Font family 'xkcd' not found.\n",
      "findfont: Font family 'xkcd Script' not found.\n",
      "findfont: Font family 'Humor Sans' not found.\n",
      "findfont: Font family 'Comic Neue' not found.\n",
      "findfont: Font family 'xkcd' not found.\n",
      "findfont: Font family 'xkcd Script' not found.\n",
      "findfont: Font family 'Humor Sans' not found.\n",
      "findfont: Font family 'Comic Neue' not found.\n",
      "findfont: Font family 'xkcd' not found.\n",
      "findfont: Font family 'xkcd Script' not found.\n",
      "findfont: Font family 'Humor Sans' not found.\n",
      "findfont: Font family 'Comic Neue' not found.\n",
      "findfont: Font family 'xkcd' not found.\n",
      "findfont: Font family 'xkcd Script' not found.\n",
      "findfont: Font family 'Humor Sans' not found.\n",
      "findfont: Font family 'Comic Neue' not found.\n",
      "findfont: Font family 'xkcd' not found.\n",
      "findfont: Font family 'xkcd Script' not found.\n",
      "findfont: Font family 'Humor Sans' not found.\n",
      "findfont: Font family 'Comic Neue' not found.\n",
      "findfont: Font family 'xkcd' not found.\n",
      "findfont: Font family 'xkcd Script' not found.\n",
      "findfont: Font family 'Humor Sans' not found.\n",
      "findfont: Font family 'Comic Neue' not found.\n",
      "findfont: Font family 'xkcd' not found.\n",
      "findfont: Font family 'xkcd Script' not found.\n",
      "findfont: Font family 'Humor Sans' not found.\n",
      "findfont: Font family 'Comic Neue' not found.\n",
      "findfont: Font family 'xkcd' not found.\n",
      "findfont: Font family 'xkcd Script' not found.\n",
      "findfont: Font family 'Humor Sans' not found.\n",
      "findfont: Font family 'Comic Neue' not found.\n",
      "findfont: Font family 'xkcd' not found.\n",
      "findfont: Font family 'xkcd Script' not found.\n",
      "findfont: Font family 'Humor Sans' not found.\n",
      "findfont: Font family 'Comic Neue' not found.\n",
      "findfont: Font family 'xkcd' not found.\n",
      "findfont: Font family 'xkcd Script' not found.\n",
      "findfont: Font family 'Humor Sans' not found.\n",
      "findfont: Font family 'Comic Neue' not found.\n",
      "findfont: Font family 'xkcd' not found.\n",
      "findfont: Font family 'xkcd Script' not found.\n",
      "findfont: Font family 'Humor Sans' not found.\n",
      "findfont: Font family 'Comic Neue' not found.\n",
      "findfont: Font family 'xkcd' not found.\n",
      "findfont: Font family 'xkcd Script' not found.\n",
      "findfont: Font family 'Humor Sans' not found.\n",
      "findfont: Font family 'Comic Neue' not found.\n",
      "findfont: Font family 'xkcd' not found.\n",
      "findfont: Font family 'xkcd Script' not found.\n",
      "findfont: Font family 'Humor Sans' not found.\n",
      "findfont: Font family 'Comic Neue' not found.\n",
      "findfont: Font family 'xkcd' not found.\n",
      "findfont: Font family 'xkcd Script' not found.\n",
      "findfont: Font family 'Humor Sans' not found.\n",
      "findfont: Font family 'Comic Neue' not found.\n",
      "findfont: Font family 'xkcd' not found.\n",
      "findfont: Font family 'xkcd Script' not found.\n",
      "findfont: Font family 'Humor Sans' not found.\n",
      "findfont: Font family 'Comic Neue' not found.\n",
      "findfont: Font family 'xkcd' not found.\n",
      "findfont: Font family 'xkcd Script' not found.\n",
      "findfont: Font family 'Humor Sans' not found.\n",
      "findfont: Font family 'Comic Neue' not found.\n",
      "findfont: Font family 'xkcd' not found.\n",
      "findfont: Font family 'xkcd Script' not found.\n",
      "findfont: Font family 'Humor Sans' not found.\n",
      "findfont: Font family 'Comic Neue' not found.\n",
      "findfont: Font family 'xkcd' not found.\n",
      "findfont: Font family 'xkcd Script' not found.\n",
      "findfont: Font family 'Humor Sans' not found.\n",
      "findfont: Font family 'Comic Neue' not found.\n",
      "findfont: Font family 'xkcd' not found.\n",
      "findfont: Font family 'xkcd Script' not found.\n",
      "findfont: Font family 'Humor Sans' not found.\n",
      "findfont: Font family 'Comic Neue' not found.\n",
      "findfont: Font family 'xkcd' not found.\n",
      "findfont: Font family 'xkcd Script' not found.\n",
      "findfont: Font family 'Humor Sans' not found.\n",
      "findfont: Font family 'Comic Neue' not found.\n",
      "findfont: Font family 'xkcd' not found.\n",
      "findfont: Font family 'xkcd Script' not found.\n",
      "findfont: Font family 'Humor Sans' not found.\n",
      "findfont: Font family 'Comic Neue' not found.\n",
      "findfont: Font family 'xkcd' not found.\n",
      "findfont: Font family 'xkcd Script' not found.\n",
      "findfont: Font family 'Humor Sans' not found.\n",
      "findfont: Font family 'Comic Neue' not found.\n",
      "findfont: Font family 'xkcd' not found.\n",
      "findfont: Font family 'xkcd Script' not found.\n",
      "findfont: Font family 'Humor Sans' not found.\n",
      "findfont: Font family 'Comic Neue' not found.\n",
      "findfont: Font family 'xkcd' not found.\n",
      "findfont: Font family 'xkcd Script' not found.\n",
      "findfont: Font family 'Humor Sans' not found.\n",
      "findfont: Font family 'Comic Neue' not found.\n",
      "findfont: Font family 'xkcd' not found.\n",
      "findfont: Font family 'xkcd Script' not found.\n",
      "findfont: Font family 'Humor Sans' not found.\n",
      "findfont: Font family 'Comic Neue' not found.\n",
      "findfont: Font family 'xkcd' not found.\n",
      "findfont: Font family 'xkcd Script' not found.\n",
      "findfont: Font family 'Humor Sans' not found.\n",
      "findfont: Font family 'Comic Neue' not found.\n",
      "findfont: Font family 'xkcd' not found.\n",
      "findfont: Font family 'xkcd Script' not found.\n",
      "findfont: Font family 'Humor Sans' not found.\n",
      "findfont: Font family 'Comic Neue' not found.\n",
      "findfont: Font family 'xkcd' not found.\n",
      "findfont: Font family 'xkcd Script' not found.\n",
      "findfont: Font family 'Humor Sans' not found.\n",
      "findfont: Font family 'Comic Neue' not found.\n",
      "findfont: Font family 'xkcd' not found.\n",
      "findfont: Font family 'xkcd Script' not found.\n",
      "findfont: Font family 'Humor Sans' not found.\n",
      "findfont: Font family 'Comic Neue' not found.\n",
      "findfont: Font family 'xkcd' not found.\n",
      "findfont: Font family 'xkcd Script' not found.\n",
      "findfont: Font family 'Humor Sans' not found.\n",
      "findfont: Font family 'Comic Neue' not found.\n",
      "findfont: Font family 'xkcd' not found.\n",
      "findfont: Font family 'xkcd Script' not found.\n",
      "findfont: Font family 'Humor Sans' not found.\n",
      "findfont: Font family 'Comic Neue' not found.\n",
      "findfont: Font family 'xkcd' not found.\n",
      "findfont: Font family 'xkcd Script' not found.\n",
      "findfont: Font family 'Humor Sans' not found.\n",
      "findfont: Font family 'Comic Neue' not found.\n",
      "findfont: Font family 'xkcd' not found.\n",
      "findfont: Font family 'xkcd Script' not found.\n",
      "findfont: Font family 'Humor Sans' not found.\n",
      "findfont: Font family 'Comic Neue' not found.\n",
      "findfont: Font family 'xkcd' not found.\n",
      "findfont: Font family 'xkcd Script' not found.\n",
      "findfont: Font family 'Humor Sans' not found.\n",
      "findfont: Font family 'Comic Neue' not found.\n",
      "findfont: Font family 'xkcd' not found.\n",
      "findfont: Font family 'xkcd Script' not found.\n",
      "findfont: Font family 'Humor Sans' not found.\n",
      "findfont: Font family 'Comic Neue' not found.\n"
     ]
    },
    {
     "data": {
      "image/png": "[encoded data removed]",
      "text/plain": [
       "<Figure size 640x480 with 1 Axes>"
      ]
     },
     "metadata": {},
     "output_type": "display_data"
    }
   ],
   "source": [
    "plt.xkcd()\n",
    "plt.axhline(color = 'black')\n",
    "plt.fill_between(x, f(x), color = 'turquoise')\n",
    "plt.title('Approximate the area under $f(x) = -x^2 + 2$\\nfrom $x = -1$ to $x = 1$', pad = 15)\n",
    "plt.plot(x, f(x), color = 'black');\n",
    "plt.savefig('wiggle.png', pad_inches = 13)"
   ]
  },
  {
   "cell_type": "code",
   "execution_count": null,
   "id": "40d9d938",
   "metadata": {},
   "outputs": [],
   "source": []
  },
  {
   "cell_type": "code",
   "execution_count": null,
   "id": "6ebab0ae",
   "metadata": {},
   "outputs": [],
   "source": []
  },
  {
   "cell_type": "markdown",
   "id": "b94d3156",
   "metadata": {},
   "source": [
    "#### Area and Patterns\n",
    "\n"
   ]
  },
  {
   "cell_type": "markdown",
   "id": "f73e8d2e",
   "metadata": {},
   "source": [
    "Area under $f(x) = \\frac{1}{2}x$ from $x = 0$ to $x = 1$ with $n = 5$ rectangles."
   ]
  },
  {
   "cell_type": "code",
   "execution_count": null,
   "id": "a93e1002",
   "metadata": {},
   "outputs": [],
   "source": []
  },
  {
   "cell_type": "code",
   "execution_count": null,
   "id": "4cbf80fe",
   "metadata": {},
   "outputs": [],
   "source": []
  },
  {
   "cell_type": "markdown",
   "id": "c8ee02a6",
   "metadata": {},
   "source": [
    "Area under $f(x) = \\frac{1}{2}x$ from $x = 0$ to $x = 2$ with $n = 10$ rectangles."
   ]
  },
  {
   "cell_type": "code",
   "execution_count": null,
   "id": "870bf564",
   "metadata": {},
   "outputs": [],
   "source": []
  },
  {
   "cell_type": "code",
   "execution_count": null,
   "id": "cf6f22f8",
   "metadata": {},
   "outputs": [],
   "source": []
  },
  {
   "cell_type": "markdown",
   "id": "f8c5c660",
   "metadata": {},
   "source": [
    "Area under $f(x) = \\frac{1}{2}x$ from $x = 0$ to $x = 3$ with $n = 15$ rectangles."
   ]
  },
  {
   "cell_type": "code",
   "execution_count": null,
   "id": "73e8fa55",
   "metadata": {},
   "outputs": [],
   "source": []
  },
  {
   "cell_type": "code",
   "execution_count": null,
   "id": "52060538",
   "metadata": {},
   "outputs": [],
   "source": []
  },
  {
   "cell_type": "markdown",
   "id": "ab137590",
   "metadata": {},
   "source": [
    "#### Problem 2"
   ]
  },
  {
   "cell_type": "markdown",
   "id": "6124e262",
   "metadata": {},
   "source": [
    "Area under $f(x) = \\frac{1}{3}x^2$ from $x = 0$ to $x = 1$ with $n = 5$ rectangles."
   ]
  },
  {
   "cell_type": "code",
   "execution_count": 1,
   "id": "69a98c3e",
   "metadata": {},
   "outputs": [],
   "source": [
    "import numpy as np\n",
    "import matplotlib.pyplot as plt"
   ]
  },
  {
   "cell_type": "code",
   "execution_count": null,
   "id": "5ee9cba2",
   "metadata": {},
   "outputs": [],
   "source": []
  },
  {
   "cell_type": "code",
   "execution_count": null,
   "id": "0c9f2a04",
   "metadata": {},
   "outputs": [],
   "source": []
  },
  {
   "cell_type": "code",
   "execution_count": null,
   "id": "3ff006c3",
   "metadata": {},
   "outputs": [],
   "source": []
  },
  {
   "cell_type": "markdown",
   "id": "3c5c896a",
   "metadata": {},
   "source": [
    "Area under $f(x) = \\frac{1}{3}x^2$ from $x = 0$ to $x = 2$ with $n = 10$ rectangles."
   ]
  },
  {
   "cell_type": "code",
   "execution_count": null,
   "id": "d19c70e8",
   "metadata": {},
   "outputs": [],
   "source": []
  },
  {
   "cell_type": "code",
   "execution_count": null,
   "id": "5a57e9cc",
   "metadata": {},
   "outputs": [],
   "source": []
  },
  {
   "cell_type": "code",
   "execution_count": null,
   "id": "be1615bb",
   "metadata": {},
   "outputs": [],
   "source": []
  },
  {
   "cell_type": "markdown",
   "id": "e5d2a93e",
   "metadata": {},
   "source": [
    "Area under $f(x) = \\frac{1}{3}x^2$ from $x = 0$ to $x = 3$ with $n = 15$ rectangles."
   ]
  },
  {
   "cell_type": "code",
   "execution_count": null,
   "id": "664b249e",
   "metadata": {},
   "outputs": [],
   "source": []
  },
  {
   "cell_type": "code",
   "execution_count": null,
   "id": "90f49dbb",
   "metadata": {},
   "outputs": [],
   "source": []
  },
  {
   "cell_type": "code",
   "execution_count": null,
   "id": "41970116",
   "metadata": {},
   "outputs": [],
   "source": []
  },
  {
   "cell_type": "markdown",
   "id": "6e8b8b92",
   "metadata": {},
   "source": [
    "Area under $f(x) = \\frac{1}{3}x^2$ from $x = 0$ to $x = 4$ with $n = 20$ rectangles."
   ]
  },
  {
   "cell_type": "code",
   "execution_count": null,
   "id": "ee674909",
   "metadata": {},
   "outputs": [],
   "source": []
  },
  {
   "cell_type": "code",
   "execution_count": null,
   "id": "257447e3",
   "metadata": {},
   "outputs": [],
   "source": []
  },
  {
   "cell_type": "code",
   "execution_count": null,
   "id": "cc55d1b3",
   "metadata": {},
   "outputs": [],
   "source": []
  },
  {
   "cell_type": "markdown",
   "id": "69e5170b",
   "metadata": {},
   "source": [
    "#### Applications"
   ]
  },
  {
   "cell_type": "code",
   "execution_count": null,
   "id": "2ba91a71",
   "metadata": {},
   "outputs": [],
   "source": []
  }
 ],
 "metadata": {
  "kernelspec": {
   "display_name": "Python 3",
   "language": "python",
   "name": "python3"
  },
  "language_info": {
   "codemirror_mode": {
    "name": "ipython",
    "version": 3
   },
   "file_extension": ".py",
   "mimetype": "text/x-python",
   "name": "python",
   "nbconvert_exporter": "python",
   "pygments_lexer": "ipython3",
   "version": "3.8.3"
  }
 },
 "nbformat": 4,
 "nbformat_minor": 5
}
