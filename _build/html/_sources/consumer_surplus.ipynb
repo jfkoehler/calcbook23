{
 "cells": [
  {
   "cell_type": "markdown",
   "metadata": {},
   "source": [
    "<script>\n",
    "  (function(i,s,o,g,r,a,m){i['GoogleAnalyticsObject']=r;i[r]=i[r]||function(){\n",
    "  (i[r].q=i[r].q||[]).push(arguments)},i[r].l=1*new Date();a=s.createElement(o),\n",
    "  m=s.getElementsByTagName(o)[0];a.async=1;a.src=g;m.parentNode.insertBefore(a,m)\n",
    "  })(window,document,'script','https://www.google-analytics.com/analytics.js','ga');\n",
    "\n",
    "  ga('create', 'UA-50838873-3', 'auto');\n",
    "  ga('send', 'pageview');\n",
    "\n",
    "</script>"
   ]
  },
  {
   "cell_type": "markdown",
   "metadata": {},
   "source": [
    "# Supply and Demand: Consumer Surplus\n",
    "\n",
    "---\n",
    "\n",
    "**GOALS:** \n",
    "\n",
    "- Understand concepts of consumer and producer surplus\n",
    "\n",
    "- Use definite integrals to solve problems involving consumer and producer surplus\n",
    "\n",
    "---\n",
    "\n",
    "\n",
    "\n",
    "Economists will often refer to **supply** and **demand** curves.  \n",
    "\n",
    "A **supply curve** is a cost of production function that relates some quantity of goods to a price that attracts this amount at market.  \n",
    "\n",
    "A **demand curve** is a function that relates a quantity of goods to a price that the market would be cleared of that quantity.\n",
    "\n",
    "For example, suppose we have a supply curve $S$ as:\n",
    "\n",
    "$$S(q) = q^2$$\n",
    "\n",
    "and a demand curve $D$ of:\n",
    "\n",
    "$$D(q) = (q - 20)^2$$\n",
    "\n",
    "We can plot these as follows."
   ]
  },
  {
   "cell_type": "code",
   "execution_count": 2,
   "metadata": {},
   "outputs": [],
   "source": [
    "import matplotlib.pyplot as plt\n",
    "import numpy as np\n",
    "import sympy as sy"
   ]
  },
  {
   "cell_type": "code",
   "execution_count": 3,
   "metadata": {},
   "outputs": [],
   "source": []
  },
  {
   "cell_type": "code",
   "execution_count": null,
   "metadata": {},
   "outputs": [],
   "source": []
  },
  {
   "cell_type": "markdown",
   "metadata": {},
   "source": [
    "### Equilibrium Price\n",
    "\n",
    "Where the Supply and Demand curves intersect, we have the **equilibrium price** for the good under consideration.  In order to find this value, we need to solve the equation:\n",
    "\n",
    "$$S(q) = D(q)$$\n",
    "\n",
    "We can use Sympy to accomplish this with the `Eq` and `Solve` commands.  "
   ]
  },
  {
   "cell_type": "code",
   "execution_count": null,
   "metadata": {},
   "outputs": [],
   "source": []
  },
  {
   "cell_type": "code",
   "execution_count": null,
   "metadata": {},
   "outputs": [],
   "source": []
  },
  {
   "cell_type": "markdown",
   "metadata": {},
   "source": [
    "Now, we can update our plot to include this point and add some text and an arrow pointing to the equilibrium point using the matplotlib's `annotate` function.  The draws an arrow with some text to a point on the graph."
   ]
  },
  {
   "cell_type": "code",
   "execution_count": 1,
   "metadata": {},
   "outputs": [],
   "source": [
    "# plt.figure(figsize= (10, 8))#create figure and reset q to be numbers\n",
    "# q = np.linspace(0, 16, 1000)\n",
    "\n",
    "\n",
    "# plt.plot(q, S(q), label = \"Supply Curve\")#plot supply, demand, and equilibrium points\n",
    "# plt.plot(q, D(q), label = \"Demand Curve\")\n",
    "# plt.plot(10, 100, 'o', markersize = 14)\n",
    "\n",
    "\n",
    "# plt.title(\"Supply and Demand\")#add titles and legend\n",
    "# plt.legend(frameon = False)\n",
    "# plt.xlabel(\"Quantity $q$\")\n",
    "# plt.ylabel(\"Price\")\n",
    "\n",
    "\n",
    "# ax = plt.axes()#add arrow with annotation\n",
    "# ax.annotate('Equilibrium at (10, 100)', xy=(10,100), xytext=(10, 250), arrowprops=dict(facecolor='black'))"
   ]
  },
  {
   "cell_type": "markdown",
   "metadata": {},
   "source": [
    "### Price Discrimination\n",
    "\n",
    "Price discrimination refers to the different prices that different consumers are willing to pay for the same product.  For example, some people may be willing to pay \\$16 for a six pack of beer while others would refuse.  In order to address different consumers, a corporation might do something like market the same beer under a different logo and name in different kinds of stores.\n",
    "\n",
    "If the goods producer is able to determine this perfectly, they will have achieved perfect **price discrimination**.  The beer example demonstrates only a partial price discrimination.  An example of perfect price discrimination might be a pay what you want approach where each consumer determine their own price for a good.\n",
    "\n",
    "In a partial price discrimination scenario, we would have a picture like our step functions, where the width of each rectangle represents a quantity of a good and the height represents the price that this amount of goods sells for.  \n",
    "\n",
    "Let's visualize the Partial and Perfect Price discrimination situation where we have $\\Delta q = 1$."
   ]
  },
  {
   "cell_type": "code",
   "execution_count": 8,
   "metadata": {},
   "outputs": [],
   "source": [
    "q = np.arange(0, 16, 1)"
   ]
  },
  {
   "cell_type": "code",
   "execution_count": 9,
   "metadata": {},
   "outputs": [
    {
     "data": {
      "text/plain": [
       "Text(10, 250, 'sell $\\\\Delta q$ at price $p$')"
      ]
     },
     "execution_count": 9,
     "metadata": {},
     "output_type": "execute_result"
    },
    {
     "data": {
      "image/png": "[encoded data removed]",
      "text/plain": [
       "<Figure size 576x360 with 1 Axes>"
      ]
     },
     "metadata": {
      "needs_background": "light"
     },
     "output_type": "display_data"
    }
   ],
   "source": [
    "plt.figure(figsize = (8, 5))\n",
    "plt.bar(q, D(q), alpha = 0.1, width = 1)\n",
    "plt.title(\"Partial Price Discrimination\")\n",
    "\n",
    "plt.xlabel(\"Quantity of good $q$\")\n",
    "plt.ylabel(\"Price of good $p$\")\n",
    "ax = plt.axes()\n",
    "ax.annotate('sell $\\Delta q$ at price $p$', xy=(4, D(4)), xytext=(10, 250), arrowprops=dict(facecolor='black'))"
   ]
  },
  {
   "cell_type": "markdown",
   "metadata": {},
   "source": [
    "The area of one of the rectangles then represents the **revenue** to the producer.  Consider the first rectangle.  Here, we have 1 unit of a good and sell this at 400 dollars.  Similarly, we sell a second unit of this good for 300.  From these sales we would have made 700 in total.  \n",
    "\n",
    "$$ \\text{Revenue} = \\sum_{i = 1}^n \\Delta q D(i\\Delta q)$$"
   ]
  },
  {
   "cell_type": "markdown",
   "metadata": {},
   "source": [
    "Perfect Price Discrimination would be modeled by the continuous case and the Revenue by the Definite Integral.  "
   ]
  },
  {
   "cell_type": "code",
   "execution_count": 10,
   "metadata": {},
   "outputs": [
    {
     "data": {
      "text/plain": [
       "Text(10, 250, 'Area Under Curve is Revenue \\n$\\\\int_0^{16}D(q) dq$')"
      ]
     },
     "execution_count": 10,
     "metadata": {},
     "output_type": "execute_result"
    },
    {
     "data": {
      "image/png": "[encoded data removed]",
      "text/plain": [
       "<Figure size 648x432 with 1 Axes>"
      ]
     },
     "metadata": {
      "needs_background": "light"
     },
     "output_type": "display_data"
    }
   ],
   "source": [
    "q = np.linspace(0, 16, 1000)\n",
    "plt.figure(figsize = (9, 6))\n",
    "plt.plot(q, D(q))\n",
    "plt.fill_between(q, D(q), alpha = 0.1)\n",
    "plt.title(\"Perfect Price Discrimination\")\n",
    "\n",
    "plt.xlabel(\"Quantity of good $q$\")\n",
    "plt.ylabel(\"Price of good $p$\")\n",
    "ax = plt.axes()\n",
    "ax.annotate('Area Under Curve is Revenue \\n$\\int_0^{16}D(q) dq$', xy=(4, D(4)), xytext=(10, 250), arrowprops=dict(facecolor='black'))"
   ]
  },
  {
   "cell_type": "markdown",
   "metadata": {},
   "source": [
    "### The Consumer Surplus\n",
    "\n",
    "When a marketplace finds consumers paying the same price for a good, we are at the **equilibrium price**.  Here, if you think about moving backwards from equilibrium, the price of the good rises, its suppy falls, and there are fewer transactions.  Another way to interpret the area under the Demand curve, is as the value to consumers.  \n",
    "\n",
    "If there is a difference between this value and what the consumers end up paying, we have a consumer surplus.  This is represented graphically as the area determined by the rectangle formed by the equilibrium price.  The difference between the area under the Demand curve and this rectangle is the **consumer surplus**."
   ]
  },
  {
   "cell_type": "code",
   "execution_count": 2,
   "metadata": {},
   "outputs": [],
   "source": [
    "# plt.figure(figsize = (12,7))\n",
    "# plt.plot(q, D(q))\n",
    "# plt.plot(q, S(q))\n",
    "# plt.fill_between(q, D(q), 100, where = (D(q) > 100), color = 'green', alpha = 0.5, hatch = '-')\n",
    "# plt.fill_between(q, 100, where = (q<10), alpha = 0.3, hatch = '|')\n",
    "\n",
    "# plt.title(\"Consumer Surplus\")\n",
    "# plt.xlabel(\"Quantity of good $q$\")\n",
    "# plt.ylabel(\"Price of good $p$\")\n",
    "# ax = plt.axes()\n",
    "# ax.annotate('Consumer Surplus', xy=(4, 200), xytext=(8, 300), arrowprops=dict(facecolor='black'))\n",
    "# ax.annotate('Total Revenue', xy = (5, 50), xytext = (12,100), arrowprops=dict(facecolor='black'))"
   ]
  },
  {
   "cell_type": "markdown",
   "metadata": {},
   "source": [
    "This would be determined by the area under the Demand Curve, but above the horizontal line formed by the equlibrium price($p^\\star$).  Thus, we can represent this with the definite integral:\n",
    "\n",
    "$$\\int_0^{10} D(q) - p^\\star dq$$"
   ]
  },
  {
   "cell_type": "markdown",
   "metadata": {},
   "source": [
    "#### Example \n",
    "\n",
    "Suppose the supply curve is approximated by the function \n",
    "\n",
    "$$p = S(q) = \\frac{q^2}{500,000}$$\n",
    "\n",
    "and the demand curve by the function \n",
    "\n",
    "$$p = D(q) = 144 - \\frac{q}{500}$$\n",
    "\n",
    "for $0 \\leq q \\leq 65,000$.  Determine the equilibrium price and Consumer Surplus."
   ]
  },
  {
   "cell_type": "code",
   "execution_count": null,
   "metadata": {},
   "outputs": [],
   "source": []
  },
  {
   "cell_type": "code",
   "execution_count": null,
   "metadata": {},
   "outputs": [],
   "source": []
  },
  {
   "cell_type": "code",
   "execution_count": null,
   "metadata": {},
   "outputs": [],
   "source": []
  },
  {
   "cell_type": "code",
   "execution_count": null,
   "metadata": {},
   "outputs": [],
   "source": []
  },
  {
   "cell_type": "code",
   "execution_count": null,
   "metadata": {},
   "outputs": [],
   "source": []
  },
  {
   "cell_type": "markdown",
   "metadata": {},
   "source": [
    "#### Example \n",
    "\n",
    "If a supply curve is modeled by the equation $p = 200 + 0.2x^{3/2}$, find the producer surplus when the selling price is \\$400."
   ]
  },
  {
   "cell_type": "code",
   "execution_count": null,
   "metadata": {},
   "outputs": [],
   "source": []
  },
  {
   "cell_type": "code",
   "execution_count": null,
   "metadata": {},
   "outputs": [],
   "source": []
  },
  {
   "cell_type": "code",
   "execution_count": null,
   "metadata": {},
   "outputs": [],
   "source": []
  },
  {
   "cell_type": "code",
   "execution_count": null,
   "metadata": {},
   "outputs": [],
   "source": []
  },
  {
   "cell_type": "markdown",
   "metadata": {},
   "source": [
    "#### Volume Problems\n",
    "\n",
    "1. $y = 2 - \\frac{1}{2}x$, $y = 0$, $x=1$, $x = 2$, about $x$-axis.\n",
    "2. $x=2\\sqrt{y}$, $x = 0$, $y = 9$; about the $y$-axis.\n",
    "3. $y = x^3$, $y = x$, $x \\geq 0$; about the $x$-axis.\n",
    "4. $y = x$, $y = \\sqrt{x}$, about $y = 1$.\n",
    "5. $y = 1 + \\sec(x)$, $y = 3$, about $y = 1$."
   ]
  },
  {
   "cell_type": "code",
   "execution_count": null,
   "metadata": {},
   "outputs": [],
   "source": []
  }
 ],
 "metadata": {
  "kernelspec": {
   "display_name": "Python 3",
   "language": "python",
   "name": "python3"
  },
  "language_info": {
   "codemirror_mode": {
    "name": "ipython",
    "version": 3
   },
   "file_extension": ".py",
   "mimetype": "text/x-python",
   "name": "python",
   "nbconvert_exporter": "python",
   "pygments_lexer": "ipython3",
   "version": "3.8.3"
  }
 },
 "nbformat": 4,
 "nbformat_minor": 4
}
