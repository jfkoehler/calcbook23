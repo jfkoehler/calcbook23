{
 "cells": [
  {
   "cell_type": "markdown",
   "metadata": {},
   "source": [
    "### Sequences and Summations\n",
    "\n",
    "**Objectives**\n",
    "\n",
    "- Generate terms of a binomial sequence\n",
    "- Form sequences of partial sums\n",
    "- Look for patterns in partial sums\n",
    "\n"
   ]
  },
  {
   "cell_type": "markdown",
   "metadata": {},
   "source": [
    "#### Problem: Sennett\n",
    "\n",
    "An ancient egyptian game of sennet involves dropping two colored sticks and moving a board piece based on the resulting stick color combination.  Your goal is to complete the table below, and determine the number of ways for each outcome for 3, 4, and 5 sticks to occur.\n",
    "\n",
    "| num sticks | 0 red | 1 red | 2 red | 3 red | 4 red | 5 red |\n",
    "| ---------- | ----- | ----- | ----- | ------ | ----- | ------ |\n",
    "| 1 | 1 | 1 | -- | -- | -- | -- |\n",
    "| 2 | 1 | 2 | 1 | -- | -- | -- |\n",
    "| 3 | $~$ | $~$ | $~$ | $~$ | $~$ | $~$ |\n",
    "| 4 | $~$ | $~$ | $~$ | $~$ | $~$ | $~$ |\n",
    "| 5 | $~$ | $~$ | $~$ | $~$ | $~$ | $~$ |"
   ]
  },
  {
   "cell_type": "markdown",
   "metadata": {},
   "source": [
    "#### Problem: Partial Sums\n",
    "\n",
    "Given the sequence below, we aim to evaluate the sum of a sequence and form a sequence based on these sums.  For example, take the sequence:\n",
    "\n",
    "$$a_n = 1, 1, 1, 1, 1, 1, 1, 1, 1, 1$$\n",
    "\n",
    "the sequence formed by the sum of the first $n$ terms would be:\n",
    "\n",
    "$$s_n = 1, 2, 3, 4, ... $$\n",
    "\n",
    "Your goal for each of the following sequences is to create a sequence of partial sums, and try to generate a recursive and closed form definition of that sequence of sums."
   ]
  },
  {
   "cell_type": "markdown",
   "metadata": {},
   "source": [
    "1. $a_n = 1, 2, 3, 4, 5, ...$\n",
    "2. $a_n = 1^3, 2^3, 3^3,  4^3$\n",
    "\n",
    "- [Sheet Link](https://docs.google.com/spreadsheets/d/1XsjVmyh_N6fI60VSu4_FL0dq68eAVTg_RhfbpjRE8Ms/edit?usp=sharing)"
   ]
  },
  {
   "cell_type": "markdown",
   "metadata": {},
   "source": [
    "### The Big Idea and Notation\n",
    "\n",
    "Create a sequence, and create a sequence from sums of the terms of the sequence.  Let's move to a slightly different expression of these ideas where we form sequences based on functions defined in closed form.  For each of the examples below use:\n",
    "\n",
    "$$x = 1, 2, 3, 4, 5, 6, 7, 8, 9, 10$$\n",
    "\n",
    "to evaluate the given function $f$.  Create a spreadsheet and visualize $f(x)$.  Next, create a sequence of partial sums on the same sheet and plot the sequence of partial sums alongside the functions.  \n",
    "\n",
    "1. $f(x) = 1$\n",
    "2. $f(x) = x$\n",
    "3. $f(x) = x^2$\n",
    "4. $f(x) = x^3$\n",
    "5. $f(x) = x^4$"
   ]
  },
  {
   "cell_type": "markdown",
   "metadata": {},
   "source": [
    "### Using Python and Notebooks"
   ]
  },
  {
   "cell_type": "markdown",
   "metadata": {},
   "source": [
    "While google sheets are nice, and there are many spaces that you may use a spreadsheet -- we want to move to some more powerful and flexible tools.  To begin, we aim to use Python to perform the operations we have used to this point.  These are:\n",
    "\n",
    "- Define and use functions\n",
    "- Visualize functions\n",
    "- Form sequences of partial sums in Python"
   ]
  },
  {
   "cell_type": "markdown",
   "metadata": {},
   "source": [
    "#### Some Basics\n",
    "\n",
    "- Addition: `+`\n",
    "- Subtraction: `-`\n",
    "- Multiplication: `*`\n",
    "- Division: `/`\n",
    "- Exponents: `**`"
   ]
  },
  {
   "cell_type": "code",
   "execution_count": 8,
   "metadata": {},
   "outputs": [
    {
     "data": {
      "text/plain": [
       "7"
      ]
     },
     "execution_count": 8,
     "metadata": {},
     "output_type": "execute_result"
    }
   ],
   "source": [
    "#addition\n",
    "3 + 4"
   ]
  },
  {
   "cell_type": "code",
   "execution_count": 9,
   "metadata": {},
   "outputs": [
    {
     "data": {
      "text/plain": [
       "-5"
      ]
     },
     "execution_count": 9,
     "metadata": {},
     "output_type": "execute_result"
    }
   ],
   "source": [
    "#subtraction\n",
    "3 - 8"
   ]
  },
  {
   "cell_type": "code",
   "execution_count": 10,
   "metadata": {},
   "outputs": [
    {
     "data": {
      "text/plain": [
       "20"
      ]
     },
     "execution_count": 10,
     "metadata": {},
     "output_type": "execute_result"
    }
   ],
   "source": [
    "#multiplication\n",
    "2*10"
   ]
  },
  {
   "cell_type": "code",
   "execution_count": 11,
   "metadata": {},
   "outputs": [
    {
     "data": {
      "text/plain": [
       "3.3333333333333335"
      ]
     },
     "execution_count": 11,
     "metadata": {},
     "output_type": "execute_result"
    }
   ],
   "source": [
    "#division\n",
    "10/3"
   ]
  },
  {
   "cell_type": "code",
   "execution_count": 12,
   "metadata": {},
   "outputs": [
    {
     "data": {
      "text/plain": [
       "16"
      ]
     },
     "execution_count": 12,
     "metadata": {},
     "output_type": "execute_result"
    }
   ],
   "source": [
    "#exponents\n",
    "2**4"
   ]
  },
  {
   "cell_type": "markdown",
   "metadata": {},
   "source": [
    "#### Defining functions\n",
    "\n",
    "```python\n",
    "def f(x):\n",
    "    return x**2\n",
    "```\n",
    "\n",
    "The above code defines a function that will take in a number and return its square.  After running a code cell with this definition you can use the function with `f(2)`."
   ]
  },
  {
   "cell_type": "code",
   "execution_count": 6,
   "metadata": {},
   "outputs": [],
   "source": [
    "#define a function\n",
    "def f(x):\n",
    "    return x**2"
   ]
  },
  {
   "cell_type": "code",
   "execution_count": 7,
   "metadata": {},
   "outputs": [
    {
     "data": {
      "text/plain": [
       "4"
      ]
     },
     "execution_count": 7,
     "metadata": {},
     "output_type": "execute_result"
    }
   ],
   "source": [
    "#use the function\n",
    "f(2)"
   ]
  },
  {
   "cell_type": "markdown",
   "metadata": {},
   "source": [
    "Use the functions defined below to evaluate the following:\n",
    "\n",
    "1. $f(0)$\n",
    "2. $g(0)$\n",
    "3. $f(10)$\n",
    "4. $g(.10)$\n",
    "5. $g(0)$"
   ]
  },
  {
   "cell_type": "code",
   "execution_count": 13,
   "metadata": {},
   "outputs": [],
   "source": [
    "def f(x):\n",
    "    return x - 4\n",
    "\n",
    "def g(x):\n",
    "    return 1/x"
   ]
  },
  {
   "cell_type": "code",
   "execution_count": 14,
   "metadata": {},
   "outputs": [],
   "source": [
    "#f(0)\n"
   ]
  },
  {
   "cell_type": "code",
   "execution_count": 15,
   "metadata": {},
   "outputs": [],
   "source": [
    "#g(0)\n"
   ]
  },
  {
   "cell_type": "code",
   "execution_count": 16,
   "metadata": {},
   "outputs": [],
   "source": [
    "#f(10)\n"
   ]
  },
  {
   "cell_type": "code",
   "execution_count": 17,
   "metadata": {},
   "outputs": [],
   "source": [
    "#g(.1)\n"
   ]
  },
  {
   "cell_type": "code",
   "execution_count": 18,
   "metadata": {},
   "outputs": [],
   "source": [
    "#g(0)\n"
   ]
  },
  {
   "cell_type": "markdown",
   "metadata": {},
   "source": [
    "#### Libraries and Plotting\n",
    "\n",
    "To create domains for our functions, we will use a library called `numpy`.  To visualize the functions, we will use a library called `matplotlib`.  In order to make use of these we first import and alias them below."
   ]
  },
  {
   "cell_type": "code",
   "execution_count": 8,
   "metadata": {},
   "outputs": [],
   "source": [
    "import matplotlib.pyplot as plt\n",
    "import numpy as np"
   ]
  },
  {
   "cell_type": "markdown",
   "metadata": {},
   "source": [
    "First, we will use numpy to create a domain as we did earlier with\n",
    "\n",
    "```python\n",
    "x = np.arange(1, 11)\n",
    "```"
   ]
  },
  {
   "cell_type": "code",
   "execution_count": 24,
   "metadata": {},
   "outputs": [
    {
     "data": {
      "text/plain": [
       "array([ 1,  2,  3,  4,  5,  6,  7,  8,  9, 10])"
      ]
     },
     "execution_count": 24,
     "metadata": {},
     "output_type": "execute_result"
    }
   ],
   "source": [
    "np.arange(1, 11)"
   ]
  },
  {
   "cell_type": "code",
   "execution_count": 25,
   "metadata": {},
   "outputs": [
    {
     "data": {
      "text/plain": [
       "array([ 1. ,  1.5,  2. ,  2.5,  3. ,  3.5,  4. ,  4.5,  5. ,  5.5,  6. ,\n",
       "        6.5,  7. ,  7.5,  8. ,  8.5,  9. ,  9.5, 10. , 10.5])"
      ]
     },
     "execution_count": 25,
     "metadata": {},
     "output_type": "execute_result"
    }
   ],
   "source": [
    "np.arange(1, 11, .5)"
   ]
  },
  {
   "cell_type": "code",
   "execution_count": 26,
   "metadata": {},
   "outputs": [
    {
     "data": {
      "text/plain": [
       "array([0. , 0.1, 0.2, 0.3, 0.4, 0.5, 0.6, 0.7, 0.8, 0.9])"
      ]
     },
     "execution_count": 26,
     "metadata": {},
     "output_type": "execute_result"
    }
   ],
   "source": [
    "np.arange(0, 1, .1)"
   ]
  },
  {
   "cell_type": "code",
   "execution_count": 10,
   "metadata": {},
   "outputs": [
    {
     "data": {
      "text/plain": [
       "array([  1,   4,   9,  16,  25,  36,  49,  64,  81, 100])"
      ]
     },
     "execution_count": 10,
     "metadata": {},
     "output_type": "execute_result"
    }
   ],
   "source": [
    "#define the function\n",
    "def f(x):\n",
    "    return x**2\n",
    "#define the domain\n",
    "x = np.arange(1, 11)\n",
    "#evaluate function on domain\n",
    "f(x)"
   ]
  },
  {
   "cell_type": "markdown",
   "metadata": {},
   "source": [
    "#### Problems\n",
    "\n",
    "For each of the following, use python and numpy to define and evaluate the functions on the given domain.\n",
    "\n",
    "1. $f(x) = x^2 + 3x + 1$ where $x1 = [0, 1, 2, 3, 4]$\n",
    "2. $g(x) = 1/x$ where $x2 = [1, 2, 3, 4, 5, 6, 7, 8]$\n",
    "3. $h(x) = x^3$ where $x3 = [0, .1, .2, ..., 1.9, 2.0]$"
   ]
  },
  {
   "cell_type": "code",
   "execution_count": 2,
   "metadata": {},
   "outputs": [],
   "source": [
    "#define f\n",
    "\n",
    "#define x1\n"
   ]
  },
  {
   "cell_type": "code",
   "execution_count": 3,
   "metadata": {},
   "outputs": [],
   "source": [
    "#define g\n",
    "\n",
    "#define x2\n"
   ]
  },
  {
   "cell_type": "code",
   "execution_count": 4,
   "metadata": {},
   "outputs": [],
   "source": [
    "#define h\n",
    "\n",
    "#define x3\n"
   ]
  },
  {
   "cell_type": "markdown",
   "metadata": {},
   "source": [
    "### Plotting Functions with `matplotlib`\n",
    "\n",
    "To plot a given function, use `plt.plot(x, y)`.  This produces a basic plot of a function or sequence.  Below, the functions and domains from the previous three problems will be used to create plots below."
   ]
  },
  {
   "cell_type": "code",
   "execution_count": 5,
   "metadata": {},
   "outputs": [],
   "source": [
    "#plt.plot(x1, f(x1))"
   ]
  },
  {
   "cell_type": "code",
   "execution_count": 6,
   "metadata": {},
   "outputs": [],
   "source": [
    "#plt.plot(x2, g(x2))"
   ]
  },
  {
   "cell_type": "code",
   "execution_count": 7,
   "metadata": {},
   "outputs": [],
   "source": [
    "#plt.plot(x3, h(x3))"
   ]
  },
  {
   "cell_type": "markdown",
   "metadata": {},
   "source": [
    "#### Computing Parital Sums\n",
    "\n",
    "To compute the partial sums of a sequence, use the `np.cumsum` function.  This computes the cumulative sum of a given sequence.  "
   ]
  },
  {
   "cell_type": "code",
   "execution_count": 16,
   "metadata": {},
   "outputs": [
    {
     "data": {
      "text/plain": [
       "array([ 1,  3,  6, 10, 15, 21, 28, 36, 45, 55])"
      ]
     },
     "execution_count": 16,
     "metadata": {},
     "output_type": "execute_result"
    }
   ],
   "source": [
    "def f(x): return x\n",
    "x = np.arange(1, 11)\n",
    "np.cumsum(x)"
   ]
  },
  {
   "cell_type": "code",
   "execution_count": 17,
   "metadata": {},
   "outputs": [
    {
     "data": {
      "text/plain": [
       "[<matplotlib.lines.Line2D at 0x7f87a34d6940>]"
      ]
     },
     "execution_count": 17,
     "metadata": {},
     "output_type": "execute_result"
    },
    {
     "data": {
      "image/png": "[encoded data removed]",
      "text/plain": [
       "<Figure size 432x288 with 1 Axes>"
      ]
     },
     "metadata": {
      "needs_background": "light"
     },
     "output_type": "display_data"
    }
   ],
   "source": [
    "plt.plot(x, np.cumsum(f(x)), '-o')"
   ]
  },
  {
   "cell_type": "markdown",
   "metadata": {},
   "source": [
    "#### Summary\n",
    "\n",
    "Today, we began using partial sums to form new sequences from old.  You want to get practice defining and plotting functions in python as we had above.  Below are additional examples to use as practice with defining and plotting functions."
   ]
  },
  {
   "cell_type": "markdown",
   "metadata": {},
   "source": [
    "1. $f(x) = \\frac{x-2}{3x + 8}$\n",
    "2. $f(x) = 9$\n",
    "3. $f(x) = (x - 4)^2 + 5$\n",
    "4. $f(x) = \\sqrt{x^2 - 3x}$"
   ]
  },
  {
   "cell_type": "code",
   "execution_count": null,
   "metadata": {},
   "outputs": [],
   "source": []
  },
  {
   "cell_type": "code",
   "execution_count": null,
   "metadata": {},
   "outputs": [],
   "source": []
  },
  {
   "cell_type": "code",
   "execution_count": null,
   "metadata": {},
   "outputs": [],
   "source": []
  },
  {
   "cell_type": "code",
   "execution_count": null,
   "metadata": {},
   "outputs": [],
   "source": []
  },
  {
   "cell_type": "code",
   "execution_count": null,
   "metadata": {},
   "outputs": [],
   "source": []
  },
  {
   "cell_type": "code",
   "execution_count": null,
   "metadata": {},
   "outputs": [],
   "source": []
  }
 ],
 "metadata": {
  "kernelspec": {
   "display_name": "Python 3",
   "language": "python",
   "name": "python3"
  },
  "language_info": {
   "codemirror_mode": {
    "name": "ipython",
    "version": 3
   },
   "file_extension": ".py",
   "mimetype": "text/x-python",
   "name": "python",
   "nbconvert_exporter": "python",
   "pygments_lexer": "ipython3",
   "version": "3.8.3"
  },
  "widgets": {
   "application/vnd.jupyter.widget-state+json": {
    "state": {},
    "version_major": 2,
    "version_minor": 0
   }
  }
 },
 "nbformat": 4,
 "nbformat_minor": 5
}
