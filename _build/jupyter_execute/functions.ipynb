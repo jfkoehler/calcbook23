{
 "cells": [
  {
   "cell_type": "markdown",
   "metadata": {},
   "source": [
    "# Functions"
   ]
  },
  {
   "cell_type": "markdown",
   "metadata": {},
   "source": [
    "<center>\n",
    "    <img src = \"https://upload.wikimedia.org/wikipedia/commons/thumb/3/3b/Function_machine2.svg/440px-Function_machine2.svg.png\" width = 40%/>\n",
    "</center>"
   ]
  },
  {
   "cell_type": "markdown",
   "metadata": {},
   "source": [
    "**Definition**\n",
    "\n",
    "*In mathematics, a function is a binary relation between two sets that associates every element of the first set to exactly one element of the second set. Typical examples are functions from integers to integers, or from the real numbers to real numbers.*\n"
   ]
  },
  {
   "cell_type": "markdown",
   "metadata": {},
   "source": [
    "### Starting with Sequences\n",
    "\n",
    "> *In mathematics, a sequence is an enumerated collection of objects in which repetitions are allowed and order matters. Like a set, it contains members (also called elements, or terms). The number of elements (possibly infinite) is called the length of the sequence. Unlike a set, the same elements can appear multiple times at different positions in a sequence, and unlike a set, the order does matter. Formally, a sequence can be defined as a function from natural numbers (the positions of elements in the sequence) to the elements at each position.*"
   ]
  },
  {
   "cell_type": "markdown",
   "metadata": {},
   "source": [
    "### Examples of Sequences\n",
    "\n",
    "Below, sequences are displayed visually.  \n",
    "\n",
    "- Determine an expression for the number of white dots\n",
    "- Determine an expression for the number of black dots\n",
    "- Determine an expression for the number of total dots\n",
    "- Use your expression to determine how many white, black and total dots there would be in the 20th term of the sequence\n",
    "\n",
    "<center>\n",
    "    <img src = images/sequences_1.png />\n",
    "</center>"
   ]
  },
  {
   "cell_type": "markdown",
   "metadata": {},
   "source": [
    "#### Problems\n",
    "\n",
    "![](images/sequence_2.png)"
   ]
  },
  {
   "cell_type": "code",
   "execution_count": null,
   "metadata": {},
   "outputs": [],
   "source": []
  },
  {
   "cell_type": "code",
   "execution_count": null,
   "metadata": {},
   "outputs": [],
   "source": []
  },
  {
   "cell_type": "code",
   "execution_count": null,
   "metadata": {},
   "outputs": [],
   "source": []
  },
  {
   "cell_type": "code",
   "execution_count": null,
   "metadata": {},
   "outputs": [],
   "source": []
  },
  {
   "cell_type": "code",
   "execution_count": null,
   "metadata": {},
   "outputs": [],
   "source": []
  },
  {
   "cell_type": "code",
   "execution_count": null,
   "metadata": {},
   "outputs": [],
   "source": []
  },
  {
   "cell_type": "code",
   "execution_count": null,
   "metadata": {},
   "outputs": [],
   "source": []
  },
  {
   "cell_type": "code",
   "execution_count": null,
   "metadata": {},
   "outputs": [],
   "source": []
  },
  {
   "cell_type": "code",
   "execution_count": null,
   "metadata": {},
   "outputs": [],
   "source": []
  },
  {
   "cell_type": "code",
   "execution_count": null,
   "metadata": {},
   "outputs": [],
   "source": []
  },
  {
   "cell_type": "code",
   "execution_count": null,
   "metadata": {},
   "outputs": [],
   "source": []
  },
  {
   "cell_type": "markdown",
   "metadata": {},
   "source": [
    "### Visualizing with Google Sheets\n",
    "\n",
    "Now, we will use google sheets do define and visualize the first ten terms of our four sequence.  To do so, we will define our functions in **two** ways.  The first method for defining function is a *recursive* definition.  This explains how to get from a previous term in a sequence $a_n$ to the next term $a_{n+1}$.  "
   ]
  },
  {
   "cell_type": "markdown",
   "metadata": {},
   "source": [
    "Let's start with the first sequence:\n",
    "\n",
    "$$a_n = 4, 9, 16, 25$$"
   ]
  },
  {
   "cell_type": "markdown",
   "metadata": {},
   "source": [
    "$$a_1 = 4$$\n",
    "$$a_2 = 4 + 5$$\n",
    "$$a_3 = 9 + 7$$\n",
    "$$a_4 = 16 + 9$$\n",
    "\n",
    "The key here is determining a way to generalize the $5, 7, 9$ in terms of the index value $n$.  Let's try to figure out this expression and use it to define the sequence in sheets [here](https://docs.google.com/spreadsheets/d/1iC_gAnenRtXLrKoT83GFuMCv2M5dF4L6Mib8u0SFk_c/edit?usp=sharing)."
   ]
  },
  {
   "cell_type": "markdown",
   "metadata": {},
   "source": [
    "- **STEP 1**: Define the index\n",
    "\n",
    "Set the first cell as 1.  Set the second cell below as equal to the previous cell plus one.  \n",
    "\n",
    "![](images/sheets1.png)"
   ]
  },
  {
   "cell_type": "markdown",
   "metadata": {},
   "source": [
    "- **Step 2**: Apply to 10 Cells\n",
    "\n",
    "Drag the values through the first ten rows of the data using the small blue square in the corner of the second cell.\n",
    "\n",
    "![](images/sheets2.png)"
   ]
  },
  {
   "cell_type": "markdown",
   "metadata": {},
   "source": [
    "- **Step 3**: Define Sequence\n",
    "\n",
    "Define the first term of the sequence in the second column.  In the second cell, define your rule based on the previous term and index value.\n",
    "\n",
    "![](images/sheets3.png)"
   ]
  },
  {
   "cell_type": "markdown",
   "metadata": {},
   "source": [
    "#### Problem\n",
    "\n",
    "Use google sheets to plot sequences A - D above."
   ]
  },
  {
   "cell_type": "markdown",
   "metadata": {},
   "source": [
    "### Closed Form definition\n",
    "\n",
    "An alternative approach to defining the sequences is to determine a rule in general where given the index value the function returns the term of the sequence.  For example, sequence A can be defined as:\n",
    "\n",
    "$$f(n) = (n + 1)^2$$"
   ]
  },
  {
   "cell_type": "markdown",
   "metadata": {},
   "source": [
    "Use closed form definitions to define sequences E-H from above on the second sheet named *closed*."
   ]
  },
  {
   "cell_type": "code",
   "execution_count": null,
   "metadata": {},
   "outputs": [],
   "source": []
  },
  {
   "cell_type": "code",
   "execution_count": null,
   "metadata": {},
   "outputs": [],
   "source": []
  },
  {
   "cell_type": "code",
   "execution_count": null,
   "metadata": {},
   "outputs": [],
   "source": []
  },
  {
   "cell_type": "code",
   "execution_count": 1,
   "metadata": {},
   "outputs": [
    {
     "data": {
      "text/plain": [
       "'/Users/jacobkoehler/Desktop/spring_22/calc23'"
      ]
     },
     "execution_count": 1,
     "metadata": {},
     "output_type": "execute_result"
    }
   ],
   "source": []
  },
  {
   "cell_type": "markdown",
   "metadata": {},
   "source": [
    "#### Summary\n",
    "\n",
    "Today we examined tools for representing patterns of numbers using both *recursive* and *closed form* functions.  We used numbers, tables, and graphs to examine these.  Next class, we will dive deeper into sequences and functions and begin plotting and defining them using the Python computer language."
   ]
  },
  {
   "cell_type": "markdown",
   "metadata": {},
   "source": [
    "1. $a_n = [1, 3, 5, 7, 9]$\n",
    "2. $a_n = [0, 3, 8, 15, 24]$\n",
    "3. ![](https://upload.wikimedia.org/wikipedia/commons/thumb/1/1c/First_six_triangular_numbers.svg/440px-First_six_triangular_numbers.svg.png)"
   ]
  }
 ],
 "metadata": {
  "kernelspec": {
   "display_name": "Python 3 (ipykernel)",
   "language": "python",
   "name": "python3"
  },
  "language_info": {
   "codemirror_mode": {
    "name": "ipython",
    "version": 3
   },
   "file_extension": ".py",
   "mimetype": "text/x-python",
   "name": "python",
   "nbconvert_exporter": "python",
   "pygments_lexer": "ipython3",
   "version": "3.8.5"
  },
  "widgets": {
   "application/vnd.jupyter.widget-state+json": {
    "state": {},
    "version_major": 2,
    "version_minor": 0
   }
  }
 },
 "nbformat": 4,
 "nbformat_minor": 4
}