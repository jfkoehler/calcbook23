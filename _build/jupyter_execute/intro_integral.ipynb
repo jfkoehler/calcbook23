{
 "cells": [
  {
   "cell_type": "markdown",
   "id": "f217feb3",
   "metadata": {},
   "source": [
    "### The Problem of Areas\n",
    "\n",
    "\n",
    "![](images/newton_integral.png)\n"
   ]
  },
  {
   "cell_type": "code",
   "execution_count": 1,
   "id": "001942b6",
   "metadata": {},
   "outputs": [],
   "source": [
    "import matplotlib.pyplot as plt\n",
    "import numpy as np"
   ]
  },
  {
   "cell_type": "markdown",
   "id": "d283e346",
   "metadata": {},
   "source": [
    "#### Problem 1: Parabola\n",
    "\n",
    "Consider the area under the curve:\n",
    "\n",
    "$$f(x) = -x^2 + 4$$ from $x = -1$ until $x = 1$"
   ]
  },
  {
   "cell_type": "code",
   "execution_count": 2,
   "id": "1ca696c6",
   "metadata": {},
   "outputs": [],
   "source": [
    "#define the function\n"
   ]
  },
  {
   "cell_type": "code",
   "execution_count": 3,
   "id": "f5850084",
   "metadata": {},
   "outputs": [],
   "source": [
    "#domain from -2.5 to 2.5 \n"
   ]
  },
  {
   "cell_type": "code",
   "execution_count": 4,
   "id": "088360b0",
   "metadata": {},
   "outputs": [],
   "source": [
    "#plot the function with grid and color the region\n"
   ]
  },
  {
   "cell_type": "markdown",
   "id": "aeeecf7b",
   "metadata": {},
   "source": [
    "##### Using Rectangles\n",
    "\n",
    "The first approach we will use is to build a small number of rectangles to approximate the area.\n",
    "\n",
    "- What are the $x$ coordinates for these rectangles if we use 4 rectangles with equal spacing?\n",
    "- What would the height of the rectangles be and why?\n",
    "- Find the area of each rectangle.\n",
    "- Add these areas together."
   ]
  },
  {
   "cell_type": "code",
   "execution_count": 5,
   "id": "a7a6b528",
   "metadata": {},
   "outputs": [],
   "source": [
    "#x values\n"
   ]
  },
  {
   "cell_type": "code",
   "execution_count": 6,
   "id": "014f0636",
   "metadata": {},
   "outputs": [],
   "source": [
    "#heights?\n"
   ]
  },
  {
   "cell_type": "code",
   "execution_count": 7,
   "id": "db1dbc54",
   "metadata": {},
   "outputs": [],
   "source": [
    "#areas \n"
   ]
  },
  {
   "cell_type": "code",
   "execution_count": 8,
   "id": "1849e05e",
   "metadata": {},
   "outputs": [],
   "source": [
    "#total area approx\n"
   ]
  },
  {
   "cell_type": "markdown",
   "id": "f7226ded",
   "metadata": {},
   "source": [
    "##### Improving the Approximation\n",
    "\n",
    "Use 8 rectangles and repeat the example above.  \n",
    "\n",
    "- What are the $x$-coordinates for each rectangle\n",
    "- What is the height of the rectangle\n",
    "- What is the area of each rectangle\n",
    "- What is the total area of each rectangle. "
   ]
  },
  {
   "cell_type": "code",
   "execution_count": 9,
   "id": "9a169925",
   "metadata": {},
   "outputs": [],
   "source": [
    "#x-values\n"
   ]
  },
  {
   "cell_type": "code",
   "execution_count": 10,
   "id": "3a7e60db",
   "metadata": {},
   "outputs": [],
   "source": [
    "#width of each rectangle?\n"
   ]
  },
  {
   "cell_type": "code",
   "execution_count": 11,
   "id": "92518607",
   "metadata": {},
   "outputs": [],
   "source": [
    "#heights\n"
   ]
  },
  {
   "cell_type": "code",
   "execution_count": 12,
   "id": "ba0087d6",
   "metadata": {},
   "outputs": [],
   "source": [
    "#areas\n"
   ]
  },
  {
   "cell_type": "code",
   "execution_count": 13,
   "id": "f4a1525e",
   "metadata": {},
   "outputs": [],
   "source": [
    "#total areas\n"
   ]
  },
  {
   "cell_type": "markdown",
   "id": "697088fc",
   "metadata": {},
   "source": [
    "##### Problem \n",
    "\n",
    "Use 16 rectangles and repeat above."
   ]
  },
  {
   "cell_type": "code",
   "execution_count": 14,
   "id": "216af462",
   "metadata": {},
   "outputs": [],
   "source": [
    "#x coordinates\n"
   ]
  },
  {
   "cell_type": "code",
   "execution_count": 15,
   "id": "cfb85fa8",
   "metadata": {},
   "outputs": [],
   "source": [
    "#heights\n"
   ]
  },
  {
   "cell_type": "code",
   "execution_count": 16,
   "id": "367b5238",
   "metadata": {},
   "outputs": [],
   "source": [
    "#areas\n"
   ]
  },
  {
   "cell_type": "code",
   "execution_count": 17,
   "id": "22e9bd0c",
   "metadata": {},
   "outputs": [],
   "source": [
    "#total area\n"
   ]
  },
  {
   "cell_type": "markdown",
   "id": "d3aae13f",
   "metadata": {},
   "source": [
    "**QUESTIONS**\n",
    "\n",
    "- Which of these was the best approximation and why?\n",
    "- Repeat the above process to estimate the area under the given curves with given boundaries:\n",
    "\n",
    "1. $f(x) = \\sin{x}$ on $[0, 2\\pi]$.  Draw a plot of the region, and start with 4 rectangles to approximate the area under the curve."
   ]
  },
  {
   "cell_type": "code",
   "execution_count": null,
   "id": "f73d815b",
   "metadata": {},
   "outputs": [],
   "source": []
  },
  {
   "cell_type": "code",
   "execution_count": null,
   "id": "08f8eb9b",
   "metadata": {},
   "outputs": [],
   "source": []
  },
  {
   "cell_type": "code",
   "execution_count": null,
   "id": "cccc68bc",
   "metadata": {},
   "outputs": [],
   "source": []
  },
  {
   "cell_type": "code",
   "execution_count": null,
   "id": "626c4065",
   "metadata": {},
   "outputs": [],
   "source": []
  },
  {
   "cell_type": "code",
   "execution_count": null,
   "id": "ed2f99ab",
   "metadata": {},
   "outputs": [],
   "source": []
  },
  {
   "cell_type": "markdown",
   "id": "f95c47ba",
   "metadata": {},
   "source": [
    "#### Human Work\n",
    "\n",
    "House-painting is a job that can be done by several people working simultaneously, so we can measure the amount of work done in staff-hours. Consider a house-painting business run by some students. Because of class schedules, different numbers of students will be painting at different times of the day. Let $s(t)$ be the number of staff present at time $t$, measured in hours from 8 am, and suppose that during an 8-hour work day, we have:\n",
    "\n",
    "$$s(t) = \\begin{cases} 3 & 0 \\leq t < 2 \\\\ 2 & 2 \\leq t < 4.5 \\\\ 4 & 4.5 \\leq t \\leq 8 \\end{cases}$$"
   ]
  },
  {
   "cell_type": "code",
   "execution_count": 18,
   "id": "be23e378",
   "metadata": {},
   "outputs": [],
   "source": [
    "def s(t):\n",
    "    return np.piecewise(t,\n",
    "                 [t < 2, t > 2, t > 4.5], \n",
    "                 [3, 2, 4])"
   ]
  },
  {
   "cell_type": "code",
   "execution_count": 19,
   "id": "9c9e9e08",
   "metadata": {},
   "outputs": [],
   "source": [
    "t = np.linspace(0, 8, 1000)"
   ]
  },
  {
   "cell_type": "code",
   "execution_count": 20,
   "id": "baf372f2",
   "metadata": {},
   "outputs": [
    {
     "data": {
      "text/plain": [
       "array([3., 3., 3., 2., 2., 2., 4., 4., 4., 4.])"
      ]
     },
     "execution_count": 20,
     "metadata": {},
     "output_type": "execute_result"
    }
   ],
   "source": [
    "s(t)[::100]"
   ]
  },
  {
   "cell_type": "code",
   "execution_count": 21,
   "id": "94887b47",
   "metadata": {},
   "outputs": [
    {
     "data": {
      "image/png": "[encoded data removed]",
      "text/plain": [
       "<Figure size 432x288 with 1 Axes>"
      ]
     },
     "metadata": {
      "filenames": {
       "image/png": "/Users/jacobkoehler/Desktop/spring_22/calcbook23/_build/jupyter_execute/intro_integral_32_0.png"
      },
      "needs_background": "light"
     },
     "output_type": "display_data"
    }
   ],
   "source": [
    "plt.plot(t, s(t))\n",
    "plt.grid()\n",
    "plt.title('Work Hours at Time $t$')\n",
    "plt.ylim(0, 5);"
   ]
  },
  {
   "cell_type": "markdown",
   "id": "e1443336",
   "metadata": {},
   "source": [
    "1. What is the total number of staff hours worked at times $t = 1, 2, 3, 4, 5, 6, 7, 8$?\n"
   ]
  },
  {
   "cell_type": "code",
   "execution_count": null,
   "id": "d1a15973",
   "metadata": {},
   "outputs": [],
   "source": []
  },
  {
   "cell_type": "code",
   "execution_count": null,
   "id": "9350882e",
   "metadata": {},
   "outputs": [],
   "source": []
  },
  {
   "cell_type": "markdown",
   "id": "0d366844",
   "metadata": {},
   "source": [
    "2. Suppose that there is a house-painting job to be done, and by past experience the students know that four of them could finish it in 6 hours. But for the first 3.5 hours, only two students can show up, and after that, five will be available.\n",
    "\n",
    "a. How long will the entire job take?\n",
    "b. Draw a graph of he staffing function for this problem.  Mark on the graph when the job is finished.\n",
    "c. Draw the graph of the accumulated work function."
   ]
  },
  {
   "cell_type": "code",
   "execution_count": null,
   "id": "98e165c2",
   "metadata": {},
   "outputs": [],
   "source": []
  },
  {
   "cell_type": "code",
   "execution_count": null,
   "id": "6042b53a",
   "metadata": {},
   "outputs": [],
   "source": []
  },
  {
   "cell_type": "code",
   "execution_count": null,
   "id": "5a090ca5",
   "metadata": {},
   "outputs": [],
   "source": []
  },
  {
   "cell_type": "code",
   "execution_count": null,
   "id": "802805c4",
   "metadata": {},
   "outputs": [],
   "source": []
  },
  {
   "cell_type": "code",
   "execution_count": null,
   "id": "ea64249e",
   "metadata": {},
   "outputs": [],
   "source": []
  },
  {
   "cell_type": "markdown",
   "id": "261b97d7",
   "metadata": {},
   "source": [
    "##### Problem: Computing Distance Traveled\n",
    "\n",
    "Suppose you are traveling in a vehicle that moves at the following speed in miles per hour at given time $t$ (in hours):\n",
    "\n",
    "$$v(t) \\begin{cases} 10 & t < 3 \\\\ 2t & 3 \\leq t \\leq 5 \\\\ 20 & t > 5 \\end{cases}$$"
   ]
  },
  {
   "cell_type": "markdown",
   "id": "5b793007",
   "metadata": {},
   "source": [
    "1. How far would you travel in the first hour?\n",
    "2. 2 hours?\n",
    "3. 3 hours?\n",
    "4. 5 hours?\n",
    "5. 10 hours?"
   ]
  },
  {
   "cell_type": "code",
   "execution_count": null,
   "id": "9ae0f600",
   "metadata": {},
   "outputs": [],
   "source": []
  },
  {
   "cell_type": "code",
   "execution_count": null,
   "id": "9edc16af",
   "metadata": {},
   "outputs": [],
   "source": []
  },
  {
   "cell_type": "code",
   "execution_count": null,
   "id": "4ded5d3c",
   "metadata": {},
   "outputs": [],
   "source": []
  },
  {
   "cell_type": "code",
   "execution_count": null,
   "id": "1f06d764",
   "metadata": {},
   "outputs": [],
   "source": []
  },
  {
   "cell_type": "code",
   "execution_count": null,
   "id": "65020e81",
   "metadata": {},
   "outputs": [],
   "source": []
  },
  {
   "cell_type": "markdown",
   "id": "28d2efe4",
   "metadata": {},
   "source": [
    "##### How much energy consumed\n",
    "\n",
    "Use the table below where the power demand for a house is given at time $t$. \n",
    "\n",
    "| $t$ | power |\n",
    "| ----- | ----- |\n",
    "| 1:30 | 275 |\n",
    "| 5:00 | 240 | \n",
    "| 8:00 | 730 |\n",
    "| 9:30 | 300 |\n",
    "| 11:00 | 150 |\n",
    "| 15:00 | 225 |\n",
    "| 18:30 | 1880 |\n",
    "| 20:00 | 950 |\n",
    "| 22:30 | 700 |\n",
    "| 23:00 | 350 |"
   ]
  },
  {
   "cell_type": "code",
   "execution_count": null,
   "id": "6f6834af",
   "metadata": {},
   "outputs": [],
   "source": []
  },
  {
   "cell_type": "code",
   "execution_count": null,
   "id": "fbc4104f",
   "metadata": {},
   "outputs": [],
   "source": []
  },
  {
   "cell_type": "code",
   "execution_count": null,
   "id": "7b70a942",
   "metadata": {},
   "outputs": [],
   "source": []
  },
  {
   "cell_type": "code",
   "execution_count": null,
   "id": "f959ed02",
   "metadata": {},
   "outputs": [],
   "source": []
  },
  {
   "cell_type": "code",
   "execution_count": null,
   "id": "a21931f3",
   "metadata": {},
   "outputs": [],
   "source": []
  },
  {
   "cell_type": "code",
   "execution_count": null,
   "id": "c14cfbe3",
   "metadata": {},
   "outputs": [],
   "source": []
  }
 ],
 "metadata": {
  "kernelspec": {
   "display_name": "Python 3",
   "language": "python",
   "name": "python3"
  },
  "language_info": {
   "codemirror_mode": {
    "name": "ipython",
    "version": 3
   },
   "file_extension": ".py",
   "mimetype": "text/x-python",
   "name": "python",
   "nbconvert_exporter": "python",
   "pygments_lexer": "ipython3",
   "version": "3.8.3"
  },
  "widgets": {
   "application/vnd.jupyter.widget-state+json": {
    "state": {},
    "version_major": 2,
    "version_minor": 0
   }
  }
 },
 "nbformat": 4,
 "nbformat_minor": 5
}