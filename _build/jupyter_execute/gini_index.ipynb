{
 "cells": [
  {
   "cell_type": "markdown",
   "metadata": {},
   "source": [
    "<script>\n",
    "  (function(i,s,o,g,r,a,m){i['GoogleAnalyticsObject']=r;i[r]=i[r]||function(){\n",
    "  (i[r].q=i[r].q||[]).push(arguments)},i[r].l=1*new Date();a=s.createElement(o),\n",
    "  m=s.getElementsByTagName(o)[0];a.async=1;a.src=g;m.parentNode.insertBefore(a,m)\n",
    "  })(window,document,'script','https://www.google-analytics.com/analytics.js','ga');\n",
    "\n",
    "  ga('create', 'UA-50838873-3', 'auto');\n",
    "  ga('send', 'pageview');\n",
    "\n",
    "</script>"
   ]
  },
  {
   "cell_type": "markdown",
   "metadata": {},
   "source": [
    "# Area Between Curves and Wealth Distribution"
   ]
  },
  {
   "cell_type": "code",
   "execution_count": 1,
   "metadata": {},
   "outputs": [],
   "source": [
    "import matplotlib.pyplot as plt\n",
    "import numpy as np\n",
    "import pandas as pd\n",
    "from scipy.integrate import quad"
   ]
  },
  {
   "cell_type": "code",
   "execution_count": 2,
   "metadata": {},
   "outputs": [],
   "source": [
    "#define y = x\n"
   ]
  },
  {
   "cell_type": "code",
   "execution_count": 3,
   "metadata": {},
   "outputs": [],
   "source": [
    "#define y = sqrt(x)\n"
   ]
  },
  {
   "cell_type": "code",
   "execution_count": 4,
   "metadata": {},
   "outputs": [],
   "source": [
    "#plot on 0, 1\n"
   ]
  },
  {
   "cell_type": "code",
   "execution_count": 5,
   "metadata": {},
   "outputs": [],
   "source": [
    "#area between?\n"
   ]
  },
  {
   "cell_type": "markdown",
   "metadata": {},
   "source": [
    "**EX:** Consider $y = \\sqrt{x}$ and $y = x^2$"
   ]
  },
  {
   "cell_type": "code",
   "execution_count": 6,
   "metadata": {},
   "outputs": [],
   "source": [
    "#define functions\n"
   ]
  },
  {
   "cell_type": "code",
   "execution_count": 7,
   "metadata": {},
   "outputs": [],
   "source": [
    "#plot\n"
   ]
  },
  {
   "cell_type": "code",
   "execution_count": 8,
   "metadata": {},
   "outputs": [],
   "source": [
    "#domain?\n"
   ]
  },
  {
   "cell_type": "code",
   "execution_count": 9,
   "metadata": {},
   "outputs": [],
   "source": [
    "#solution\n"
   ]
  },
  {
   "cell_type": "markdown",
   "metadata": {},
   "source": [
    "1. $f(x) = \\sin{x}$ and $g(x) = \\cos{x}$ on $[0, \\pi]$\n",
    "2. Between $f(x) = 3x + 4$ and $g(x) = x^2$"
   ]
  },
  {
   "cell_type": "code",
   "execution_count": null,
   "metadata": {},
   "outputs": [],
   "source": []
  },
  {
   "cell_type": "code",
   "execution_count": null,
   "metadata": {},
   "outputs": [],
   "source": []
  },
  {
   "cell_type": "code",
   "execution_count": null,
   "metadata": {},
   "outputs": [],
   "source": []
  },
  {
   "cell_type": "code",
   "execution_count": null,
   "metadata": {},
   "outputs": [],
   "source": []
  },
  {
   "cell_type": "code",
   "execution_count": null,
   "metadata": {},
   "outputs": [],
   "source": []
  },
  {
   "cell_type": "code",
   "execution_count": null,
   "metadata": {},
   "outputs": [],
   "source": []
  },
  {
   "cell_type": "markdown",
   "metadata": {},
   "source": [
    "# Wealth Distribution\n",
    "\n",
    "One way that we might understand equality is through understanding the distribution of wealth in a society.  Perfect wealth distribution would mean that all participants have the same share of wealth as everyone else.  We can represent this situation mathematically with a function $L(x) = x$ that we will call the **Lorenz Curve**. \n",
    "\n",
    "Concretely, if we were to look at every 20% of the population, we would see 20% of income.\n",
    "\n",
    "| Fifths of Households | Percent of Wealth |\n",
    "| -------------------  | -------------     |\n",
    "| Lowest Fifth | 20 |\n",
    "| Lowest two - Fifths | 40 |\n",
    "| Lowest three - Fifths | 60 |\n",
    "| Lowest four - Fifths | 80 |\n",
    "| Lowest five - Fifths | 100 |\n",
    "\n"
   ]
  },
  {
   "cell_type": "code",
   "execution_count": 10,
   "metadata": {},
   "outputs": [],
   "source": [
    "percent = [0, 0.2, 0.4, 0.6, 0.8, 1.0]\n",
    "lorenz = [0, 0.2, 0.4, 0.6, 0.8, 1.0]"
   ]
  },
  {
   "cell_type": "code",
   "execution_count": 11,
   "metadata": {},
   "outputs": [
    {
     "data": {
      "text/plain": [
       "Text(0.5, 1.0, 'Perfect Wealth Distribution')"
      ]
     },
     "execution_count": 11,
     "metadata": {},
     "output_type": "execute_result"
    },
    {
     "data": {
      "image/png": "[encoded data removed]",
      "text/plain": [
       "<Figure size 432x288 with 1 Axes>"
      ]
     },
     "metadata": {
      "filenames": {
       "image/png": "/Users/jacobkoehler/Desktop/spring_22/calcbook23/_build/jupyter_execute/gini_index_21_1.png"
      },
      "needs_background": "light"
     },
     "output_type": "display_data"
    }
   ],
   "source": [
    "plt.plot(percent, lorenz, '-o')\n",
    "plt.title(\"Perfect Wealth Distribution\")"
   ]
  },
  {
   "cell_type": "markdown",
   "metadata": {},
   "source": [
    "It is unlikely that we have perfect distribution of wealth in a society however.  For example, the following table describes the cumulative distribution of income in the United States for the year 1994.  \n",
    "\n",
    "| Fifths of Households | Percent of Wealth |\n",
    "| -------------------  | -------------     |\n",
    "| Lowest Fifth | 4.2 |\n",
    "| Lowest two - Fifths | 14.2 |\n",
    "| Lowest three - Fifths | 29.9 |\n",
    "| Lowest four - Fifths | 53.2 |\n",
    "| Lowest five - Fifths | 100.0 |"
   ]
  },
  {
   "cell_type": "code",
   "execution_count": 12,
   "metadata": {},
   "outputs": [],
   "source": [
    "usa_94 = [0, 0.042, 0.142, 0.299, 0.532, 1.00]"
   ]
  },
  {
   "cell_type": "code",
   "execution_count": 13,
   "metadata": {},
   "outputs": [
    {
     "data": {
      "text/plain": [
       "<matplotlib.legend.Legend at 0x7fef6f5be4f0>"
      ]
     },
     "execution_count": 13,
     "metadata": {},
     "output_type": "execute_result"
    },
    {
     "data": {
      "image/png": "[encoded data removed]",
      "text/plain": [
       "<Figure size 648x360 with 1 Axes>"
      ]
     },
     "metadata": {
      "filenames": {
       "image/png": "/Users/jacobkoehler/Desktop/spring_22/calcbook23/_build/jupyter_execute/gini_index_24_1.png"
      },
      "needs_background": "light"
     },
     "output_type": "display_data"
    }
   ],
   "source": [
    "plt.figure(figsize = (9, 5))\n",
    "plt.plot(percent, lorenz, '-o', label = 'Lorenz Curve')\n",
    "plt.plot(percent, usa_94, '-o', label = 'USA 1994')\n",
    "plt.title(\"The Difference between Perfect and Actual Wealth Equality\")\n",
    "plt.legend(loc = 'best', frameon = False)"
   ]
  },
  {
   "cell_type": "markdown",
   "metadata": {},
   "source": [
    "The area between these curves can be understood to represent the discrepency between perfect wealth distribution and levels of inequality.  Further, if we examine the ratio between this area and that under the **Lorenz Curve** we get the **Gini Index**.  \n",
    "\n",
    "One big issue remains however.  We don't want to use rectangles to approximate these regions but we don't have equations for the actual distribution of wealth.  We introduce two curve fitting techniques using `numpy` to address this problem."
   ]
  },
  {
   "cell_type": "markdown",
   "metadata": {},
   "source": [
    "## Quadratic Fit\n",
    "\n",
    "The curve in the figure above representing the actual distribution of wealth in the USA in 1994 can be approximated by a polynomial function.  NumPy has a function called `polyfit` that will fit a polynomial to a set of points.  Here, we use `polyfit` to fit a quadratic function to the points."
   ]
  },
  {
   "cell_type": "code",
   "execution_count": null,
   "metadata": {},
   "outputs": [],
   "source": []
  },
  {
   "cell_type": "code",
   "execution_count": null,
   "metadata": {},
   "outputs": [],
   "source": []
  },
  {
   "cell_type": "code",
   "execution_count": null,
   "metadata": {},
   "outputs": [],
   "source": []
  },
  {
   "cell_type": "code",
   "execution_count": null,
   "metadata": {},
   "outputs": [],
   "source": []
  },
  {
   "cell_type": "code",
   "execution_count": null,
   "metadata": {},
   "outputs": [],
   "source": []
  },
  {
   "cell_type": "code",
   "execution_count": null,
   "metadata": {},
   "outputs": [],
   "source": []
  },
  {
   "cell_type": "code",
   "execution_count": null,
   "metadata": {},
   "outputs": [],
   "source": []
  },
  {
   "cell_type": "code",
   "execution_count": null,
   "metadata": {},
   "outputs": [],
   "source": []
  },
  {
   "cell_type": "markdown",
   "metadata": {},
   "source": [
    "### Getting the Fit\n",
    "\n",
    "Below, we return to the complete picture where we plot our fitted function and the **Lorenz Curve** and shade the area that represents the difference in income distribution."
   ]
  },
  {
   "cell_type": "code",
   "execution_count": null,
   "metadata": {},
   "outputs": [],
   "source": []
  },
  {
   "cell_type": "markdown",
   "metadata": {},
   "source": [
    "Now, we want to compute the ratio between the area between the curves to that under the **Lorenz Curve**.  We can do this easily using our `quad` function for estimating integrals."
   ]
  },
  {
   "cell_type": "code",
   "execution_count": null,
   "metadata": {},
   "outputs": [],
   "source": []
  },
  {
   "cell_type": "code",
   "execution_count": null,
   "metadata": {},
   "outputs": [],
   "source": []
  },
  {
   "cell_type": "code",
   "execution_count": null,
   "metadata": {},
   "outputs": [],
   "source": []
  },
  {
   "cell_type": "code",
   "execution_count": null,
   "metadata": {},
   "outputs": [],
   "source": []
  },
  {
   "cell_type": "code",
   "execution_count": null,
   "metadata": {},
   "outputs": [],
   "source": []
  },
  {
   "cell_type": "markdown",
   "metadata": {},
   "source": [
    "### Inequality through Time\n",
    "\n",
    "Now that we understand how to compute the Gini Index, we want to explore what improving the gap in wealth distribution would mean.  "
   ]
  },
  {
   "cell_type": "code",
   "execution_count": 14,
   "metadata": {},
   "outputs": [
    {
     "data": {
      "text/plain": [
       "<matplotlib.legend.Legend at 0x7fef6f5e9b20>"
      ]
     },
     "execution_count": 14,
     "metadata": {},
     "output_type": "execute_result"
    },
    {
     "data": {
      "image/png": "[encoded data removed]",
      "text/plain": [
       "<Figure size 720x504 with 1 Axes>"
      ]
     },
     "metadata": {
      "filenames": {
       "image/png": "/Users/jacobkoehler/Desktop/spring_22/calcbook23/_build/jupyter_execute/gini_index_44_1.png"
      },
      "needs_background": "light"
     },
     "output_type": "display_data"
    }
   ],
   "source": [
    "x = np.linspace(0, 1, 100)\n",
    "plt.figure(figsize = (10, 7))\n",
    "plt.plot(x, x)\n",
    "plt.plot(x, x**2, label = \"Country A\")\n",
    "plt.plot(x, x**4, label = \"Country B\")\n",
    "plt.plot(x, x**8, label = \"Country C\")\n",
    "plt.plot(x, x**16, label = \"Country D\")\n",
    "plt.ylabel(\"Income Percent\")\n",
    "plt.xlabel(\"Population Fraction\")\n",
    "plt.title(\"Different Wealth Distributions\")\n",
    "plt.legend(loc = \"best\", frameon = False)"
   ]
  },
  {
   "cell_type": "markdown",
   "metadata": {},
   "source": [
    "Which of the above countries do you believe is the most equitable?  Why?\n",
    "\n"
   ]
  },
  {
   "cell_type": "markdown",
   "metadata": {},
   "source": [
    "### Census Bureau Data and Pandas\n",
    "\n",
    "There are many organizations that use the Gini Index to this day.  The OECD, World Bank, and US Census all track Gini Indicies.  We want to investigate the real data much as we have with our smaller examples.  To do so, we will use the Pandas library.  \n",
    "\n",
    "The table below gives distribution data for the years 1970, 1980, 1990, and 2000.  \n",
    "\n",
    "| x | 0.0 | 0.2 | 0.4 | 0.6 | 0.8 | 1.0 |\n",
    "| --- | --- | --- | --- | --- | --- | --- |\n",
    "| 1970 | 0.000 | 0.041 | 0.149 | 0.323 | 0.568 | 1.000 |\n",
    "| 1980 | 0.000 | 0.042 | 0.144 | 0.312 | 0.559 | 1.000 |\n",
    "| 1990 | 0.000 | 0.038 | 0.134 | 0.293 | 0.530 | 1.000 |\n",
    "| 2000 | 0.000 | 0.036 | 0.125 | 0.273 | 0.503 | 1.000 |\n",
    "\n",
    "#### Creating the DataFrame\n",
    "\n",
    "We will begin by creating a table from this data by entering lists with these values and creating a DataFrame from these lists.  \n",
    "\n"
   ]
  },
  {
   "cell_type": "code",
   "execution_count": 15,
   "metadata": {
    "collapsed": true,
    "jupyter": {
     "outputs_hidden": true
    }
   },
   "outputs": [],
   "source": [
    "import pandas as pd\n",
    "seventies = [0, 0.041, 0.149, 0.323, 0.568, 1.0]\n",
    "eighties = [0, 0.042, 0.144, 0.312, 0.559, 1.0]\n",
    "nineties = [0, 0.038, 0.134, 0.293, 0.53, 1.0]\n",
    "twothou = [0, 0.036, 0.125, 0.273, 0.503, 1.0]"
   ]
  },
  {
   "cell_type": "code",
   "execution_count": 16,
   "metadata": {},
   "outputs": [
    {
     "data": {
      "text/html": [
       "<div>\n",
       "<style scoped>\n",
       "    .dataframe tbody tr th:only-of-type {\n",
       "        vertical-align: middle;\n",
       "    }\n",
       "\n",
       "    .dataframe tbody tr th {\n",
       "        vertical-align: top;\n",
       "    }\n",
       "\n",
       "    .dataframe thead th {\n",
       "        text-align: right;\n",
       "    }\n",
       "</style>\n",
       "<table border=\"1\" class=\"dataframe\">\n",
       "  <thead>\n",
       "    <tr style=\"text-align: right;\">\n",
       "      <th></th>\n",
       "      <th>1970s</th>\n",
       "      <th>1980s</th>\n",
       "      <th>1990s</th>\n",
       "      <th>2000s</th>\n",
       "      <th>perfect</th>\n",
       "    </tr>\n",
       "  </thead>\n",
       "  <tbody>\n",
       "    <tr>\n",
       "      <th>0</th>\n",
       "      <td>0.000</td>\n",
       "      <td>0.000</td>\n",
       "      <td>0.000</td>\n",
       "      <td>0.000</td>\n",
       "      <td>0.0</td>\n",
       "    </tr>\n",
       "    <tr>\n",
       "      <th>1</th>\n",
       "      <td>0.041</td>\n",
       "      <td>0.042</td>\n",
       "      <td>0.038</td>\n",
       "      <td>0.036</td>\n",
       "      <td>0.2</td>\n",
       "    </tr>\n",
       "    <tr>\n",
       "      <th>2</th>\n",
       "      <td>0.149</td>\n",
       "      <td>0.144</td>\n",
       "      <td>0.134</td>\n",
       "      <td>0.125</td>\n",
       "      <td>0.4</td>\n",
       "    </tr>\n",
       "    <tr>\n",
       "      <th>3</th>\n",
       "      <td>0.323</td>\n",
       "      <td>0.312</td>\n",
       "      <td>0.293</td>\n",
       "      <td>0.273</td>\n",
       "      <td>0.6</td>\n",
       "    </tr>\n",
       "    <tr>\n",
       "      <th>4</th>\n",
       "      <td>0.568</td>\n",
       "      <td>0.559</td>\n",
       "      <td>0.530</td>\n",
       "      <td>0.503</td>\n",
       "      <td>0.8</td>\n",
       "    </tr>\n",
       "  </tbody>\n",
       "</table>\n",
       "</div>"
      ],
      "text/plain": [
       "   1970s  1980s  1990s  2000s  perfect\n",
       "0  0.000  0.000  0.000  0.000      0.0\n",
       "1  0.041  0.042  0.038  0.036      0.2\n",
       "2  0.149  0.144  0.134  0.125      0.4\n",
       "3  0.323  0.312  0.293  0.273      0.6\n",
       "4  0.568  0.559  0.530  0.503      0.8"
      ]
     },
     "execution_count": 16,
     "metadata": {},
     "output_type": "execute_result"
    }
   ],
   "source": [
    "df = pd.DataFrame({'1970s': seventies, '1980s':eighties, '1990s': nineties,\n",
    "                  '2000s': twothou, 'perfect': [0, 0.2, 0.4, 0.6, 0.8, 1.0]})\n",
    "df.head()"
   ]
  },
  {
   "cell_type": "code",
   "execution_count": null,
   "metadata": {},
   "outputs": [],
   "source": []
  },
  {
   "cell_type": "code",
   "execution_count": null,
   "metadata": {},
   "outputs": [],
   "source": []
  },
  {
   "cell_type": "code",
   "execution_count": null,
   "metadata": {},
   "outputs": [],
   "source": []
  },
  {
   "cell_type": "code",
   "execution_count": null,
   "metadata": {},
   "outputs": [],
   "source": []
  },
  {
   "cell_type": "code",
   "execution_count": null,
   "metadata": {},
   "outputs": [],
   "source": []
  },
  {
   "cell_type": "markdown",
   "metadata": {},
   "source": [
    "### Problems\n",
    "\n"
   ]
  },
  {
   "cell_type": "markdown",
   "metadata": {},
   "source": [
    "\n",
    "\n",
    "**Problem 1**: Consider $y = x$ and $y = x^2$.  What is the Gini Coefficient between these curves?\n",
    "\n",
    "\n",
    "**Problem 2**: Use the table below to find the Lorenz curve for the data.\n",
    "\n",
    "| Fraction of People | Fraction of Income |\n",
    "| ----------------   | ------------------ |\n",
    "| 0.0 | 0.0 |\n",
    "| 0.2 | 0.06 |\n",
    "| 0.4 | 0.18 |\n",
    "| 0.6 | 0.36 |\n",
    "| 0.8 | 0.60 |\n",
    "| 1.0 | 1.00 |\n",
    "\n",
    "**Problem 3**: Let the fraction of population be the variable $p$ and the fraction of the resource to be $r$.  Use the symbols to write the equation for perfect equality.\n",
    "\n",
    "\n",
    "**Problem 4**: The table below shows how arable land is distributed among farmers in Blivia, Denmark, and the United States.  In which country is the land most equally distributed?  The least?\n",
    "\n",
    "| Fraction of Farmers | Fraction of Land Bolivia | Denmark | United States |\n",
    "| -----------------   | -----------------------  | -------- | ------------ |\n",
    "| 0.0 | 0.0 | 0.0 | 0.0 |\n",
    "| 0.1 | 0.0 | 0.06 | 0.025 |\n",
    "| 0.2 | 0.0 | 0.12 | 0.05 |\n",
    "| 0.3 | 0.0 | 0.18 | 0.075 |\n",
    "| 0.4 | 0.0 | 0.24 | 0.10 | \n",
    "| 0.5 | 0.010 | 0.30 | 0.13 |\n",
    "| 0.6 | 0.016 | 0.36 | 0.18 |\n",
    "| 0.7 | 0.022 | 0.45 | 0.22 |\n",
    "| 0.8 | 0.03 | 0.54 | 0.28 |\n",
    "| 0.9 | 0.04 | 0.70 | 0.42 |\n",
    "| 1.0 | 1.00 | 1.00 | 1.00 |"
   ]
  },
  {
   "cell_type": "markdown",
   "metadata": {},
   "source": [
    "**Problem 5**: The table below shows how population was divided among the 25 largest countries in 1963 and 1968.  Was there change in the population distribution between 1963 and 1968? How would the Lorenz curves for 1963 and 1968 compare? \n",
    "\n",
    "| Fraction of Countries | Fraction of Population 1963 | 1968 |\n",
    "| --------------------  | --------------------------  | ----- |\n",
    "| 0.0 | 0.0 | 0.0 |\n",
    "| 0.2 | 0.046 | 0.048 |\n",
    "| 0.4 | 0.105 | 0.107 |\n",
    "| 0.6 | 0.193 | 0.194 |\n",
    "| 0.8 | 0.345 | 0.347 |\n",
    "| 1.0 | 1.000 | 1.00  |"
   ]
  },
  {
   "cell_type": "markdown",
   "metadata": {},
   "source": [
    "**Problem 6**: The table below shows how total energy produced and total energy consumed was divided among the 25 largest producers and users of energy in 1963.  Draw the corresponding Lornez curves on the same set of coordinates.  Was production of energy more or less equally divided than was use of energy?\n",
    "\n",
    "| Fraction of Countries | Energy Used | Energy Produced |\n",
    "| --------------------- | ----------  | --------------- |\n",
    "| 0.0  | 0.00 | 0.00 |\n",
    "| 0.2 | 0.027 | 0.032 |\n",
    "| 0.4 | 0.065 | 0.084 | \n",
    "| 0.6 | 0.135 | 170 |\n",
    "| 0.8 | 0.266 | 0.3031 |\n",
    "| 1.0 | 1.000 | 1.0000 |"
   ]
  },
  {
   "cell_type": "markdown",
   "metadata": {},
   "source": [
    "**Problem 7**: Letting $p$ stand for the fraction of the population and $r$ for the fraction of the resource, consider the family of Lorenz curve given by the equation \n",
    "\n",
    "$$r = p^n; \\quad n = 1,2,3,4,...$$\n",
    "\n",
    "- To what situation does $n = 1$ correspond?\n",
    "\n",
    "- In what way is the number $n$ a measure of the equlaity of distribution?\n",
    "\n",
    "- To what situation does the Lorenz curve $r = p^n$ correspond in the case as $n \\to \\infty$"
   ]
  },
  {
   "cell_type": "markdown",
   "metadata": {},
   "source": [
    "**Problem 8**: The table below shows how gross national product (GNP) is distributed among the countries of the world:\n",
    "\n",
    "| Fraction of Countries | Fraction of GNP |\n",
    "| --------------------- | --------------- |\n",
    "| 0.0 | 0.0 |\n",
    "| 0.1 | 0.001 | \n",
    "| 0.2 | 0.002 | \n",
    "| 0.3 | 0.005 | \n",
    "| 0.4 | 0.010 |\n",
    "| 0.5 | 0.018 | \n",
    "| 0.6 | 0.028 | \n",
    "| 0.7 | 0.058 |\n",
    "| 0.8 | 0.11 |\n",
    "| 0.9 | 0.21 |\n",
    "| 1.0 | 1.00 |\n",
    "\n",
    "a. Determine the Lorenz Curve for this data using the model you deem most appropriate.\n",
    "\n",
    "b. Draw the Lorenz Curve and the curve for completely unequal distribution on the same axes.\n",
    "\n",
    "c. Is the GNP divided equally or unequally among the countries of the world?  "
   ]
  },
  {
   "cell_type": "markdown",
   "metadata": {},
   "source": [
    "**Problem 9**: Use the library to find a research article that investigates the Gini Coefficient.  Describe the research, what were they investigating, what was the data, and what did they find.  "
   ]
  },
  {
   "cell_type": "markdown",
   "metadata": {},
   "source": [
    "**Problem 10**: The US Census provides data that could be used in an analysis of distribution of resources.  One such dataset is the [Wealth, Asset Ownership, & Debt of Households](https://www.census.gov/data/tables/2017/demo/wealth/wealth-asset-ownership.html). Use this data to analyze the equality of the distribution of debt -- or find another data table that is of interest and makes sense to use in an analysis of distribution of resources."
   ]
  },
  {
   "cell_type": "code",
   "execution_count": null,
   "metadata": {},
   "outputs": [],
   "source": []
  }
 ],
 "metadata": {
  "kernelspec": {
   "display_name": "Python 3",
   "language": "python",
   "name": "python3"
  },
  "language_info": {
   "codemirror_mode": {
    "name": "ipython",
    "version": 3
   },
   "file_extension": ".py",
   "mimetype": "text/x-python",
   "name": "python",
   "nbconvert_exporter": "python",
   "pygments_lexer": "ipython3",
   "version": "3.8.3"
  }
 },
 "nbformat": 4,
 "nbformat_minor": 4
}