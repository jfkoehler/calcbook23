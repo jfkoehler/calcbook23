{
 "cells": [
  {
   "cell_type": "markdown",
   "id": "324e54af",
   "metadata": {},
   "source": [
    "### The Definite Integral\n",
    "\n",
    "**OBJECTIVES**\n",
    "\n",
    "- Interpret area problems as definite integrals\n",
    "- Evaluate definite integrals involving polynomial and trigonometric functions and rules\n",
    "- Solve problems involving Net Change using integrals and their approximations\n",
    "- Determine area between curves using definite integrals"
   ]
  },
  {
   "cell_type": "code",
   "execution_count": 1,
   "id": "c1f41d78",
   "metadata": {},
   "outputs": [],
   "source": [
    "import numpy as np\n",
    "import matplotlib.pyplot as plt\n",
    "from scipy.integrate import quad"
   ]
  },
  {
   "cell_type": "markdown",
   "id": "1e230b0a",
   "metadata": {},
   "source": [
    "#### A Definition\n",
    "\n",
    "$$\\int_a^b f(x) dx = \\lim_{n \\to \\infty} \\sum_{i = 1}^n f(x_i^*)\\Delta x$$"
   ]
  },
  {
   "cell_type": "markdown",
   "id": "fa62f99a",
   "metadata": {},
   "source": [
    "We begin by interpreting the definite integral as the area between $x = a$ and $x = b$ under the curve determined by $f$."
   ]
  },
  {
   "cell_type": "markdown",
   "id": "d12b06f7",
   "metadata": {},
   "source": [
    "**PROBLEMS**\n",
    "\n",
    "For each of the following definite integrals you are to plot the region and determine its area.\n",
    "\n",
    "1. $\\int_{-1}^2 x^3 - 2x ~ dx$\n"
   ]
  },
  {
   "cell_type": "code",
   "execution_count": null,
   "id": "b32e57ee",
   "metadata": {},
   "outputs": [],
   "source": []
  },
  {
   "cell_type": "code",
   "execution_count": null,
   "id": "e2f3cb77",
   "metadata": {},
   "outputs": [],
   "source": []
  },
  {
   "cell_type": "code",
   "execution_count": null,
   "id": "2ec8e72b",
   "metadata": {},
   "outputs": [],
   "source": []
  },
  {
   "cell_type": "markdown",
   "id": "182ec987",
   "metadata": {},
   "source": [
    "2. $\\int_1^4 5 - 2x + 3x^2 ~ dx$"
   ]
  },
  {
   "cell_type": "code",
   "execution_count": null,
   "id": "4aa191e1",
   "metadata": {},
   "outputs": [],
   "source": []
  },
  {
   "cell_type": "code",
   "execution_count": null,
   "id": "6e139d2f",
   "metadata": {},
   "outputs": [],
   "source": []
  },
  {
   "cell_type": "code",
   "execution_count": null,
   "id": "786f0aa4",
   "metadata": {},
   "outputs": [],
   "source": []
  },
  {
   "cell_type": "markdown",
   "id": "766107a7",
   "metadata": {},
   "source": [
    "3. $\\int_0^2 x(2 + x^5) ~ dx$"
   ]
  },
  {
   "cell_type": "code",
   "execution_count": null,
   "id": "e5f49886",
   "metadata": {},
   "outputs": [],
   "source": []
  },
  {
   "cell_type": "code",
   "execution_count": null,
   "id": "637db12c",
   "metadata": {},
   "outputs": [],
   "source": []
  },
  {
   "cell_type": "code",
   "execution_count": null,
   "id": "53db1df1",
   "metadata": {},
   "outputs": [],
   "source": []
  },
  {
   "cell_type": "markdown",
   "id": "5693e639",
   "metadata": {},
   "source": [
    "4. $\\int_{\\pi}^{2\\pi} \\cos \\theta ~ d\\theta$"
   ]
  },
  {
   "cell_type": "code",
   "execution_count": null,
   "id": "46416bf7",
   "metadata": {},
   "outputs": [],
   "source": []
  },
  {
   "cell_type": "code",
   "execution_count": null,
   "id": "143fc28a",
   "metadata": {},
   "outputs": [],
   "source": []
  },
  {
   "cell_type": "code",
   "execution_count": null,
   "id": "b466a3bf",
   "metadata": {},
   "outputs": [],
   "source": []
  },
  {
   "cell_type": "markdown",
   "id": "b887e67b",
   "metadata": {},
   "source": [
    "#### Net Change \n",
    "\n",
    "The definite integral and the summations it was born from speak to the notion of it as an accumlator.  In addition to area we aim to interpret a definite integral as representing the net change in a function representing a **rate of change**.\n",
    "\n",
    "For example:\n",
    "\n",
    "- $r(t)$: rate of water flowing out of tank at time $t$; change in water in reservoir \n",
    "- $v(t)$: velocity of object at time $t$; displacement\n",
    "- $\\rho(x)$: the density of a rod measured length $x$; maxx\n",
    "- $p(t)$: rate of change of population at some time $t$; change in population"
   ]
  },
  {
   "cell_type": "markdown",
   "id": "5157db0b",
   "metadata": {},
   "source": [
    "**EXAMPLE**\n",
    "\n",
    "A particle moves along a line with velocity at time $t$ given by $v(t) = t^2 - t - 6$.  \n",
    "\n",
    "- What is the displacement from time $t = 1$ and $t = 4$. \n",
    "- What is the distance traveled during this time"
   ]
  },
  {
   "cell_type": "code",
   "execution_count": null,
   "id": "b4633752",
   "metadata": {},
   "outputs": [],
   "source": []
  },
  {
   "cell_type": "markdown",
   "id": "6c3f3d4f",
   "metadata": {},
   "source": [
    "1. If $g(t)$ represents the growth of a child in pounds per year what does $\\int_2^8 g(t) ~ dt$ represent?"
   ]
  },
  {
   "cell_type": "markdown",
   "id": "c2d4ebe2",
   "metadata": {},
   "source": [
    "2. If oil leaks from a tank at a rate of $r(t)$ gallons per minute at time $t$ what does $\\int_0^{120} r(t) ~ dt$ represent?"
   ]
  },
  {
   "cell_type": "markdown",
   "id": "ecb70894",
   "metadata": {},
   "source": [
    "3. Marginal revenue is defined as the rate of change in revenue at some number of units sold $x$.   Given a marginal revenue function $r(x)$ what would $\\int_{100}^{500} r(x) ~ dx$ represent?"
   ]
  },
  {
   "cell_type": "code",
   "execution_count": null,
   "id": "f0b28713",
   "metadata": {},
   "outputs": [],
   "source": []
  },
  {
   "cell_type": "code",
   "execution_count": null,
   "id": "6a8adfcf",
   "metadata": {},
   "outputs": [],
   "source": []
  },
  {
   "cell_type": "code",
   "execution_count": null,
   "id": "d29c4a3f",
   "metadata": {},
   "outputs": [],
   "source": []
  },
  {
   "cell_type": "markdown",
   "id": "df548e00",
   "metadata": {},
   "source": [
    "### Using Data\n",
    "\n",
    "Often, we don't have clear definitions of functions to use in real world situations.  Instead, we have data at some point in time and measurements of the unit of interest."
   ]
  },
  {
   "cell_type": "code",
   "execution_count": 2,
   "id": "193820c7",
   "metadata": {},
   "outputs": [],
   "source": [
    "import pandas as pd"
   ]
  },
  {
   "cell_type": "code",
   "execution_count": 3,
   "id": "62748ef6",
   "metadata": {},
   "outputs": [
    {
     "data": {
      "text/html": [
       "<div>\n",
       "<style scoped>\n",
       "    .dataframe tbody tr th:only-of-type {\n",
       "        vertical-align: middle;\n",
       "    }\n",
       "\n",
       "    .dataframe tbody tr th {\n",
       "        vertical-align: top;\n",
       "    }\n",
       "\n",
       "    .dataframe thead th {\n",
       "        text-align: right;\n",
       "    }\n",
       "</style>\n",
       "<table border=\"1\" class=\"dataframe\">\n",
       "  <thead>\n",
       "    <tr style=\"text-align: right;\">\n",
       "      <th></th>\n",
       "      <th>t</th>\n",
       "      <th>v(t)</th>\n",
       "    </tr>\n",
       "  </thead>\n",
       "  <tbody>\n",
       "    <tr>\n",
       "      <th>0</th>\n",
       "      <td>0</td>\n",
       "      <td>0</td>\n",
       "    </tr>\n",
       "    <tr>\n",
       "      <th>1</th>\n",
       "      <td>10</td>\n",
       "      <td>38</td>\n",
       "    </tr>\n",
       "    <tr>\n",
       "      <th>2</th>\n",
       "      <td>20</td>\n",
       "      <td>52</td>\n",
       "    </tr>\n",
       "    <tr>\n",
       "      <th>3</th>\n",
       "      <td>30</td>\n",
       "      <td>58</td>\n",
       "    </tr>\n",
       "    <tr>\n",
       "      <th>4</th>\n",
       "      <td>40</td>\n",
       "      <td>55</td>\n",
       "    </tr>\n",
       "    <tr>\n",
       "      <th>5</th>\n",
       "      <td>50</td>\n",
       "      <td>51</td>\n",
       "    </tr>\n",
       "    <tr>\n",
       "      <th>6</th>\n",
       "      <td>60</td>\n",
       "      <td>56</td>\n",
       "    </tr>\n",
       "    <tr>\n",
       "      <th>7</th>\n",
       "      <td>70</td>\n",
       "      <td>53</td>\n",
       "    </tr>\n",
       "    <tr>\n",
       "      <th>8</th>\n",
       "      <td>80</td>\n",
       "      <td>50</td>\n",
       "    </tr>\n",
       "    <tr>\n",
       "      <th>9</th>\n",
       "      <td>90</td>\n",
       "      <td>47</td>\n",
       "    </tr>\n",
       "    <tr>\n",
       "      <th>10</th>\n",
       "      <td>100</td>\n",
       "      <td>45</td>\n",
       "    </tr>\n",
       "  </tbody>\n",
       "</table>\n",
       "</div>"
      ],
      "text/plain": [
       "      t  v(t)\n",
       "0     0     0\n",
       "1    10    38\n",
       "2    20    52\n",
       "3    30    58\n",
       "4    40    55\n",
       "5    50    51\n",
       "6    60    56\n",
       "7    70    53\n",
       "8    80    50\n",
       "9    90    47\n",
       "10  100    45"
      ]
     },
     "execution_count": 3,
     "metadata": {},
     "output_type": "execute_result"
    }
   ],
   "source": [
    "t = np.arange(0, 110, 10)\n",
    "v_t = [0, 38, 52, 58, 55, 51, 56, 53, 50, 47, 45]\n",
    "pd.DataFrame({'t': t,'v(t)': v_t})"
   ]
  },
  {
   "cell_type": "markdown",
   "id": "eeaef0fd",
   "metadata": {},
   "source": [
    "The table above represents the velocity of a car at some time $t$.  Use the data to create a plot of velocity at time $t$ and approximate the distance traveled over time 0 to 100. "
   ]
  },
  {
   "cell_type": "code",
   "execution_count": null,
   "id": "d71caec3",
   "metadata": {},
   "outputs": [],
   "source": []
  },
  {
   "cell_type": "code",
   "execution_count": null,
   "id": "a22f4cf8",
   "metadata": {},
   "outputs": [],
   "source": []
  },
  {
   "cell_type": "markdown",
   "id": "f379363c",
   "metadata": {},
   "source": [
    "The space shuttle *Endeavour* was launched in 1992 to install a new motor in an Intelat communications satellite. The velocity for the shuttle between liftoff and the jettison of solid rocket boosters is given below.  Estimate the height reachched by the *Endeavour* 125 seconds after liftoff."
   ]
  },
  {
   "cell_type": "code",
   "execution_count": 4,
   "id": "b1804161",
   "metadata": {},
   "outputs": [
    {
     "data": {
      "text/html": [
       "<div>\n",
       "<style scoped>\n",
       "    .dataframe tbody tr th:only-of-type {\n",
       "        vertical-align: middle;\n",
       "    }\n",
       "\n",
       "    .dataframe tbody tr th {\n",
       "        vertical-align: top;\n",
       "    }\n",
       "\n",
       "    .dataframe thead th {\n",
       "        text-align: right;\n",
       "    }\n",
       "</style>\n",
       "<table border=\"1\" class=\"dataframe\">\n",
       "  <thead>\n",
       "    <tr style=\"text-align: right;\">\n",
       "      <th></th>\n",
       "      <th>time (t)</th>\n",
       "      <th>velocity v(t)</th>\n",
       "    </tr>\n",
       "  </thead>\n",
       "  <tbody>\n",
       "    <tr>\n",
       "      <th>0</th>\n",
       "      <td>0</td>\n",
       "      <td>0</td>\n",
       "    </tr>\n",
       "    <tr>\n",
       "      <th>1</th>\n",
       "      <td>10</td>\n",
       "      <td>185</td>\n",
       "    </tr>\n",
       "    <tr>\n",
       "      <th>2</th>\n",
       "      <td>15</td>\n",
       "      <td>319</td>\n",
       "    </tr>\n",
       "    <tr>\n",
       "      <th>3</th>\n",
       "      <td>20</td>\n",
       "      <td>447</td>\n",
       "    </tr>\n",
       "    <tr>\n",
       "      <th>4</th>\n",
       "      <td>32</td>\n",
       "      <td>742</td>\n",
       "    </tr>\n",
       "    <tr>\n",
       "      <th>5</th>\n",
       "      <td>59</td>\n",
       "      <td>1325</td>\n",
       "    </tr>\n",
       "    <tr>\n",
       "      <th>6</th>\n",
       "      <td>62</td>\n",
       "      <td>1445</td>\n",
       "    </tr>\n",
       "    <tr>\n",
       "      <th>7</th>\n",
       "      <td>125</td>\n",
       "      <td>4151</td>\n",
       "    </tr>\n",
       "  </tbody>\n",
       "</table>\n",
       "</div>"
      ],
      "text/plain": [
       "   time (t)  velocity v(t)\n",
       "0         0              0\n",
       "1        10            185\n",
       "2        15            319\n",
       "3        20            447\n",
       "4        32            742\n",
       "5        59           1325\n",
       "6        62           1445\n",
       "7       125           4151"
      ]
     },
     "execution_count": 4,
     "metadata": {},
     "output_type": "execute_result"
    }
   ],
   "source": [
    "t = [0, 10, 15, 20, 32, 59, 62, 125]\n",
    "vt = [0, 185, 319, 447, 742, 1325, 1445, 4151]\n",
    "pd.DataFrame({'time (t)': t, 'velocity v(t)': vt})"
   ]
  },
  {
   "cell_type": "code",
   "execution_count": null,
   "id": "cd70966a",
   "metadata": {},
   "outputs": [],
   "source": []
  },
  {
   "cell_type": "code",
   "execution_count": null,
   "id": "35a3ce62",
   "metadata": {},
   "outputs": [],
   "source": []
  },
  {
   "cell_type": "markdown",
   "id": "642f0b71",
   "metadata": {},
   "source": [
    "#### Area Between Curves"
   ]
  },
  {
   "cell_type": "markdown",
   "id": "c9f7d682",
   "metadata": {},
   "source": [
    "![](images/areabtwn.png)"
   ]
  },
  {
   "cell_type": "code",
   "execution_count": 5,
   "id": "78139409",
   "metadata": {},
   "outputs": [],
   "source": [
    "def f(x): return x**2\n",
    "def g(x): return x**.5"
   ]
  },
  {
   "cell_type": "markdown",
   "id": "c18cdbba",
   "metadata": {},
   "source": [
    "1. Area between $y = x^2$ and $y = \\sqrt{x}$\n",
    "\n"
   ]
  },
  {
   "cell_type": "code",
   "execution_count": null,
   "id": "4eccded6",
   "metadata": {},
   "outputs": [],
   "source": []
  },
  {
   "cell_type": "code",
   "execution_count": null,
   "id": "8d4413f7",
   "metadata": {},
   "outputs": [],
   "source": []
  },
  {
   "cell_type": "code",
   "execution_count": null,
   "id": "ad16936a",
   "metadata": {},
   "outputs": [],
   "source": []
  },
  {
   "cell_type": "markdown",
   "id": "7259686c",
   "metadata": {},
   "source": [
    "2. Area between $y = x$ and $y = x^3$"
   ]
  },
  {
   "cell_type": "code",
   "execution_count": null,
   "id": "662513e8",
   "metadata": {},
   "outputs": [],
   "source": []
  },
  {
   "cell_type": "code",
   "execution_count": null,
   "id": "b6e6d223",
   "metadata": {},
   "outputs": [],
   "source": []
  },
  {
   "cell_type": "code",
   "execution_count": null,
   "id": "81e74314",
   "metadata": {},
   "outputs": [],
   "source": []
  },
  {
   "cell_type": "markdown",
   "id": "b75bec88",
   "metadata": {},
   "source": []
  },
  {
   "cell_type": "code",
   "execution_count": 6,
   "id": "c9152e66",
   "metadata": {},
   "outputs": [],
   "source": [
    "# x = np.linspace(0, 1, 100)\n",
    "# fig, ax = plt.subplots(1, 3, figsize = (15, 5))\n",
    "# ax[0].plot(x, f(x))\n",
    "# ax[0].fill_between(x, f(x))\n",
    "# ax[0].set_title(r'Area under $x^2$')\n",
    "\n",
    "# ax[1].plot(x, g(x))\n",
    "# ax[1].fill_between(x, g(x), color = 'orange')\n",
    "# ax[1].set_title(r'Area under $\\sqrt{x}$')\n",
    "# ax[2].plot(x, f(x))\n",
    "# ax[2].plot(x, g(x))\n",
    "# ax[2].fill_between(x, f(x), color = 'blue', alpha = 0.3)\n",
    "# ax[2].fill_between(x, g(x), color = 'orange', alpha = 0.3)\n",
    "# ax[2].set_title(r'Area between $\\sqrt{x}$ and $x^2$');\n",
    "# plt.savefig('areabtwn.png')"
   ]
  },
  {
   "cell_type": "code",
   "execution_count": null,
   "id": "7d5d2ebf",
   "metadata": {},
   "outputs": [],
   "source": []
  }
 ],
 "metadata": {
  "kernelspec": {
   "display_name": "Python 3",
   "language": "python",
   "name": "python3"
  },
  "language_info": {
   "codemirror_mode": {
    "name": "ipython",
    "version": 3
   },
   "file_extension": ".py",
   "mimetype": "text/x-python",
   "name": "python",
   "nbconvert_exporter": "python",
   "pygments_lexer": "ipython3",
   "version": "3.8.3"
  }
 },
 "nbformat": 4,
 "nbformat_minor": 5
}