{
 "cells": [
  {
   "cell_type": "markdown",
   "metadata": {},
   "source": [
    "### Homework 2: Plotting Functions and Sequences\n",
    "\n",
    "**OBJECTIVES**\n",
    "\n",
    "- Use Python to define and plot functions\n",
    "- Differentiate between linear, quadratic, exponential, and trigonometric sequences\n",
    "- Relate functions to data"
   ]
  },
  {
   "cell_type": "markdown",
   "metadata": {},
   "source": [
    "#### Problem 1: Importing Libraries\n",
    "\n",
    "Run the cell below to load in the `numpy` and `matplotlib` libraries."
   ]
  },
  {
   "cell_type": "code",
   "execution_count": 1,
   "metadata": {},
   "outputs": [],
   "source": [
    "import numpy as np\n",
    "import matplotlib.pyplot as plt"
   ]
  },
  {
   "cell_type": "markdown",
   "metadata": {},
   "source": [
    "#### Problem 2: Using a function\n",
    "\n",
    "Below, the function $s(x) = x^2$ is defined. Use the function to evaluate $f(100)$."
   ]
  },
  {
   "cell_type": "code",
   "execution_count": 2,
   "metadata": {},
   "outputs": [],
   "source": [
    "def s(x):\n",
    "    return x**2"
   ]
  },
  {
   "cell_type": "code",
   "execution_count": 3,
   "metadata": {},
   "outputs": [],
   "source": [
    "#your answer here\n"
   ]
  },
  {
   "cell_type": "markdown",
   "metadata": {},
   "source": [
    "#### Problem 3: Using `np.arange`\n",
    "\n",
    "Use the `np.arange` function to create the following sequences below:\n",
    "\n",
    "a. $x1 = [0, 1, 2, 3, ..., 9, 10]$\n",
    "\n",
    "b. $x2 = [10, 10.1, 10.2, ..., 10.9, 11]$\n",
    "\n",
    "c. $x3 = [0, 0.01, 0.02, 0.03, ..., 9.98, 9.99, 10.0]$\n",
    "\n",
    "d. $x4 = [-\\pi, -\\pi/2, 0, \\pi/2, \\pi]$"
   ]
  },
  {
   "cell_type": "code",
   "execution_count": 4,
   "metadata": {},
   "outputs": [],
   "source": [
    "# answer for x1\n"
   ]
  },
  {
   "cell_type": "code",
   "execution_count": 5,
   "metadata": {},
   "outputs": [],
   "source": [
    "# answer for x2\n"
   ]
  },
  {
   "cell_type": "code",
   "execution_count": 6,
   "metadata": {},
   "outputs": [],
   "source": [
    "# answer for x3\n"
   ]
  },
  {
   "cell_type": "code",
   "execution_count": 7,
   "metadata": {},
   "outputs": [],
   "source": [
    "# answer for x4\n"
   ]
  },
  {
   "cell_type": "markdown",
   "metadata": {},
   "source": [
    "#### Problem 4: Defining Functions\n",
    "\n",
    "Use code cells to define each of the following functions:\n",
    "\n",
    "1. $f(x) = \\frac{1}{x^2}$\n",
    "2. $g(x) = 3x + 1$\n",
    "3. $h(x) = \\frac{x^2 - 9}{x + 3}$"
   ]
  },
  {
   "cell_type": "code",
   "execution_count": 8,
   "metadata": {},
   "outputs": [],
   "source": [
    "#f\n"
   ]
  },
  {
   "cell_type": "code",
   "execution_count": 9,
   "metadata": {},
   "outputs": [],
   "source": [
    "#g\n"
   ]
  },
  {
   "cell_type": "code",
   "execution_count": 10,
   "metadata": {},
   "outputs": [],
   "source": [
    "#h\n"
   ]
  },
  {
   "cell_type": "markdown",
   "metadata": {},
   "source": [
    "#### Problem 5: Plotting functions\n",
    "\n",
    "Use `x` defined below to create a plot for the functions $f(x), g(x)$, and $h(x)$ from problem 4 below."
   ]
  },
  {
   "cell_type": "code",
   "execution_count": 11,
   "metadata": {},
   "outputs": [],
   "source": [
    "x = np.arange(-5, 5, .1)"
   ]
  },
  {
   "cell_type": "code",
   "execution_count": 12,
   "metadata": {},
   "outputs": [],
   "source": [
    "#plot f\n"
   ]
  },
  {
   "cell_type": "code",
   "execution_count": 13,
   "metadata": {},
   "outputs": [],
   "source": [
    "#plot g\n"
   ]
  },
  {
   "cell_type": "code",
   "execution_count": 14,
   "metadata": {},
   "outputs": [],
   "source": [
    "#plot h\n"
   ]
  },
  {
   "cell_type": "markdown",
   "metadata": {},
   "source": [
    "#### Problem 6: From words to graphs\n",
    "\n",
    "For each of the problems below, your goal is to represent the situation as a closed form function.  Plot the function on an appropriate domain."
   ]
  },
  {
   "cell_type": "markdown",
   "metadata": {},
   "source": [
    "1. Steve owns a Tesla car.  When he leaves his house it has a charge of 70 units.  Every mile Steve travels consumes .23 units from the battery.  Let $q(x)$ represent the amount of charge after $x$ miles.\n",
    "\n",
    "2. A student borrows \\\\$10,000 from an online bank with a great social media advertising team.  He has to pay the bank back at simple interest, calculated as .6% per month.  Determine an equation that represents the balance after $n$ months assuming no payments.  Can you incorporate a term to represent a fixed monthly payment in the amount $p$ and see how long it would take to pay off the loan making \\\\$200 monthly payments?"
   ]
  },
  {
   "cell_type": "markdown",
   "metadata": {},
   "source": [
    "3. A company manufactures bags.  The total cost for a single bag to be made with both materials and labor is \\\\$18.  The company also has expenses of \\\\$5,000 per month for rent, insurance, and utilities that are independent of the number of bags made.  Determine a function $b(x)$ that determines the monthly cost of the business when $x$ bags are produced."
   ]
  },
  {
   "cell_type": "code",
   "execution_count": null,
   "metadata": {},
   "outputs": [],
   "source": []
  },
  {
   "cell_type": "code",
   "execution_count": null,
   "metadata": {},
   "outputs": [],
   "source": []
  },
  {
   "cell_type": "code",
   "execution_count": null,
   "metadata": {},
   "outputs": [],
   "source": []
  },
  {
   "cell_type": "code",
   "execution_count": null,
   "metadata": {},
   "outputs": [],
   "source": []
  },
  {
   "cell_type": "markdown",
   "metadata": {},
   "source": [
    "#### Problem 7: Graphs to Symbols\n",
    "\n",
    "Below, a dataset containing basic macroeconomic variables displayed below is loaded and plotted.  Approximate by eye stimate a linear function that models the data?  This should be of the form $f(g) = \\text{unemployment}$ where $g$ is the GNP."
   ]
  },
  {
   "cell_type": "code",
   "execution_count": 15,
   "metadata": {},
   "outputs": [],
   "source": [
    "import statsmodels.api as sm"
   ]
  },
  {
   "cell_type": "code",
   "execution_count": 16,
   "metadata": {},
   "outputs": [
    {
     "data": {
      "text/html": [
       "<div>\n",
       "<style scoped>\n",
       "    .dataframe tbody tr th:only-of-type {\n",
       "        vertical-align: middle;\n",
       "    }\n",
       "\n",
       "    .dataframe tbody tr th {\n",
       "        vertical-align: top;\n",
       "    }\n",
       "\n",
       "    .dataframe thead th {\n",
       "        text-align: right;\n",
       "    }\n",
       "</style>\n",
       "<table border=\"1\" class=\"dataframe\">\n",
       "  <thead>\n",
       "    <tr style=\"text-align: right;\">\n",
       "      <th></th>\n",
       "      <th>TOTEMP</th>\n",
       "      <th>GNPDEFL</th>\n",
       "      <th>GNP</th>\n",
       "      <th>UNEMP</th>\n",
       "      <th>ARMED</th>\n",
       "      <th>POP</th>\n",
       "      <th>YEAR</th>\n",
       "    </tr>\n",
       "  </thead>\n",
       "  <tbody>\n",
       "    <tr>\n",
       "      <th>0</th>\n",
       "      <td>60323.0</td>\n",
       "      <td>83.0</td>\n",
       "      <td>234289.0</td>\n",
       "      <td>2356.0</td>\n",
       "      <td>1590.0</td>\n",
       "      <td>107608.0</td>\n",
       "      <td>1947.0</td>\n",
       "    </tr>\n",
       "    <tr>\n",
       "      <th>1</th>\n",
       "      <td>61122.0</td>\n",
       "      <td>88.5</td>\n",
       "      <td>259426.0</td>\n",
       "      <td>2325.0</td>\n",
       "      <td>1456.0</td>\n",
       "      <td>108632.0</td>\n",
       "      <td>1948.0</td>\n",
       "    </tr>\n",
       "    <tr>\n",
       "      <th>2</th>\n",
       "      <td>60171.0</td>\n",
       "      <td>88.2</td>\n",
       "      <td>258054.0</td>\n",
       "      <td>3682.0</td>\n",
       "      <td>1616.0</td>\n",
       "      <td>109773.0</td>\n",
       "      <td>1949.0</td>\n",
       "    </tr>\n",
       "    <tr>\n",
       "      <th>3</th>\n",
       "      <td>61187.0</td>\n",
       "      <td>89.5</td>\n",
       "      <td>284599.0</td>\n",
       "      <td>3351.0</td>\n",
       "      <td>1650.0</td>\n",
       "      <td>110929.0</td>\n",
       "      <td>1950.0</td>\n",
       "    </tr>\n",
       "    <tr>\n",
       "      <th>4</th>\n",
       "      <td>63221.0</td>\n",
       "      <td>96.2</td>\n",
       "      <td>328975.0</td>\n",
       "      <td>2099.0</td>\n",
       "      <td>3099.0</td>\n",
       "      <td>112075.0</td>\n",
       "      <td>1951.0</td>\n",
       "    </tr>\n",
       "  </tbody>\n",
       "</table>\n",
       "</div>"
      ],
      "text/plain": [
       "    TOTEMP  GNPDEFL       GNP   UNEMP   ARMED       POP    YEAR\n",
       "0  60323.0     83.0  234289.0  2356.0  1590.0  107608.0  1947.0\n",
       "1  61122.0     88.5  259426.0  2325.0  1456.0  108632.0  1948.0\n",
       "2  60171.0     88.2  258054.0  3682.0  1616.0  109773.0  1949.0\n",
       "3  61187.0     89.5  284599.0  3351.0  1650.0  110929.0  1950.0\n",
       "4  63221.0     96.2  328975.0  2099.0  3099.0  112075.0  1951.0"
      ]
     },
     "execution_count": 16,
     "metadata": {},
     "output_type": "execute_result"
    }
   ],
   "source": [
    "longley = sm.datasets.longley.data.load_pandas()\n",
    "data = longley.data\n",
    "data.head()"
   ]
  },
  {
   "cell_type": "code",
   "execution_count": 17,
   "metadata": {},
   "outputs": [
    {
     "data": {
      "image/png": "[encoded data removed]",
      "text/plain": [
       "<Figure size 432x288 with 1 Axes>"
      ]
     },
     "metadata": {
      "filenames": {
       "image/png": "/Users/jacobkoehler/Desktop/spring_22/calcbook23/_build/jupyter_execute/assignment_II_30_0.png"
      },
      "needs_background": "light"
     },
     "output_type": "display_data"
    }
   ],
   "source": [
    "plt.scatter(data['GNP'], data['UNEMP'])\n",
    "plt.xlabel('GNP')\n",
    "plt.ylabel(\"Unemployment\")\n",
    "plt.title('GNP vs. Unemployment');"
   ]
  },
  {
   "cell_type": "code",
   "execution_count": null,
   "metadata": {},
   "outputs": [],
   "source": []
  },
  {
   "cell_type": "markdown",
   "metadata": {},
   "source": [
    "#### Problem 8: Table to Symbols\n",
    "\n",
    "Below is a table of U.S. automobiles through time.  Your goal is to plot the data and determine a linear function to model the data.  \n",
    "\n",
    "| Year | Automobiles |\n",
    "| ----- | ------- |\n",
    "| 1940  |  27.5  |\n",
    "| 1950. | 40.3. |\n",
    "| 1960  |  61.7  |\n",
    "| 1970  |  89.3. |\n",
    "| 1980  | 121.6. |\n",
    "| 1986. | 135.4 |\n",
    "\n",
    "Use your function to predict how many automobiles there would be in the year 2000."
   ]
  },
  {
   "cell_type": "code",
   "execution_count": null,
   "metadata": {},
   "outputs": [],
   "source": []
  },
  {
   "cell_type": "code",
   "execution_count": null,
   "metadata": {},
   "outputs": [],
   "source": []
  },
  {
   "cell_type": "markdown",
   "metadata": {},
   "source": [
    "#### Problem 9: Supply and Demand\n",
    "\n",
    "Use the table below to answer the following questions.\n",
    "\n",
    "| Price | Demand | Supply |\n",
    "| ----- | ----- | ------- |\n",
    "| 120. | 50 | 36 |\n",
    "| 150 | 40 | 40 |\n",
    "| 180. | 32 | 48 |\n",
    "| 210 | 28 | 56 |\n",
    "| 240 | 24 | 70 |\n",
    "\n",
    "1. Plot price vs. demand.  \n",
    "2. Plot supply vs. demand.\n",
    "3. At what price is the supply equal to 100?  Explain.\n",
    "4. If the price is 130, what would the quantity supplied and demanded be?  Who is in a better position here -- producer or consumer?\n",
    "5. If the price is 200, what would the quantity supplied and demanded be?  Who is in a better position here -- producer or consumer?"
   ]
  },
  {
   "cell_type": "code",
   "execution_count": null,
   "metadata": {},
   "outputs": [],
   "source": []
  },
  {
   "cell_type": "code",
   "execution_count": null,
   "metadata": {},
   "outputs": [],
   "source": []
  },
  {
   "cell_type": "code",
   "execution_count": null,
   "metadata": {},
   "outputs": [],
   "source": []
  },
  {
   "cell_type": "code",
   "execution_count": null,
   "metadata": {},
   "outputs": [],
   "source": []
  },
  {
   "cell_type": "code",
   "execution_count": null,
   "metadata": {},
   "outputs": [],
   "source": []
  },
  {
   "cell_type": "markdown",
   "metadata": {},
   "source": [
    "#### Problem 10: Pascal's Triangle\n",
    "\n",
    "Watch the Numberphile video below on patterns in Pascal's triangle.  Identify one pattern you find interesting and discuss this below.  Create a plot of the pattern (sequence) below."
   ]
  },
  {
   "cell_type": "code",
   "execution_count": 18,
   "metadata": {},
   "outputs": [],
   "source": [
    "from IPython.display import YouTubeVideo"
   ]
  },
  {
   "cell_type": "code",
   "execution_count": 19,
   "metadata": {},
   "outputs": [
    {
     "data": {
      "image/jpeg": "[encoded data removed]",
      "text/html": [
       "\n",
       "<iframe\n",
       "    width=\"400\"\n",
       "    height=\"300\"\n",
       "    src=\"https://www.youtube.com/embed/0iMtlus-afo\"\n",
       "    frameborder=\"0\"\n",
       "    allowfullscreen\n",
       "></iframe>\n"
      ],
      "text/plain": [
       "<IPython.lib.display.YouTubeVideo at 0x7fbef7d45310>"
      ]
     },
     "execution_count": 19,
     "metadata": {
      "filenames": {
       "image/jpeg": "/Users/jacobkoehler/Desktop/spring_22/calcbook23/_build/jupyter_execute/assignment_II_43_0.jpg"
      }
     },
     "output_type": "execute_result"
    }
   ],
   "source": [
    "YouTubeVideo(id = '0iMtlus-afo')"
   ]
  },
  {
   "cell_type": "code",
   "execution_count": null,
   "metadata": {},
   "outputs": [],
   "source": []
  },
  {
   "cell_type": "code",
   "execution_count": null,
   "metadata": {},
   "outputs": [],
   "source": []
  },
  {
   "cell_type": "code",
   "execution_count": null,
   "metadata": {},
   "outputs": [],
   "source": []
  },
  {
   "cell_type": "code",
   "execution_count": null,
   "metadata": {},
   "outputs": [],
   "source": []
  }
 ],
 "metadata": {
  "kernelspec": {
   "display_name": "Python 3",
   "language": "python",
   "name": "python3"
  },
  "language_info": {
   "codemirror_mode": {
    "name": "ipython",
    "version": 3
   },
   "file_extension": ".py",
   "mimetype": "text/x-python",
   "name": "python",
   "nbconvert_exporter": "python",
   "pygments_lexer": "ipython3",
   "version": "3.8.3"
  }
 },
 "nbformat": 4,
 "nbformat_minor": 4
}